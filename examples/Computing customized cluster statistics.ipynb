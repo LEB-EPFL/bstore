{
 "cells": [
  {
   "cell_type": "markdown",
   "metadata": {},
   "source": [
    "B-Store can compute statistics describing localizations that have been spatially clustered. Some commonly desired statistics are the cluster's center-of-mass and the number of localizations in the cluster. By default, B-Store computes \n",
    "\n",
    "1. the cluster center of mass\n",
    "2. the number of localizations\n",
    "3. the radius of gyration of the cluster\n",
    "4. the eccentricity of the cluster\n",
    "5. the cluster's convex hull (only if pyhull is installed)\n",
    "\n",
    "Besides these built-in statistics, B-Store allows the user to define their own functions for computing cluster statistics. This example shows how to do this."
   ]
  },
  {
   "cell_type": "code",
   "execution_count": 1,
   "metadata": {
    "collapsed": false
   },
   "outputs": [
    {
     "name": "stdout",
     "output_type": "stream",
     "text": [
      "Populating the interactive namespace from numpy and matplotlib\n"
     ]
    }
   ],
   "source": [
    "%pylab inline\n",
    "from bstore import processors as proc\n",
    "from pathlib import Path\n",
    "import pandas as pd"
   ]
  },
  {
   "cell_type": "markdown",
   "metadata": {
    "collapsed": true
   },
   "source": [
    "# Load the test data\n",
    "The test data for this example is in the [B-Store test files repository](https://github.com/kmdouglass/bstore_test_files). Download or clone this repository, and set the variable below to point to */processor_test_files/test_cluster_stats.csv*"
   ]
  },
  {
   "cell_type": "code",
   "execution_count": 2,
   "metadata": {
    "collapsed": true
   },
   "outputs": [],
   "source": [
    "pathToData = Path('../../bstore_test_files/processor_test_files/test_cluster_stats.csv')\n",
    "\n",
    "with open(str(pathToData), mode = 'r') as file:\n",
    "    df = pd.read_csv(file)"
   ]
  },
  {
   "cell_type": "code",
   "execution_count": 3,
   "metadata": {
    "collapsed": false
   },
   "outputs": [
    {
     "data": {
      "text/html": [
       "<div>\n",
       "<table border=\"1\" class=\"dataframe\">\n",
       "  <thead>\n",
       "    <tr style=\"text-align: right;\">\n",
       "      <th></th>\n",
       "      <th>x [nm]</th>\n",
       "      <th>y [nm]</th>\n",
       "      <th>frame</th>\n",
       "      <th>z [nm]</th>\n",
       "      <th>uncertainty [nm]</th>\n",
       "      <th>intensity [photon]</th>\n",
       "      <th>offset [photon]</th>\n",
       "      <th>loglikelihood</th>\n",
       "      <th>sigma [nm]</th>\n",
       "      <th>cluster_id</th>\n",
       "    </tr>\n",
       "  </thead>\n",
       "  <tbody>\n",
       "    <tr>\n",
       "      <th>0</th>\n",
       "      <td>-0.5</td>\n",
       "      <td>-0.5</td>\n",
       "      <td>0.0</td>\n",
       "      <td>0.0</td>\n",
       "      <td>10.021870</td>\n",
       "      <td>939.780732</td>\n",
       "      <td>80.219038</td>\n",
       "      <td>161.494040</td>\n",
       "      <td>155.721151</td>\n",
       "      <td>0</td>\n",
       "    </tr>\n",
       "    <tr>\n",
       "      <th>1</th>\n",
       "      <td>-0.5</td>\n",
       "      <td>0.5</td>\n",
       "      <td>0.0</td>\n",
       "      <td>0.0</td>\n",
       "      <td>9.408785</td>\n",
       "      <td>823.403821</td>\n",
       "      <td>95.393895</td>\n",
       "      <td>209.190424</td>\n",
       "      <td>144.446742</td>\n",
       "      <td>0</td>\n",
       "    </tr>\n",
       "    <tr>\n",
       "      <th>2</th>\n",
       "      <td>0.5</td>\n",
       "      <td>-0.5</td>\n",
       "      <td>0.0</td>\n",
       "      <td>0.0</td>\n",
       "      <td>10.333715</td>\n",
       "      <td>952.012166</td>\n",
       "      <td>98.656850</td>\n",
       "      <td>243.701264</td>\n",
       "      <td>94.320590</td>\n",
       "      <td>0</td>\n",
       "    </tr>\n",
       "    <tr>\n",
       "      <th>3</th>\n",
       "      <td>0.5</td>\n",
       "      <td>0.5</td>\n",
       "      <td>0.0</td>\n",
       "      <td>0.0</td>\n",
       "      <td>10.626735</td>\n",
       "      <td>1199.351397</td>\n",
       "      <td>88.166699</td>\n",
       "      <td>218.270532</td>\n",
       "      <td>132.115268</td>\n",
       "      <td>0</td>\n",
       "    </tr>\n",
       "    <tr>\n",
       "      <th>4</th>\n",
       "      <td>0.0</td>\n",
       "      <td>0.0</td>\n",
       "      <td>0.0</td>\n",
       "      <td>0.0</td>\n",
       "      <td>9.765064</td>\n",
       "      <td>955.466949</td>\n",
       "      <td>96.280657</td>\n",
       "      <td>214.759480</td>\n",
       "      <td>117.792403</td>\n",
       "      <td>0</td>\n",
       "    </tr>\n",
       "    <tr>\n",
       "      <th>5</th>\n",
       "      <td>8.0</td>\n",
       "      <td>1.0</td>\n",
       "      <td>0.0</td>\n",
       "      <td>0.0</td>\n",
       "      <td>9.876863</td>\n",
       "      <td>1078.617481</td>\n",
       "      <td>104.159719</td>\n",
       "      <td>159.946843</td>\n",
       "      <td>135.698560</td>\n",
       "      <td>1</td>\n",
       "    </tr>\n",
       "    <tr>\n",
       "      <th>6</th>\n",
       "      <td>8.0</td>\n",
       "      <td>3.0</td>\n",
       "      <td>0.0</td>\n",
       "      <td>0.0</td>\n",
       "      <td>12.155545</td>\n",
       "      <td>989.443663</td>\n",
       "      <td>89.928289</td>\n",
       "      <td>147.019781</td>\n",
       "      <td>155.021342</td>\n",
       "      <td>1</td>\n",
       "    </tr>\n",
       "    <tr>\n",
       "      <th>7</th>\n",
       "      <td>12.0</td>\n",
       "      <td>1.0</td>\n",
       "      <td>0.0</td>\n",
       "      <td>0.0</td>\n",
       "      <td>10.104455</td>\n",
       "      <td>1034.073165</td>\n",
       "      <td>106.581499</td>\n",
       "      <td>201.612959</td>\n",
       "      <td>126.016791</td>\n",
       "      <td>1</td>\n",
       "    </tr>\n",
       "    <tr>\n",
       "      <th>8</th>\n",
       "      <td>12.0</td>\n",
       "      <td>3.0</td>\n",
       "      <td>0.0</td>\n",
       "      <td>0.0</td>\n",
       "      <td>8.893435</td>\n",
       "      <td>1050.715863</td>\n",
       "      <td>91.599433</td>\n",
       "      <td>199.450961</td>\n",
       "      <td>122.429116</td>\n",
       "      <td>1</td>\n",
       "    </tr>\n",
       "    <tr>\n",
       "      <th>9</th>\n",
       "      <td>10.0</td>\n",
       "      <td>2.0</td>\n",
       "      <td>0.0</td>\n",
       "      <td>0.0</td>\n",
       "      <td>10.755980</td>\n",
       "      <td>1105.557538</td>\n",
       "      <td>100.467041</td>\n",
       "      <td>162.443624</td>\n",
       "      <td>151.329622</td>\n",
       "      <td>1</td>\n",
       "    </tr>\n",
       "  </tbody>\n",
       "</table>\n",
       "</div>"
      ],
      "text/plain": [
       "   x [nm]  y [nm]  frame  z [nm]  uncertainty [nm]  intensity [photon]  \\\n",
       "0    -0.5    -0.5    0.0     0.0         10.021870          939.780732   \n",
       "1    -0.5     0.5    0.0     0.0          9.408785          823.403821   \n",
       "2     0.5    -0.5    0.0     0.0         10.333715          952.012166   \n",
       "3     0.5     0.5    0.0     0.0         10.626735         1199.351397   \n",
       "4     0.0     0.0    0.0     0.0          9.765064          955.466949   \n",
       "5     8.0     1.0    0.0     0.0          9.876863         1078.617481   \n",
       "6     8.0     3.0    0.0     0.0         12.155545          989.443663   \n",
       "7    12.0     1.0    0.0     0.0         10.104455         1034.073165   \n",
       "8    12.0     3.0    0.0     0.0          8.893435         1050.715863   \n",
       "9    10.0     2.0    0.0     0.0         10.755980         1105.557538   \n",
       "\n",
       "   offset [photon]  loglikelihood  sigma [nm]  cluster_id  \n",
       "0        80.219038     161.494040  155.721151           0  \n",
       "1        95.393895     209.190424  144.446742           0  \n",
       "2        98.656850     243.701264   94.320590           0  \n",
       "3        88.166699     218.270532  132.115268           0  \n",
       "4        96.280657     214.759480  117.792403           0  \n",
       "5       104.159719     159.946843  135.698560           1  \n",
       "6        89.928289     147.019781  155.021342           1  \n",
       "7       106.581499     201.612959  126.016791           1  \n",
       "8        91.599433     199.450961  122.429116           1  \n",
       "9       100.467041     162.443624  151.329622           1  "
      ]
     },
     "execution_count": 3,
     "metadata": {},
     "output_type": "execute_result"
    }
   ],
   "source": [
    "df"
   ]
  },
  {
   "cell_type": "markdown",
   "metadata": {},
   "source": [
    "The test dataset has 10 localizations and two clusters. The clusters are identified by `0` and `1` in the `cluster_id` column. Let's go ahead and visualize these localizations."
   ]
  },
  {
   "cell_type": "code",
   "execution_count": 4,
   "metadata": {
    "collapsed": false
   },
   "outputs": [
    {
     "data": {
      "image/png": "[encoded data removed]",
      "text/plain": [
       "<Figure size 432x288 with 1 Axes>"
      ]
     },
     "metadata": {},
     "output_type": "display_data"
    }
   ],
   "source": [
    "plt.scatter(df['x [nm]'], df['y [nm]'])\n",
    "plt.xlabel('x-position')\n",
    "plt.ylabel('y-position')\n",
    "plt.axis('equal')\n",
    "plt.grid(True)\n",
    "plt.show()"
   ]
  },
  {
   "cell_type": "markdown",
   "metadata": {},
   "source": [
    "# Compute the default statistics\n",
    "Before customizing the behavior of the `ComputeClusterStats` processor, let's see how its default behavior works. First, we define the processor and tell it which columns to use as localization coordinates (by default it uses `['x', 'y']`) and which column to use as the cluster label (by default it uses `cluster_id`)."
   ]
  },
  {
   "cell_type": "code",
   "execution_count": 5,
   "metadata": {
    "collapsed": true
   },
   "outputs": [],
   "source": [
    "# We don't need to set idLabel; the default value of 'cluster_id' is fine.\n",
    "statProc = proc.ComputeClusterStats(coordCols = ['x [nm]', 'y [nm]'])"
   ]
  },
  {
   "cell_type": "code",
   "execution_count": 6,
   "metadata": {
    "collapsed": false
   },
   "outputs": [
    {
     "data": {
      "text/html": [
       "<div>\n",
       "<table border=\"1\" class=\"dataframe\">\n",
       "  <thead>\n",
       "    <tr style=\"text-align: right;\">\n",
       "      <th></th>\n",
       "      <th>cluster_id</th>\n",
       "      <th>x [nm]_center</th>\n",
       "      <th>y [nm]_center</th>\n",
       "      <th>number_of_localizations</th>\n",
       "      <th>convex_hull</th>\n",
       "      <th>eccentricity</th>\n",
       "      <th>radius_of_gyration</th>\n",
       "    </tr>\n",
       "  </thead>\n",
       "  <tbody>\n",
       "    <tr>\n",
       "      <th>0</th>\n",
       "      <td>0</td>\n",
       "      <td>0.0</td>\n",
       "      <td>0.0</td>\n",
       "      <td>5</td>\n",
       "      <td>1.0</td>\n",
       "      <td>1.0</td>\n",
       "      <td>0.632456</td>\n",
       "    </tr>\n",
       "    <tr>\n",
       "      <th>1</th>\n",
       "      <td>1</td>\n",
       "      <td>10.0</td>\n",
       "      <td>2.0</td>\n",
       "      <td>5</td>\n",
       "      <td>8.0</td>\n",
       "      <td>4.0</td>\n",
       "      <td>2.000000</td>\n",
       "    </tr>\n",
       "  </tbody>\n",
       "</table>\n",
       "</div>"
      ],
      "text/plain": [
       "   cluster_id  x [nm]_center  y [nm]_center  number_of_localizations  \\\n",
       "0           0            0.0            0.0                        5   \n",
       "1           1           10.0            2.0                        5   \n",
       "\n",
       "   convex_hull  eccentricity  radius_of_gyration  \n",
       "0          1.0           1.0            0.632456  \n",
       "1          8.0           4.0            2.000000  "
      ]
     },
     "execution_count": 6,
     "metadata": {},
     "output_type": "execute_result"
    }
   ],
   "source": [
    "# Apply the processor to the test data\n",
    "statProc(df)"
   ]
  },
  {
   "cell_type": "markdown",
   "metadata": {},
   "source": [
    "As you can see, `ComputeClusterStats` outputs the clusters' centers of mass, number of localizations, radius of gyration, and eccentricity by default. (You will also see the convex hull if [pyhull](https://pythonhosted.org/pyhull/) is installed.)"
   ]
  },
  {
   "cell_type": "markdown",
   "metadata": {},
   "source": [
    "# Computing customized clustered statistics\n",
    "What if you want to compute some custom statistics from your clusters?\n",
    "\n",
    "This is possible by writing a function that operates on the coordinates of each localization and produces a single number for each cluster. This function is then given a name and fed to `ComputeClusterStats`'s constructor. Everytime your new `ComputeClusterStats` object is executed, you will receive your custom statistic.\n",
    "\n",
    "For example, let's say that you need to know a statistic for each cluster that can be computed by multiplying the coordinate values of each localization by two, taking the variance of the results, and then summing the variances. We can write a function do this like so:"
   ]
  },
  {
   "cell_type": "code",
   "execution_count": 7,
   "metadata": {
    "collapsed": true
   },
   "outputs": [],
   "source": [
    "def VarTimesTwo(group, coordinates, zCoordinate):\n",
    "        # Multiples each localization position by 2, then computes\n",
    "        # the sum of the variances. This is a bit silly but serves\n",
    "        # as a good example. We also don't use the z-coordinate in\n",
    "        # this example, but we must still provide it as an argument\n",
    "        # because other stats functions might use it.\n",
    "        variances = group[coordinates].apply(lambda x: x * 2).var(ddof=0)\n",
    "        return variances.sum()"
   ]
  },
  {
   "cell_type": "markdown",
   "metadata": {},
   "source": [
    "Maybe we also care to know a statistic where the multiplication is by 3 instead of two:"
   ]
  },
  {
   "cell_type": "code",
   "execution_count": 8,
   "metadata": {
    "collapsed": true
   },
   "outputs": [],
   "source": [
    "def VarTimesThree(group, coordinates, zCoordinate):\n",
    "        # Multiples each localization position by 3, then computes\n",
    "        # the sum of the variances.\n",
    "        variances = group[coordinates].apply(lambda x: x * 3).var(ddof=0)\n",
    "        return variances.sum()"
   ]
  },
  {
   "cell_type": "markdown",
   "metadata": {},
   "source": [
    "Each custom function you write should take two arguments: `group` and `coordinates`. The `group` argument is a Python [Pandas GroupBy](http://pandas.pydata.org/pandas-docs/stable/groupby.html) object. Essentially, this represents DataFrames that only contain rows where the `cluster_id` value is equal. The `coordinates` column will hold the names of the x and y-coordinates that you supplied to the `ComputeClusterStats`'s `coordCols` argument.\n",
    "\n",
    "For the purpose of this example, I wouldn't worry about the details of what each function is doing. The important thing here is that you can do whatever operation you want to on the coordinate columns for each cluster, so long as the function that does so returns a single number that's computed from the coordinates.\n",
    "\n",
    "Now, we place each function into a [dictionary](https://docs.python.org/3.5/library/stdtypes.html#mapping-types-dict) whose keys will represent the names of the new columns and whose values are the functions we just created. This dictionary is passed to the `statsFunctions` argument of a new `ComputeClusterStats` object."
   ]
  },
  {
   "cell_type": "code",
   "execution_count": 9,
   "metadata": {
    "collapsed": false
   },
   "outputs": [
    {
     "data": {
      "text/html": [
       "<div>\n",
       "<table border=\"1\" class=\"dataframe\">\n",
       "  <thead>\n",
       "    <tr style=\"text-align: right;\">\n",
       "      <th></th>\n",
       "      <th>cluster_id</th>\n",
       "      <th>x [nm]_center</th>\n",
       "      <th>y [nm]_center</th>\n",
       "      <th>number_of_localizations</th>\n",
       "      <th>three var</th>\n",
       "      <th>convex_hull</th>\n",
       "      <th>eccentricity</th>\n",
       "      <th>radius_of_gyration</th>\n",
       "      <th>var times two</th>\n",
       "    </tr>\n",
       "  </thead>\n",
       "  <tbody>\n",
       "    <tr>\n",
       "      <th>0</th>\n",
       "      <td>0</td>\n",
       "      <td>0.0</td>\n",
       "      <td>0.0</td>\n",
       "      <td>5</td>\n",
       "      <td>3.6</td>\n",
       "      <td>1.0</td>\n",
       "      <td>1.0</td>\n",
       "      <td>0.632456</td>\n",
       "      <td>1.6</td>\n",
       "    </tr>\n",
       "    <tr>\n",
       "      <th>1</th>\n",
       "      <td>1</td>\n",
       "      <td>10.0</td>\n",
       "      <td>2.0</td>\n",
       "      <td>5</td>\n",
       "      <td>36.0</td>\n",
       "      <td>8.0</td>\n",
       "      <td>4.0</td>\n",
       "      <td>2.000000</td>\n",
       "      <td>16.0</td>\n",
       "    </tr>\n",
       "  </tbody>\n",
       "</table>\n",
       "</div>"
      ],
      "text/plain": [
       "   cluster_id  x [nm]_center  y [nm]_center  number_of_localizations  \\\n",
       "0           0            0.0            0.0                        5   \n",
       "1           1           10.0            2.0                        5   \n",
       "\n",
       "   three var  convex_hull  eccentricity  radius_of_gyration  var times two  \n",
       "0        3.6          1.0           1.0            0.632456            1.6  \n",
       "1       36.0          8.0           4.0            2.000000           16.0  "
      ]
     },
     "execution_count": 9,
     "metadata": {},
     "output_type": "execute_result"
    }
   ],
   "source": [
    "# Add the two new functions to a dictionary.\n",
    "# 'var times two' and 'three var' will be the\n",
    "# names of the columns containing the cluster\n",
    "# statistics\n",
    "customStats = {'var times two' : VarTimesTwo,\n",
    "               'three var'     : VarTimesThree}\n",
    "\n",
    "# Create the new processor\n",
    "newStatsProc = proc.ComputeClusterStats(coordCols = ['x [nm]', 'y [nm]'],\n",
    "                                        statsFunctions= customStats)\n",
    "\n",
    "# Compute the statistics\n",
    "newStatsProc(df)"
   ]
  },
  {
   "cell_type": "markdown",
   "metadata": {},
   "source": [
    "This returns a DataFrame containing two new columns matching the names we set in the dictionary."
   ]
  },
  {
   "cell_type": "markdown",
   "metadata": {},
   "source": [
    "# Computing statistics over z-coordinates\n",
    "\n",
    "As mentioned above, the statsFunctions must also accept a z-coordinate argument. Here's how we would use it."
   ]
  },
  {
   "cell_type": "code",
   "execution_count": 10,
   "metadata": {
    "collapsed": false
   },
   "outputs": [
    {
     "data": {
      "text/html": [
       "<div>\n",
       "<table border=\"1\" class=\"dataframe\">\n",
       "  <thead>\n",
       "    <tr style=\"text-align: right;\">\n",
       "      <th></th>\n",
       "      <th>cluster_id</th>\n",
       "      <th>x [nm]_center</th>\n",
       "      <th>y [nm]_center</th>\n",
       "      <th>number_of_localizations</th>\n",
       "      <th>convex_hull</th>\n",
       "      <th>mean_z</th>\n",
       "      <th>eccentricity</th>\n",
       "      <th>radius_of_gyration</th>\n",
       "    </tr>\n",
       "  </thead>\n",
       "  <tbody>\n",
       "    <tr>\n",
       "      <th>0</th>\n",
       "      <td>0</td>\n",
       "      <td>0.0</td>\n",
       "      <td>0.0</td>\n",
       "      <td>5</td>\n",
       "      <td>1.0</td>\n",
       "      <td>-4.575011</td>\n",
       "      <td>1.0</td>\n",
       "      <td>0.632456</td>\n",
       "    </tr>\n",
       "    <tr>\n",
       "      <th>1</th>\n",
       "      <td>1</td>\n",
       "      <td>10.0</td>\n",
       "      <td>2.0</td>\n",
       "      <td>5</td>\n",
       "      <td>8.0</td>\n",
       "      <td>22.822626</td>\n",
       "      <td>4.0</td>\n",
       "      <td>2.000000</td>\n",
       "    </tr>\n",
       "  </tbody>\n",
       "</table>\n",
       "</div>"
      ],
      "text/plain": [
       "   cluster_id  x [nm]_center  y [nm]_center  number_of_localizations  \\\n",
       "0           0            0.0            0.0                        5   \n",
       "1           1           10.0            2.0                        5   \n",
       "\n",
       "   convex_hull     mean_z  eccentricity  radius_of_gyration  \n",
       "0          1.0  -4.575011           1.0            0.632456  \n",
       "1          8.0  22.822626           4.0            2.000000  "
      ]
     },
     "execution_count": 10,
     "metadata": {},
     "output_type": "execute_result"
    }
   ],
   "source": [
    "# Add some z-date to the DataFrame.\n",
    "df['z [nm]'] = 50 * np.random.randn(len(df))\n",
    "\n",
    "# Define a function that computes the mean of the z-coordinate.\n",
    "# We won't use the xy coordinates.\n",
    "def meanZ(group, coordinates, zCoord):\n",
    "    return group[zCoord].mean()\n",
    "\n",
    "# Setup the customStats dictionary.\n",
    "customStats = {'mean_z' : meanZ}\n",
    "\n",
    "# Create the new processor. We need to specify the name of the z-coordinate column now.\n",
    "zStatsProc = proc.ComputeClusterStats(coordCols = ['x [nm]', 'y [nm]'],\n",
    "                                      zCoord = 'z [nm]',\n",
    "                                      statsFunctions = customStats)\n",
    "\n",
    "# Compute the statistics\n",
    "zStatsProc(df)"
   ]
  },
  {
   "cell_type": "markdown",
   "metadata": {},
   "source": [
    "# Summary\n",
    "+ `ComputeClusterStats` combines localizations with the same cluster ID's and computes a single number from the localizations' coordinates\n",
    "+ Custom statistics may be computed by adding a dictionary of functions to `ComputeClusterStats`'s constructor\n",
    "+ The keys of the dictionary define the column names; the values hold the functions\n",
    "+ Each custom function requires a `group` and `coordinates` argument"
   ]
  }
 ],
 "metadata": {
  "anaconda-cloud": {},
  "kernelspec": {
   "display_name": "Python [default]",
   "language": "python",
   "name": "python3"
  },
  "language_info": {
   "codemirror_mode": {
    "name": "ipython",
    "version": 3
   },
   "file_extension": ".py",
   "mimetype": "text/x-python",
   "name": "python",
   "nbconvert_exporter": "python",
   "pygments_lexer": "ipython3",
   "version": "3.5.5"
  }
 },
 "nbformat": 4,
 "nbformat_minor": 0
}
