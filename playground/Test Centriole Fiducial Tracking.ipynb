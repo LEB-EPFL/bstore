{
 "cells": [
  {
   "cell_type": "markdown",
   "metadata": {},
   "source": [
    "I need a small testing playground that won't crash on my laptop, so I'm creating one here for the 10000 frame centriole data."
   ]
  },
  {
   "cell_type": "code",
   "execution_count": 1,
   "metadata": {
    "collapsed": false
   },
   "outputs": [
    {
     "name": "stdout",
     "output_type": "stream",
     "text": [
      "Using matplotlib backend: Qt4Agg\n",
      "Populating the interactive namespace from numpy and matplotlib\n"
     ]
    }
   ],
   "source": [
    "%pylab\n",
    "import DataSTORM.processors as ds\n",
    "import pandas as pd\n",
    "from pathlib import Path"
   ]
  },
  {
   "cell_type": "code",
   "execution_count": 2,
   "metadata": {
    "collapsed": true
   },
   "outputs": [],
   "source": [
    "filename = Path('../test-data/acTub_COT_gain100_30ms/acTub_COT_gain100_30ms.csv')\n",
    "with open(str(filename.resolve()), 'r') as file:\n",
    "    df = pd.read_csv(file, engine = 'c')"
   ]
  },
  {
   "cell_type": "code",
   "execution_count": 3,
   "metadata": {
    "collapsed": false
   },
   "outputs": [
    {
     "data": {
      "text/html": [
       "<div>\n",
       "<table border=\"1\" class=\"dataframe\">\n",
       "  <thead>\n",
       "    <tr style=\"text-align: right;\">\n",
       "      <th></th>\n",
       "      <th>x</th>\n",
       "      <th>x-uncertainty</th>\n",
       "      <th>y</th>\n",
       "      <th>y-uncertainty</th>\n",
       "      <th>frame</th>\n",
       "      <th>ad-count</th>\n",
       "      <th>chi-square</th>\n",
       "      <th>background</th>\n",
       "    </tr>\n",
       "  </thead>\n",
       "  <tbody>\n",
       "    <tr>\n",
       "      <th>count</th>\n",
       "      <td>214717.000000</td>\n",
       "      <td>214717.000000</td>\n",
       "      <td>214717.000000</td>\n",
       "      <td>214717.000000</td>\n",
       "      <td>214717.000000</td>\n",
       "      <td>214717.000000</td>\n",
       "      <td>214717.000000</td>\n",
       "      <td>214717.000000</td>\n",
       "    </tr>\n",
       "    <tr>\n",
       "      <th>mean</th>\n",
       "      <td>2425.196663</td>\n",
       "      <td>35.420145</td>\n",
       "      <td>2182.946881</td>\n",
       "      <td>35.420145</td>\n",
       "      <td>5172.075346</td>\n",
       "      <td>6288.638717</td>\n",
       "      <td>1029.127987</td>\n",
       "      <td>744.422318</td>\n",
       "    </tr>\n",
       "    <tr>\n",
       "      <th>std</th>\n",
       "      <td>1595.345619</td>\n",
       "      <td>20.475942</td>\n",
       "      <td>1322.208205</td>\n",
       "      <td>20.475942</td>\n",
       "      <td>2777.221724</td>\n",
       "      <td>15586.487514</td>\n",
       "      <td>2896.254531</td>\n",
       "      <td>312.086668</td>\n",
       "    </tr>\n",
       "    <tr>\n",
       "      <th>min</th>\n",
       "      <td>0.000001</td>\n",
       "      <td>0.847267</td>\n",
       "      <td>0.000002</td>\n",
       "      <td>0.847267</td>\n",
       "      <td>0.000000</td>\n",
       "      <td>338.324000</td>\n",
       "      <td>50.035500</td>\n",
       "      <td>523.371000</td>\n",
       "    </tr>\n",
       "    <tr>\n",
       "      <th>25%</th>\n",
       "      <td>965.218000</td>\n",
       "      <td>20.430100</td>\n",
       "      <td>982.750000</td>\n",
       "      <td>20.430100</td>\n",
       "      <td>2904.000000</td>\n",
       "      <td>577.636000</td>\n",
       "      <td>222.657000</td>\n",
       "      <td>613.929000</td>\n",
       "    </tr>\n",
       "    <tr>\n",
       "      <th>50%</th>\n",
       "      <td>2403.570000</td>\n",
       "      <td>38.192700</td>\n",
       "      <td>2206.350000</td>\n",
       "      <td>38.192700</td>\n",
       "      <td>5165.000000</td>\n",
       "      <td>772.204000</td>\n",
       "      <td>304.708000</td>\n",
       "      <td>656.426000</td>\n",
       "    </tr>\n",
       "    <tr>\n",
       "      <th>75%</th>\n",
       "      <td>3892.590000</td>\n",
       "      <td>50.197000</td>\n",
       "      <td>3461.780000</td>\n",
       "      <td>50.197000</td>\n",
       "      <td>7563.000000</td>\n",
       "      <td>1596.560000</td>\n",
       "      <td>433.924000</td>\n",
       "      <td>730.572000</td>\n",
       "    </tr>\n",
       "    <tr>\n",
       "      <th>max</th>\n",
       "      <td>4900.000000</td>\n",
       "      <td>80.431400</td>\n",
       "      <td>4200.000000</td>\n",
       "      <td>80.431400</td>\n",
       "      <td>9999.000000</td>\n",
       "      <td>177421.000000</td>\n",
       "      <td>58298.300000</td>\n",
       "      <td>7147.530000</td>\n",
       "    </tr>\n",
       "  </tbody>\n",
       "</table>\n",
       "</div>"
      ],
      "text/plain": [
       "                   x  x-uncertainty              y  y-uncertainty  \\\n",
       "count  214717.000000  214717.000000  214717.000000  214717.000000   \n",
       "mean     2425.196663      35.420145    2182.946881      35.420145   \n",
       "std      1595.345619      20.475942    1322.208205      20.475942   \n",
       "min         0.000001       0.847267       0.000002       0.847267   \n",
       "25%       965.218000      20.430100     982.750000      20.430100   \n",
       "50%      2403.570000      38.192700    2206.350000      38.192700   \n",
       "75%      3892.590000      50.197000    3461.780000      50.197000   \n",
       "max      4900.000000      80.431400    4200.000000      80.431400   \n",
       "\n",
       "               frame       ad-count     chi-square     background  \n",
       "count  214717.000000  214717.000000  214717.000000  214717.000000  \n",
       "mean     5172.075346    6288.638717    1029.127987     744.422318  \n",
       "std      2777.221724   15586.487514    2896.254531     312.086668  \n",
       "min         0.000000     338.324000      50.035500     523.371000  \n",
       "25%      2904.000000     577.636000     222.657000     613.929000  \n",
       "50%      5165.000000     772.204000     304.708000     656.426000  \n",
       "75%      7563.000000    1596.560000     433.924000     730.572000  \n",
       "max      9999.000000  177421.000000   58298.300000    7147.530000  "
      ]
     },
     "execution_count": 3,
     "metadata": {},
     "output_type": "execute_result"
    }
   ],
   "source": [
    "df.describe()"
   ]
  },
  {
   "cell_type": "code",
   "execution_count": 8,
   "metadata": {
    "collapsed": true
   },
   "outputs": [],
   "source": [
    "import importlib"
   ]
  },
  {
   "cell_type": "code",
   "execution_count": 68,
   "metadata": {
    "collapsed": false
   },
   "outputs": [],
   "source": [
    "maxSize = np.max([df['x'].max(),df['y'].max()])\n",
    "pixelSize = 100 # nm\n",
    "\n",
    "fig = plt.figure()\n",
    "ax  = fig.add_subplot(111)\n",
    "ax.hist2d(df['x'], df['y'], bins = maxSize / 100)\n",
    "ax.invert_yaxis()\n",
    "plt.show()"
   ]
  },
  {
   "cell_type": "code",
   "execution_count": 161,
   "metadata": {
    "collapsed": false
   },
   "outputs": [],
   "source": [
    "plt.close()"
   ]
  },
  {
   "cell_type": "code",
   "execution_count": 172,
   "metadata": {
    "collapsed": false
   },
   "outputs": [
    {
     "data": {
      "text/plain": [
       "<module 'DataSTORM.processors' from '/home/kmdouglass/src/DataSTORM/DataSTORM/processors.py'>"
      ]
     },
     "execution_count": 172,
     "metadata": {},
     "output_type": "execute_result"
    }
   ],
   "source": [
    "importlib.reload(ds)"
   ]
  },
  {
   "cell_type": "code",
   "execution_count": 173,
   "metadata": {
    "collapsed": false
   },
   "outputs": [],
   "source": [
    "corr = ds.FiducialDriftCorrect(mergeRadius      = 90,\n",
    "                               offTime          = 3,\n",
    "                               minSegmentLength = 30,\n",
    "                               searchRegions    = [{'xMin' : 1500,\n",
    "                                                    'xMax' : 1700,\n",
    "                                                    'yMin' : 2500,\n",
    "                                                    'yMax' : 2700}])"
   ]
  },
  {
   "cell_type": "code",
   "execution_count": 174,
   "metadata": {
    "collapsed": false
   },
   "outputs": [
    {
     "name": "stdout",
     "output_type": "stream",
     "text": [
      "Space bar pressed!\n",
      "Space bar pressed!\n",
      "Space bar pressed!\n",
      "Closed Figure!\n",
      "Done!\n"
     ]
    },
    {
     "name": "stderr",
     "output_type": "stream",
     "text": [
      "/home/kmdouglass/anaconda3/envs/DataSTORM/lib/python3.5/site-packages/matplotlib/backend_bases.py:2435: MatplotlibDeprecationWarning: Using default event loop until function specific to this GUI is implemented\n",
      "  warnings.warn(str, mplDeprecation)\n"
     ]
    }
   ],
   "source": [
    "corr.iSearch(df)"
   ]
  },
  {
   "cell_type": "code",
   "execution_count": 159,
   "metadata": {
    "collapsed": false
   },
   "outputs": [],
   "source": [
    "plt.close()"
   ]
  },
  {
   "cell_type": "code",
   "execution_count": 170,
   "metadata": {
    "collapsed": false
   },
   "outputs": [
    {
     "name": "stdout",
     "output_type": "stream",
     "text": [
      "Frame 9996: 1 trajectories present\n",
      "1 fiducial(s) detected.\n"
     ]
    }
   ],
   "source": [
    "df2 = corr(df)"
   ]
  },
  {
   "cell_type": "code",
   "execution_count": 171,
   "metadata": {
    "collapsed": false
   },
   "outputs": [
    {
     "data": {
      "text/html": [
       "<div>\n",
       "<table border=\"1\" class=\"dataframe\">\n",
       "  <thead>\n",
       "    <tr style=\"text-align: right;\">\n",
       "      <th></th>\n",
       "      <th>x</th>\n",
       "      <th>x-uncertainty</th>\n",
       "      <th>y</th>\n",
       "      <th>y-uncertainty</th>\n",
       "      <th>frame</th>\n",
       "      <th>ad-count</th>\n",
       "      <th>chi-square</th>\n",
       "      <th>background</th>\n",
       "      <th>x-drift</th>\n",
       "      <th>y-drift</th>\n",
       "    </tr>\n",
       "  </thead>\n",
       "  <tbody>\n",
       "    <tr>\n",
       "      <th>count</th>\n",
       "      <td>214717.000000</td>\n",
       "      <td>214717.000000</td>\n",
       "      <td>214717.000000</td>\n",
       "      <td>214717.000000</td>\n",
       "      <td>214717.000000</td>\n",
       "      <td>214717.000000</td>\n",
       "      <td>214717.000000</td>\n",
       "      <td>214717.000000</td>\n",
       "      <td>214717.000000</td>\n",
       "      <td>214717.000000</td>\n",
       "    </tr>\n",
       "    <tr>\n",
       "      <th>mean</th>\n",
       "      <td>2420.165809</td>\n",
       "      <td>35.420145</td>\n",
       "      <td>2208.835152</td>\n",
       "      <td>35.420145</td>\n",
       "      <td>5172.075346</td>\n",
       "      <td>6288.638717</td>\n",
       "      <td>1029.127987</td>\n",
       "      <td>744.422318</td>\n",
       "      <td>5.030854</td>\n",
       "      <td>-25.888271</td>\n",
       "    </tr>\n",
       "    <tr>\n",
       "      <th>std</th>\n",
       "      <td>1595.257596</td>\n",
       "      <td>20.475942</td>\n",
       "      <td>1322.741519</td>\n",
       "      <td>20.475942</td>\n",
       "      <td>2777.221724</td>\n",
       "      <td>15586.487514</td>\n",
       "      <td>2896.254531</td>\n",
       "      <td>312.086668</td>\n",
       "      <td>6.307410</td>\n",
       "      <td>21.354215</td>\n",
       "    </tr>\n",
       "    <tr>\n",
       "      <th>min</th>\n",
       "      <td>-15.199535</td>\n",
       "      <td>0.847267</td>\n",
       "      <td>-2.116667</td>\n",
       "      <td>0.847267</td>\n",
       "      <td>0.000000</td>\n",
       "      <td>338.324000</td>\n",
       "      <td>50.035500</td>\n",
       "      <td>523.371000</td>\n",
       "      <td>-14.685178</td>\n",
       "      <td>-65.347033</td>\n",
       "    </tr>\n",
       "    <tr>\n",
       "      <th>25%</th>\n",
       "      <td>960.872937</td>\n",
       "      <td>20.430100</td>\n",
       "      <td>1008.752163</td>\n",
       "      <td>20.430100</td>\n",
       "      <td>2904.000000</td>\n",
       "      <td>577.636000</td>\n",
       "      <td>222.657000</td>\n",
       "      <td>613.929000</td>\n",
       "      <td>4.129510</td>\n",
       "      <td>-47.686491</td>\n",
       "    </tr>\n",
       "    <tr>\n",
       "      <th>50%</th>\n",
       "      <td>2397.731463</td>\n",
       "      <td>38.192700</td>\n",
       "      <td>2231.733309</td>\n",
       "      <td>38.192700</td>\n",
       "      <td>5165.000000</td>\n",
       "      <td>772.204000</td>\n",
       "      <td>304.708000</td>\n",
       "      <td>656.426000</td>\n",
       "      <td>7.131784</td>\n",
       "      <td>-24.689144</td>\n",
       "    </tr>\n",
       "    <tr>\n",
       "      <th>75%</th>\n",
       "      <td>3886.908632</td>\n",
       "      <td>50.197000</td>\n",
       "      <td>3478.135585</td>\n",
       "      <td>50.197000</td>\n",
       "      <td>7563.000000</td>\n",
       "      <td>1596.560000</td>\n",
       "      <td>433.924000</td>\n",
       "      <td>730.572000</td>\n",
       "      <td>8.537687</td>\n",
       "      <td>-4.239633</td>\n",
       "    </tr>\n",
       "    <tr>\n",
       "      <th>max</th>\n",
       "      <td>4914.684737</td>\n",
       "      <td>80.431400</td>\n",
       "      <td>4265.347033</td>\n",
       "      <td>80.431400</td>\n",
       "      <td>9999.000000</td>\n",
       "      <td>177421.000000</td>\n",
       "      <td>58298.300000</td>\n",
       "      <td>7147.530000</td>\n",
       "      <td>15.201846</td>\n",
       "      <td>2.118678</td>\n",
       "    </tr>\n",
       "  </tbody>\n",
       "</table>\n",
       "</div>"
      ],
      "text/plain": [
       "                   x  x-uncertainty              y  y-uncertainty  \\\n",
       "count  214717.000000  214717.000000  214717.000000  214717.000000   \n",
       "mean     2420.165809      35.420145    2208.835152      35.420145   \n",
       "std      1595.257596      20.475942    1322.741519      20.475942   \n",
       "min       -15.199535       0.847267      -2.116667       0.847267   \n",
       "25%       960.872937      20.430100    1008.752163      20.430100   \n",
       "50%      2397.731463      38.192700    2231.733309      38.192700   \n",
       "75%      3886.908632      50.197000    3478.135585      50.197000   \n",
       "max      4914.684737      80.431400    4265.347033      80.431400   \n",
       "\n",
       "               frame       ad-count     chi-square     background  \\\n",
       "count  214717.000000  214717.000000  214717.000000  214717.000000   \n",
       "mean     5172.075346    6288.638717    1029.127987     744.422318   \n",
       "std      2777.221724   15586.487514    2896.254531     312.086668   \n",
       "min         0.000000     338.324000      50.035500     523.371000   \n",
       "25%      2904.000000     577.636000     222.657000     613.929000   \n",
       "50%      5165.000000     772.204000     304.708000     656.426000   \n",
       "75%      7563.000000    1596.560000     433.924000     730.572000   \n",
       "max      9999.000000  177421.000000   58298.300000    7147.530000   \n",
       "\n",
       "             x-drift        y-drift  \n",
       "count  214717.000000  214717.000000  \n",
       "mean        5.030854     -25.888271  \n",
       "std         6.307410      21.354215  \n",
       "min       -14.685178     -65.347033  \n",
       "25%         4.129510     -47.686491  \n",
       "50%         7.131784     -24.689144  \n",
       "75%         8.537687      -4.239633  \n",
       "max        15.201846       2.118678  "
      ]
     },
     "execution_count": 171,
     "metadata": {},
     "output_type": "execute_result"
    }
   ],
   "source": [
    "df2.describe()"
   ]
  },
  {
   "cell_type": "code",
   "execution_count": 175,
   "metadata": {
    "collapsed": false
   },
   "outputs": [
    {
     "data": {
      "text/plain": [
       "[{'xMax': None, 'xMin': None, 'yMax': None, 'yMin': None}]"
      ]
     },
     "execution_count": 175,
     "metadata": {},
     "output_type": "execute_result"
    }
   ],
   "source": [
    "corr.searchRegions"
   ]
  },
  {
   "cell_type": "code",
   "execution_count": 96,
   "metadata": {
    "collapsed": false
   },
   "outputs": [
    {
     "data": {
      "text/plain": [
       "[{'xMax': None, 'xMin': None, 'yMax': None, 'yMin': None}]"
      ]
     },
     "execution_count": 96,
     "metadata": {},
     "output_type": "execute_result"
    }
   ],
   "source": [
    "corr.resetSearchRegions()\n",
    "corr.searchRegions"
   ]
  },
  {
   "cell_type": "code",
   "execution_count": null,
   "metadata": {
    "collapsed": true
   },
   "outputs": [],
   "source": []
  }
 ],
 "metadata": {
  "kernelspec": {
   "display_name": "Python 3",
   "language": "python",
   "name": "python3"
  },
  "language_info": {
   "codemirror_mode": {
    "name": "ipython",
    "version": 3
   },
   "file_extension": ".py",
   "mimetype": "text/x-python",
   "name": "python",
   "nbconvert_exporter": "python",
   "pygments_lexer": "ipython3",
   "version": "3.5.0"
  }
 },
 "nbformat": 4,
 "nbformat_minor": 0
}
