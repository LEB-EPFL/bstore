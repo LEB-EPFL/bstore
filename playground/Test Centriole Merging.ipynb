{
 "cells": [
  {
   "cell_type": "code",
   "execution_count": 1,
   "metadata": {
    "collapsed": false
   },
   "outputs": [
    {
     "name": "stdout",
     "output_type": "stream",
     "text": [
      "Using matplotlib backend: Qt4Agg\n",
      "Populating the interactive namespace from numpy and matplotlib\n"
     ]
    }
   ],
   "source": [
    "%pylab\n",
    "import DataSTORM.processors as ds\n",
    "import pandas as pd\n",
    "from pathlib import Path\n",
    "import importlib"
   ]
  },
  {
   "cell_type": "code",
   "execution_count": 2,
   "metadata": {
    "collapsed": false
   },
   "outputs": [],
   "source": [
    "filename = Path('../test-data/Centrioles/FOV_7_noPB_1500mW_10ms_1/FOV_7_noPB_1500mW_10ms_1_MMStack_locResults_DC.dat')\n",
    "with open(str(filename.resolve()), 'r') as file:\n",
    "    df = pd.read_csv(file)"
   ]
  },
  {
   "cell_type": "code",
   "execution_count": 3,
   "metadata": {
    "collapsed": false
   },
   "outputs": [
    {
     "data": {
      "text/html": [
       "<div>\n",
       "<table border=\"1\" class=\"dataframe\">\n",
       "  <thead>\n",
       "    <tr style=\"text-align: right;\">\n",
       "      <th></th>\n",
       "      <th>frame</th>\n",
       "      <th>intensity [photon]</th>\n",
       "      <th>loglikelihood</th>\n",
       "      <th>offset [photon]</th>\n",
       "      <th>sigma [nm]</th>\n",
       "      <th>uncertainty [nm]</th>\n",
       "      <th>x [nm]</th>\n",
       "      <th>y [nm]</th>\n",
       "      <th>z [nm]</th>\n",
       "      <th>dx [nm]</th>\n",
       "      <th>dy [nm]</th>\n",
       "    </tr>\n",
       "  </thead>\n",
       "  <tbody>\n",
       "    <tr>\n",
       "      <th>count</th>\n",
       "      <td>1608124.000000</td>\n",
       "      <td>1608124.000000</td>\n",
       "      <td>1608124.000000</td>\n",
       "      <td>1608124.000000</td>\n",
       "      <td>1608124.000000</td>\n",
       "      <td>1608124.000000</td>\n",
       "      <td>1608124.000000</td>\n",
       "      <td>1608124.000000</td>\n",
       "      <td>1608124</td>\n",
       "      <td>1608124.000000</td>\n",
       "      <td>1608124.000000</td>\n",
       "    </tr>\n",
       "    <tr>\n",
       "      <th>mean</th>\n",
       "      <td>40803.787605</td>\n",
       "      <td>3476.729308</td>\n",
       "      <td>141.338826</td>\n",
       "      <td>172.708069</td>\n",
       "      <td>136.227962</td>\n",
       "      <td>5.324274</td>\n",
       "      <td>27719.261907</td>\n",
       "      <td>35650.216703</td>\n",
       "      <td>0</td>\n",
       "      <td>-62.755873</td>\n",
       "      <td>26.149300</td>\n",
       "    </tr>\n",
       "    <tr>\n",
       "      <th>std</th>\n",
       "      <td>29916.130414</td>\n",
       "      <td>1562.291164</td>\n",
       "      <td>75.970795</td>\n",
       "      <td>19.896005</td>\n",
       "      <td>15.232139</td>\n",
       "      <td>9.152775</td>\n",
       "      <td>19195.357168</td>\n",
       "      <td>14650.030735</td>\n",
       "      <td>0</td>\n",
       "      <td>64.801230</td>\n",
       "      <td>25.095085</td>\n",
       "    </tr>\n",
       "    <tr>\n",
       "      <th>min</th>\n",
       "      <td>100.000000</td>\n",
       "      <td>1.000000</td>\n",
       "      <td>-33.030000</td>\n",
       "      <td>64.736000</td>\n",
       "      <td>82.408000</td>\n",
       "      <td>1.640000</td>\n",
       "      <td>82.214731</td>\n",
       "      <td>-6.326433</td>\n",
       "      <td>0</td>\n",
       "      <td>-166.538088</td>\n",
       "      <td>-11.143997</td>\n",
       "    </tr>\n",
       "    <tr>\n",
       "      <th>25%</th>\n",
       "      <td>12982.000000</td>\n",
       "      <td>2312.600000</td>\n",
       "      <td>87.377000</td>\n",
       "      <td>160.940000</td>\n",
       "      <td>126.430000</td>\n",
       "      <td>4.084500</td>\n",
       "      <td>10030.415748</td>\n",
       "      <td>24359.691495</td>\n",
       "      <td>0</td>\n",
       "      <td>-133.961203</td>\n",
       "      <td>10.736029</td>\n",
       "    </tr>\n",
       "    <tr>\n",
       "      <th>50%</th>\n",
       "      <td>36142.000000</td>\n",
       "      <td>3079.600000</td>\n",
       "      <td>118.040000</td>\n",
       "      <td>171.540000</td>\n",
       "      <td>134.400000</td>\n",
       "      <td>5.250200</td>\n",
       "      <td>22397.072890</td>\n",
       "      <td>37245.696701</td>\n",
       "      <td>0</td>\n",
       "      <td>-57.951804</td>\n",
       "      <td>19.594810</td>\n",
       "    </tr>\n",
       "    <tr>\n",
       "      <th>75%</th>\n",
       "      <td>65495.000000</td>\n",
       "      <td>4269.300000</td>\n",
       "      <td>171.250000</td>\n",
       "      <td>182.130000</td>\n",
       "      <td>143.920000</td>\n",
       "      <td>6.517400</td>\n",
       "      <td>41110.973211</td>\n",
       "      <td>46649.212708</td>\n",
       "      <td>0</td>\n",
       "      <td>3.357172</td>\n",
       "      <td>50.510301</td>\n",
       "    </tr>\n",
       "    <tr>\n",
       "      <th>max</th>\n",
       "      <td>99999.000000</td>\n",
       "      <td>16287.000000</td>\n",
       "      <td>399.990000</td>\n",
       "      <td>403.160000</td>\n",
       "      <td>199.990000</td>\n",
       "      <td>11448.000000</td>\n",
       "      <td>64898.084887</td>\n",
       "      <td>64728.228439</td>\n",
       "      <td>0</td>\n",
       "      <td>26.101772</td>\n",
       "      <td>84.758898</td>\n",
       "    </tr>\n",
       "  </tbody>\n",
       "</table>\n",
       "</div>"
      ],
      "text/plain": [
       "                frame  intensity [photon]   loglikelihood  offset [photon]  \\\n",
       "count  1608124.000000      1608124.000000  1608124.000000   1608124.000000   \n",
       "mean     40803.787605         3476.729308      141.338826       172.708069   \n",
       "std      29916.130414         1562.291164       75.970795        19.896005   \n",
       "min        100.000000            1.000000      -33.030000        64.736000   \n",
       "25%      12982.000000         2312.600000       87.377000       160.940000   \n",
       "50%      36142.000000         3079.600000      118.040000       171.540000   \n",
       "75%      65495.000000         4269.300000      171.250000       182.130000   \n",
       "max      99999.000000        16287.000000      399.990000       403.160000   \n",
       "\n",
       "           sigma [nm]  uncertainty [nm]          x [nm]          y [nm]  \\\n",
       "count  1608124.000000    1608124.000000  1608124.000000  1608124.000000   \n",
       "mean       136.227962          5.324274    27719.261907    35650.216703   \n",
       "std         15.232139          9.152775    19195.357168    14650.030735   \n",
       "min         82.408000          1.640000       82.214731       -6.326433   \n",
       "25%        126.430000          4.084500    10030.415748    24359.691495   \n",
       "50%        134.400000          5.250200    22397.072890    37245.696701   \n",
       "75%        143.920000          6.517400    41110.973211    46649.212708   \n",
       "max        199.990000      11448.000000    64898.084887    64728.228439   \n",
       "\n",
       "        z [nm]         dx [nm]         dy [nm]  \n",
       "count  1608124  1608124.000000  1608124.000000  \n",
       "mean         0      -62.755873       26.149300  \n",
       "std          0       64.801230       25.095085  \n",
       "min          0     -166.538088      -11.143997  \n",
       "25%          0     -133.961203       10.736029  \n",
       "50%          0      -57.951804       19.594810  \n",
       "75%          0        3.357172       50.510301  \n",
       "max          0       26.101772       84.758898  "
      ]
     },
     "execution_count": 3,
     "metadata": {},
     "output_type": "execute_result"
    }
   ],
   "source": [
    "df.describe()"
   ]
  },
  {
   "cell_type": "code",
   "execution_count": 4,
   "metadata": {
    "collapsed": true
   },
   "outputs": [],
   "source": [
    "inputFormat  = ds.FormatThunderSTORM()\n",
    "outputFormat = ds.FormatLEB()\n",
    "converter    = ds.ConvertHeader(inputFormat, outputFormat)"
   ]
  },
  {
   "cell_type": "code",
   "execution_count": 5,
   "metadata": {
    "collapsed": false
   },
   "outputs": [],
   "source": [
    "dfLEB = converter(df)"
   ]
  },
  {
   "cell_type": "code",
   "execution_count": 6,
   "metadata": {
    "collapsed": true
   },
   "outputs": [],
   "source": [
    "merge = ds.Merge(mergeRadius = 30, tOff = 1, precisionColumn='precision')"
   ]
  },
  {
   "cell_type": "code",
   "execution_count": 7,
   "metadata": {
    "collapsed": false
   },
   "outputs": [
    {
     "name": "stdout",
     "output_type": "stream",
     "text": [
      "Frame 99999: 10 trajectories present\n"
     ]
    }
   ],
   "source": [
    "df2 = merge(dfLEB)"
   ]
  },
  {
   "cell_type": "code",
   "execution_count": 8,
   "metadata": {
    "collapsed": false
   },
   "outputs": [],
   "source": [
    "converter2 = ds.ConvertHeader(ds.FormatLEB(), ds.FormatThunderSTORM())"
   ]
  },
  {
   "cell_type": "code",
   "execution_count": 9,
   "metadata": {
    "collapsed": false
   },
   "outputs": [],
   "source": [
    "#import importlib\n",
    "#importlib.reload(ds)"
   ]
  },
  {
   "cell_type": "code",
   "execution_count": 10,
   "metadata": {
    "collapsed": false
   },
   "outputs": [],
   "source": [
    "df3 = converter2(df2)"
   ]
  },
  {
   "cell_type": "code",
   "execution_count": 11,
   "metadata": {
    "collapsed": true
   },
   "outputs": [],
   "source": [
    "df3.to_csv('FOV_7_noPB_1500mW_10ms_1_MMStack_locResults_DC_Merged.dat', index = False)"
   ]
  },
  {
   "cell_type": "code",
   "execution_count": null,
   "metadata": {
    "collapsed": true
   },
   "outputs": [],
   "source": []
  },
  {
   "cell_type": "code",
   "execution_count": null,
   "metadata": {
    "collapsed": true
   },
   "outputs": [],
   "source": []
  }
 ],
 "metadata": {
  "kernelspec": {
   "display_name": "Python 3",
   "language": "python",
   "name": "python3"
  },
  "language_info": {
   "codemirror_mode": {
    "name": "ipython",
    "version": 3
   },
   "file_extension": ".py",
   "mimetype": "text/x-python",
   "name": "python",
   "nbconvert_exporter": "python",
   "pygments_lexer": "ipython3",
   "version": "3.5.0"
  }
 },
 "nbformat": 4,
 "nbformat_minor": 0
}
