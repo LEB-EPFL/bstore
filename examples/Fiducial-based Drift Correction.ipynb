{
 "cells": [
  {
   "cell_type": "markdown",
   "metadata": {},
   "source": [
    "Drift correction based on fiducials is implemented in B-Store in two separate parts:\n",
    "\n",
    "1. the `FiducialDriftCorrect` processor for finding fiducials and correcting a dataset, and\n",
    "2. a `ComputeTrajectories` class that describes the algorithm for fitting smoothed curves to the fiducial localizations.\n",
    "\n",
    "Fiducial-based drift correction was split into these two parts for extensibility. You can use the interactive search feature provided by `FiducialDriftCorrect` but write your own algorithm for creating smoothed curves from the data if the default algorithm is not suitable."
   ]
  },
  {
   "cell_type": "code",
   "execution_count": 1,
   "metadata": {
    "collapsed": false
   },
   "outputs": [
    {
     "name": "stdout",
     "output_type": "stream",
     "text": [
      "Using matplotlib backend: Qt4Agg\n",
      "Populating the interactive namespace from numpy and matplotlib\n"
     ]
    }
   ],
   "source": [
    "# Be sure not to use the %pylab inline option\n",
    "%pylab\n",
    "from bstore import processors as proc\n",
    "from pathlib import Path\n",
    "import pandas as pd"
   ]
  },
  {
   "cell_type": "markdown",
   "metadata": {
    "collapsed": true
   },
   "source": [
    "# Load the test data\n",
    "The test data for this example is in the [B-Store test files repository](https://github.com/kmdouglass/bstore_test_files). Download or clone this repository, and set the variable below to point to */processor_test_files/test_localizations_with_fiducials.csv*"
   ]
  },
  {
   "cell_type": "code",
   "execution_count": 2,
   "metadata": {
    "collapsed": false
   },
   "outputs": [],
   "source": [
    "pathToData = Path('../../bstore_test_files/processor_test_files/test_localizations_with_fiducials.csv')\n",
    "\n",
    "# Load the test data\n",
    "with open(str(pathToData), 'r') as f:\n",
    "    df = pd.read_csv(f)"
   ]
  },
  {
   "cell_type": "code",
   "execution_count": 3,
   "metadata": {
    "collapsed": false
   },
   "outputs": [
    {
     "data": {
      "text/html": [
       "<div>\n",
       "<table border=\"1\" class=\"dataframe\">\n",
       "  <thead>\n",
       "    <tr style=\"text-align: right;\">\n",
       "      <th></th>\n",
       "      <th>x [nm]</th>\n",
       "      <th>y [nm]</th>\n",
       "      <th>frame</th>\n",
       "      <th>z [nm]</th>\n",
       "      <th>uncertainty [nm]</th>\n",
       "      <th>intensity [photon]</th>\n",
       "      <th>offset [photon]</th>\n",
       "      <th>loglikelihood</th>\n",
       "      <th>sigma [nm]</th>\n",
       "    </tr>\n",
       "  </thead>\n",
       "  <tbody>\n",
       "    <tr>\n",
       "      <th>count</th>\n",
       "      <td>40000.000000</td>\n",
       "      <td>40000.000000</td>\n",
       "      <td>40000.000000</td>\n",
       "      <td>40000</td>\n",
       "      <td>40000.000000</td>\n",
       "      <td>40000.000000</td>\n",
       "      <td>40000.000000</td>\n",
       "      <td>40000.000000</td>\n",
       "      <td>40000.000000</td>\n",
       "    </tr>\n",
       "    <tr>\n",
       "      <th>mean</th>\n",
       "      <td>635.003427</td>\n",
       "      <td>624.977005</td>\n",
       "      <td>4999.500000</td>\n",
       "      <td>0</td>\n",
       "      <td>10.001933</td>\n",
       "      <td>999.510493</td>\n",
       "      <td>99.913865</td>\n",
       "      <td>180.180078</td>\n",
       "      <td>139.885318</td>\n",
       "    </tr>\n",
       "    <tr>\n",
       "      <th>std</th>\n",
       "      <td>600.039317</td>\n",
       "      <td>592.486494</td>\n",
       "      <td>2886.787417</td>\n",
       "      <td>0</td>\n",
       "      <td>0.998130</td>\n",
       "      <td>100.241879</td>\n",
       "      <td>9.979632</td>\n",
       "      <td>30.054977</td>\n",
       "      <td>20.089461</td>\n",
       "    </tr>\n",
       "    <tr>\n",
       "      <th>min</th>\n",
       "      <td>0.000000</td>\n",
       "      <td>0.000000</td>\n",
       "      <td>0.000000</td>\n",
       "      <td>0</td>\n",
       "      <td>5.854368</td>\n",
       "      <td>600.233502</td>\n",
       "      <td>55.167737</td>\n",
       "      <td>44.681219</td>\n",
       "      <td>59.516892</td>\n",
       "    </tr>\n",
       "    <tr>\n",
       "      <th>25%</th>\n",
       "      <td>150.000000</td>\n",
       "      <td>150.000000</td>\n",
       "      <td>2499.750000</td>\n",
       "      <td>0</td>\n",
       "      <td>9.329977</td>\n",
       "      <td>931.249431</td>\n",
       "      <td>93.156440</td>\n",
       "      <td>159.870738</td>\n",
       "      <td>126.406587</td>\n",
       "    </tr>\n",
       "    <tr>\n",
       "      <th>50%</th>\n",
       "      <td>468.395694</td>\n",
       "      <td>466.950576</td>\n",
       "      <td>4999.500000</td>\n",
       "      <td>0</td>\n",
       "      <td>9.998947</td>\n",
       "      <td>999.041524</td>\n",
       "      <td>99.875153</td>\n",
       "      <td>180.322810</td>\n",
       "      <td>140.063141</td>\n",
       "    </tr>\n",
       "    <tr>\n",
       "      <th>75%</th>\n",
       "      <td>1021.781722</td>\n",
       "      <td>981.370269</td>\n",
       "      <td>7499.250000</td>\n",
       "      <td>0</td>\n",
       "      <td>10.672760</td>\n",
       "      <td>1066.811760</td>\n",
       "      <td>106.621118</td>\n",
       "      <td>200.593788</td>\n",
       "      <td>153.214561</td>\n",
       "    </tr>\n",
       "    <tr>\n",
       "      <th>max</th>\n",
       "      <td>1590.525406</td>\n",
       "      <td>1562.316093</td>\n",
       "      <td>9999.000000</td>\n",
       "      <td>0</td>\n",
       "      <td>14.349163</td>\n",
       "      <td>1410.296374</td>\n",
       "      <td>138.635389</td>\n",
       "      <td>297.525426</td>\n",
       "      <td>226.003164</td>\n",
       "    </tr>\n",
       "  </tbody>\n",
       "</table>\n",
       "</div>"
      ],
      "text/plain": [
       "             x [nm]        y [nm]         frame  z [nm]  uncertainty [nm]  \\\n",
       "count  40000.000000  40000.000000  40000.000000   40000      40000.000000   \n",
       "mean     635.003427    624.977005   4999.500000       0         10.001933   \n",
       "std      600.039317    592.486494   2886.787417       0          0.998130   \n",
       "min        0.000000      0.000000      0.000000       0          5.854368   \n",
       "25%      150.000000    150.000000   2499.750000       0          9.329977   \n",
       "50%      468.395694    466.950576   4999.500000       0          9.998947   \n",
       "75%     1021.781722    981.370269   7499.250000       0         10.672760   \n",
       "max     1590.525406   1562.316093   9999.000000       0         14.349163   \n",
       "\n",
       "       intensity [photon]  offset [photon]  loglikelihood    sigma [nm]  \n",
       "count        40000.000000     40000.000000   40000.000000  40000.000000  \n",
       "mean           999.510493        99.913865     180.180078    139.885318  \n",
       "std            100.241879         9.979632      30.054977     20.089461  \n",
       "min            600.233502        55.167737      44.681219     59.516892  \n",
       "25%            931.249431        93.156440     159.870738    126.406587  \n",
       "50%            999.041524        99.875153     180.322810    140.063141  \n",
       "75%           1066.811760       106.621118     200.593788    153.214561  \n",
       "max           1410.296374       138.635389     297.525426    226.003164  "
      ]
     },
     "execution_count": 3,
     "metadata": {},
     "output_type": "execute_result"
    }
   ],
   "source": [
    "df.describe()"
   ]
  },
  {
   "cell_type": "markdown",
   "metadata": {},
   "source": [
    "The test dataset has four clusters of localizations. Two are clusters are stationary and the other two have drifted over time."
   ]
  },
  {
   "cell_type": "code",
   "execution_count": 4,
   "metadata": {
    "collapsed": false
   },
   "outputs": [],
   "source": [
    "plt.scatter(df['x [nm]'], -df['y [nm]'])\n",
    "plt.xlabel('x-position')\n",
    "plt.ylabel('y-position')\n",
    "plt.axis('equal')\n",
    "plt.grid(True)\n",
    "plt.show()"
   ]
  },
  {
   "cell_type": "markdown",
   "metadata": {},
   "source": [
    "# Basic Drift Correction\n",
    "Drift corrrection based on fiducials is implemented using the `FiducialDriftCorrect` processor. This works just like other processors: we first create a `FiducialDriftCorrect` instance and then apply it to the DataFrame.\n",
    "\n",
    "Drift correction is performed in two steps. In the first step, the user selects the fiducials by clicking and dragging a rectangle around the features in the 2D histogram that is displayed when the drift correction processor is called. The 2D histogram simply groups localizations in close proximity into square bins. The color of the bin encodes the number of localizations within it. Fiducials tend to lie in bins that have higher localization counts, which appear more yellow than red in the histogram.\n",
    "\n",
    "After a region is drawn, **press the space bar to add it to the processor**. You may then select another region in the same manner. To finish searching for fiducials, simply close the window.\n",
    "\n",
    "Try selecting the fiducial that lies between 750 and 950 nm on the x-axis and 750 and 850 nm on the y-axis by running the code below:"
   ]
  },
  {
   "cell_type": "code",
   "execution_count": 5,
   "metadata": {
    "collapsed": false
   },
   "outputs": [
    {
     "name": "stdout",
     "output_type": "stream",
     "text": [
      "Performing spline fits...\n"
     ]
    }
   ],
   "source": [
    "# coordCols = ['x', 'y'] by default\n",
    "dc = proc.FiducialDriftCorrect(coordCols = ['x [nm]', 'y [nm]'])\n",
    "processed_df = dc(df)"
   ]
  },
  {
   "cell_type": "code",
   "execution_count": 6,
   "metadata": {
    "collapsed": false
   },
   "outputs": [
    {
     "data": {
      "text/html": [
       "<div>\n",
       "<table border=\"1\" class=\"dataframe\">\n",
       "  <thead>\n",
       "    <tr style=\"text-align: right;\">\n",
       "      <th></th>\n",
       "      <th>x [nm]</th>\n",
       "      <th>y [nm]</th>\n",
       "      <th>frame</th>\n",
       "      <th>z [nm]</th>\n",
       "      <th>uncertainty [nm]</th>\n",
       "      <th>intensity [photon]</th>\n",
       "      <th>offset [photon]</th>\n",
       "      <th>loglikelihood</th>\n",
       "      <th>sigma [nm]</th>\n",
       "      <th>dx</th>\n",
       "      <th>dy</th>\n",
       "    </tr>\n",
       "  </thead>\n",
       "  <tbody>\n",
       "    <tr>\n",
       "      <th>count</th>\n",
       "      <td>30000.000000</td>\n",
       "      <td>30000.000000</td>\n",
       "      <td>30000.000000</td>\n",
       "      <td>30000</td>\n",
       "      <td>30000.000000</td>\n",
       "      <td>30000.000000</td>\n",
       "      <td>30000.000000</td>\n",
       "      <td>30000.000000</td>\n",
       "      <td>30000.000000</td>\n",
       "      <td>30000.000000</td>\n",
       "      <td>30000.000000</td>\n",
       "    </tr>\n",
       "    <tr>\n",
       "      <th>mean</th>\n",
       "      <td>529.689292</td>\n",
       "      <td>549.383280</td>\n",
       "      <td>4999.500000</td>\n",
       "      <td>0</td>\n",
       "      <td>10.004109</td>\n",
       "      <td>999.707243</td>\n",
       "      <td>99.947940</td>\n",
       "      <td>180.196789</td>\n",
       "      <td>139.956211</td>\n",
       "      <td>50.315996</td>\n",
       "      <td>25.602606</td>\n",
       "    </tr>\n",
       "    <tr>\n",
       "      <th>std</th>\n",
       "      <td>684.158062</td>\n",
       "      <td>676.796187</td>\n",
       "      <td>2886.799445</td>\n",
       "      <td>0</td>\n",
       "      <td>0.995834</td>\n",
       "      <td>100.432718</td>\n",
       "      <td>9.987884</td>\n",
       "      <td>30.124589</td>\n",
       "      <td>19.998153</td>\n",
       "      <td>28.984676</td>\n",
       "      <td>14.479500</td>\n",
       "    </tr>\n",
       "    <tr>\n",
       "      <th>min</th>\n",
       "      <td>-100.514548</td>\n",
       "      <td>-50.681716</td>\n",
       "      <td>0.000000</td>\n",
       "      <td>0</td>\n",
       "      <td>5.854368</td>\n",
       "      <td>600.233502</td>\n",
       "      <td>55.167737</td>\n",
       "      <td>44.681219</td>\n",
       "      <td>59.516892</td>\n",
       "      <td>0.000000</td>\n",
       "      <td>0.000000</td>\n",
       "    </tr>\n",
       "    <tr>\n",
       "      <th>25%</th>\n",
       "      <td>-25.246162</td>\n",
       "      <td>-13.098665</td>\n",
       "      <td>2499.750000</td>\n",
       "      <td>0</td>\n",
       "      <td>9.336187</td>\n",
       "      <td>931.078126</td>\n",
       "      <td>93.182242</td>\n",
       "      <td>159.932164</td>\n",
       "      <td>126.580223</td>\n",
       "      <td>25.251193</td>\n",
       "      <td>13.101199</td>\n",
       "    </tr>\n",
       "    <tr>\n",
       "      <th>50%</th>\n",
       "      <td>149.654635</td>\n",
       "      <td>174.411171</td>\n",
       "      <td>4999.500000</td>\n",
       "      <td>0</td>\n",
       "      <td>10.001680</td>\n",
       "      <td>999.313689</td>\n",
       "      <td>99.901629</td>\n",
       "      <td>180.239357</td>\n",
       "      <td>140.166669</td>\n",
       "      <td>50.345365</td>\n",
       "      <td>25.588829</td>\n",
       "    </tr>\n",
       "    <tr>\n",
       "      <th>75%</th>\n",
       "      <td>1484.145711</td>\n",
       "      <td>1495.973688</td>\n",
       "      <td>7499.250000</td>\n",
       "      <td>0</td>\n",
       "      <td>10.670678</td>\n",
       "      <td>1066.920403</td>\n",
       "      <td>106.694537</td>\n",
       "      <td>200.634685</td>\n",
       "      <td>153.220725</td>\n",
       "      <td>75.395492</td>\n",
       "      <td>38.097678</td>\n",
       "    </tr>\n",
       "    <tr>\n",
       "      <th>max</th>\n",
       "      <td>1519.216039</td>\n",
       "      <td>1518.504940</td>\n",
       "      <td>9999.000000</td>\n",
       "      <td>0</td>\n",
       "      <td>14.349163</td>\n",
       "      <td>1410.296374</td>\n",
       "      <td>138.635389</td>\n",
       "      <td>297.525426</td>\n",
       "      <td>226.003164</td>\n",
       "      <td>100.514548</td>\n",
       "      <td>50.681716</td>\n",
       "    </tr>\n",
       "  </tbody>\n",
       "</table>\n",
       "</div>"
      ],
      "text/plain": [
       "             x [nm]        y [nm]         frame  z [nm]  uncertainty [nm]  \\\n",
       "count  30000.000000  30000.000000  30000.000000   30000      30000.000000   \n",
       "mean     529.689292    549.383280   4999.500000       0         10.004109   \n",
       "std      684.158062    676.796187   2886.799445       0          0.995834   \n",
       "min     -100.514548    -50.681716      0.000000       0          5.854368   \n",
       "25%      -25.246162    -13.098665   2499.750000       0          9.336187   \n",
       "50%      149.654635    174.411171   4999.500000       0         10.001680   \n",
       "75%     1484.145711   1495.973688   7499.250000       0         10.670678   \n",
       "max     1519.216039   1518.504940   9999.000000       0         14.349163   \n",
       "\n",
       "       intensity [photon]  offset [photon]  loglikelihood    sigma [nm]  \\\n",
       "count        30000.000000     30000.000000   30000.000000  30000.000000   \n",
       "mean           999.707243        99.947940     180.196789    139.956211   \n",
       "std            100.432718         9.987884      30.124589     19.998153   \n",
       "min            600.233502        55.167737      44.681219     59.516892   \n",
       "25%            931.078126        93.182242     159.932164    126.580223   \n",
       "50%            999.313689        99.901629     180.239357    140.166669   \n",
       "75%           1066.920403       106.694537     200.634685    153.220725   \n",
       "max           1410.296374       138.635389     297.525426    226.003164   \n",
       "\n",
       "                 dx            dy  \n",
       "count  30000.000000  30000.000000  \n",
       "mean      50.315996     25.602606  \n",
       "std       28.984676     14.479500  \n",
       "min        0.000000      0.000000  \n",
       "25%       25.251193     13.101199  \n",
       "50%       50.345365     25.588829  \n",
       "75%       75.395492     38.097678  \n",
       "max      100.514548     50.681716  "
      ]
     },
     "execution_count": 6,
     "metadata": {},
     "output_type": "execute_result"
    }
   ],
   "source": [
    "processed_df.describe()"
   ]
  },
  {
   "cell_type": "markdown",
   "metadata": {},
   "source": [
    "If you performed the steps correctly, then you should notice two important changes to the DataFrame.\n",
    "\n",
    "1. The total number of localizations decreased from 40,000 to 30,000. This happens because the processor removes fiducials from the dataset by default. To retain all localizations in the processed DataFrame, you can set the `removeFiducials` argument to the processor's constructor to `False`: \n",
    "\n",
    "```python\n",
    "dc = proc.FiducialDriftCorrect(coordCols = ['x [nm]', 'y [nm]'], removeFiducials = False)\n",
    "```\n",
    "\n",
    "2. Two new columns were added: **dx** and **dy**. These contain the distance by which the x- and y-columns were shifted during the drift correction. To get the original coordinate values back, you can add the values in these columns to the x- and y-coordinates."
   ]
  },
  {
   "cell_type": "code",
   "execution_count": 7,
   "metadata": {
    "collapsed": false
   },
   "outputs": [],
   "source": [
    "plt.scatter(df['x [nm]'], -df['y [nm]'], label = 'Original')\n",
    "plt.scatter(processed_df['x [nm]'], -processed_df['y [nm]'], marker = 'd', color = 'green', label = 'Corrected')\n",
    "plt.xlabel('x-position')\n",
    "plt.ylabel('y-position')\n",
    "plt.axis('equal')\n",
    "plt.grid(True)\n",
    "plt.legend()\n",
    "plt.show()"
   ]
  },
  {
   "cell_type": "markdown",
   "metadata": {},
   "source": [
    "# Modifying the fiducial fits\n",
    "## Changing which fiducials are used in the average trajectory\n",
    "We can plot the individual fiducial localizations, their fits, and even choose which fiducials to use after they were selected. This is done using methods found inside `FiducialDriftCorrect`'s driftComputer."
   ]
  },
  {
   "cell_type": "code",
   "execution_count": 8,
   "metadata": {
    "collapsed": true
   },
   "outputs": [],
   "source": [
    "dc.driftComputer.plotFiducials()"
   ]
  },
  {
   "cell_type": "markdown",
   "metadata": {},
   "source": [
    "If you only had one fiducial selected, you should see one plot with the individual localizations in blue and the smoothed drift trajectory in red.\n",
    "\n",
    "Now, **select the two fiducials in the middle and at the lower right corner.**"
   ]
  },
  {
   "cell_type": "code",
   "execution_count": 9,
   "metadata": {
    "collapsed": false
   },
   "outputs": [
    {
     "name": "stdout",
     "output_type": "stream",
     "text": [
      "Performing spline fits...\n"
     ]
    }
   ],
   "source": [
    "processed_df = dc(df)"
   ]
  },
  {
   "cell_type": "code",
   "execution_count": 10,
   "metadata": {
    "collapsed": true
   },
   "outputs": [],
   "source": [
    "dc.driftComputer.plotFiducials()"
   ]
  },
  {
   "cell_type": "markdown",
   "metadata": {},
   "source": [
    "This should open two windows, one for each fiducial. The average drift trajectory is in red and the localizations are again in blue.\n",
    "\n",
    "Let's suppose now that the fiducial labeled with index `1` is too noisy or not very good. We can recompute the average trajectory by telling the drift computer to use only the fiducial at index `0`."
   ]
  },
  {
   "cell_type": "code",
   "execution_count": 11,
   "metadata": {
    "collapsed": false
   },
   "outputs": [
    {
     "name": "stdout",
     "output_type": "stream",
     "text": [
      "Performing spline fits...\n"
     ]
    }
   ],
   "source": [
    "dc.interactiveSearch = False\n",
    "dc.driftComputer.useTrajectories = [0]\n",
    "processed_df = dc(df)\n",
    "dc.driftComputer.plotFiducials()"
   ]
  },
  {
   "cell_type": "markdown",
   "metadata": {},
   "source": [
    "Here's what we have just done: we first told the drift correction processor to disable the interactive search. This means that it will retain the fiducial localization information instead of allowing the user to choose fiducials. Next, we tell the driftComputer to only use the trajectory labeled with index `0`. We perform the drift correction again on the original DataFrame (`df`) and plot the fiducials.\n",
    "\n",
    "This time, the localizations in the fiducial track labeled with a `1` are grayed out. Additionally, the red curve should lie perfectly over the fiducials in track `0`. In this way, we correct the input localizations using only fiducial trajectory `0`.\n",
    "\n",
    "If we want to use both fiducials again, set dc.driftComputer.useTrajectories to either an `[0,1]` or an empty list, `[]`, which means \"use all fiducials.\""
   ]
  },
  {
   "cell_type": "code",
   "execution_count": 12,
   "metadata": {
    "collapsed": false
   },
   "outputs": [
    {
     "name": "stdout",
     "output_type": "stream",
     "text": [
      "Performing spline fits...\n"
     ]
    }
   ],
   "source": [
    "# dc.interactiveSearch should still be False.\n",
    "dc.driftComputer.useTrajectories = [] # Empty list means use all fiducials\n",
    "processed_df = dc(df)\n",
    "dc.driftComputer.plotFiducials()"
   ]
  },
  {
   "cell_type": "markdown",
   "metadata": {},
   "source": [
    "## Changing the smoothing spline parameters\n",
    "`smoothingWindowSize` and `smoothingFilterSize` change the size of the moving average window and the Gaussian smoothing filter width, respectively. These can be adjusted to capture fine detail in the trajectories if desired."
   ]
  },
  {
   "cell_type": "code",
   "execution_count": 13,
   "metadata": {
    "collapsed": false
   },
   "outputs": [
    {
     "name": "stdout",
     "output_type": "stream",
     "text": [
      "Performing spline fits...\n"
     ]
    }
   ],
   "source": [
    "dc.driftComputer.smoothingWindowSize = 50 # units are frames\n",
    "dc.driftComputer.smoothingFilterSize = 25  # units are frames\n",
    "processed_df = dc(df)\n",
    "dc.driftComputer.plotFiducials()"
   ]
  },
  {
   "cell_type": "code",
   "execution_count": 14,
   "metadata": {
    "collapsed": true
   },
   "outputs": [],
   "source": [
    "# Reset to default values\n",
    "dc.driftComputer.smoothingWindowSize = 600 # units are frames\n",
    "dc.driftComputer.smoothingFilterSize = 400  # units are frames"
   ]
  },
  {
   "cell_type": "markdown",
   "metadata": {},
   "source": [
    "## Changing the zero-frame\n",
    "Sometimes the fiducial beads may shift relative to one another during the first few frames of an acqusition. In this case, we can set the frame number at which all fiducial trajectories are set to zero by modifying the driftComputer's `zeroFrame`. The default value for `zeroFrame` is `0`."
   ]
  },
  {
   "cell_type": "code",
   "execution_count": 15,
   "metadata": {
    "collapsed": false
   },
   "outputs": [
    {
     "name": "stdout",
     "output_type": "stream",
     "text": [
      "Performing spline fits...\n"
     ]
    }
   ],
   "source": [
    "dc.driftComputer.zeroFrame = 2500 # Trajectories will equal zero at frame 2500 instead of frame 0.\n",
    "processed_df = dc(df)\n",
    "dc.driftComputer.plotFiducials()"
   ]
  },
  {
   "cell_type": "markdown",
   "metadata": {},
   "source": [
    "Examining the plots, you can see that the fiducial trajectories are now zero at frame 2500 instead of frame 0. This feature can better help to align noisy fiducial tracks."
   ]
  },
  {
   "cell_type": "markdown",
   "metadata": {},
   "source": [
    "# Modifying the trajectory-fitting algorithm\n",
    "*You may skip this section if you do not want to program your own drift computer.*\n",
    "\n",
    "By default, B-Store uses a curve fitting algorithm based on a cubic smoothing spline. The algorithm is implemented in a class called `DefaultDriftComputer` which uses the `ComputeTrajectories` interface. You can write your own driftComputer by inheriting this interface."
   ]
  },
  {
   "cell_type": "code",
   "execution_count": 16,
   "metadata": {
    "collapsed": false
   },
   "outputs": [
    {
     "name": "stdout",
     "output_type": "stream",
     "text": [
      "class ComputeTrajectories(metaclass = ABCMeta):\n",
      "    \"\"\"Basic functionality for computing drift trajectories from fiducials.\n",
      "    \n",
      "    \"\"\"\n",
      "    def __init__(self):\n",
      "        \"\"\"Initializes the trajectory computer.\n",
      "        \n",
      "        \"\"\"\n",
      "        self._fiducialData = None\n",
      "        \n",
      "    def clearFiducialLocs(self):\n",
      "        \"\"\"Clears any currently held localization data.\n",
      "        \n",
      "        \"\"\"\n",
      "        self._fiducialData = None\n",
      "    \n",
      "    @property\n",
      "    def fiducialLocs(self):\n",
      "        \"\"\"DataFrame holding the localizations for individual fiducials.\n",
      "        \n",
      "        \"\"\"\n",
      "        return self._fiducialData\n",
      "    \n",
      "    @fiducialLocs.setter\n",
      "    def fiducialLocs(self, fiducialData):\n",
      "        \"\"\"Checks that the fiducial localizations are formatted correctly.\n",
      "        \n",
      "        \"\"\"\n",
      "        assert 'region_id' in fiducialData.index.names, \\\n",
      "                      'fiducialLocs DataFrame requires index named \"region_id\"'\n",
      "        \n",
      "        self._fiducialData = fiducialData\n",
      "        \n",
      "    @abstractmethod\n",
      "    def computeDriftTrajectory(self):\n",
      "        \"\"\"Computes the drift trajectory.\n",
      "        \n",
      "        \"\"\"\n",
      "        pass  \n",
      "\n"
     ]
    }
   ],
   "source": [
    "import inspect\n",
    "print(inspect.getsource(proc.ComputeTrajectories))"
   ]
  },
  {
   "cell_type": "markdown",
   "metadata": {},
   "source": [
    "The `ComputeTrajectories` interface provides a property and a method:\n",
    "\n",
    "1. `fiducialLocs` contains a DataFrame with all of the fiducial localizations. It must have at least one index with the label 'region_id' that identifies which region the localizations came from.\n",
    "\n",
    "2. `clearFiducialLocs()` removes the localization information that is held by the drift computer.\n",
    "\n",
    "In addition, there is one abstract method called `computeDriftTrajectory`. Any class that implements this interface must define a function with this name. As inputs, the method must accept:\n",
    "\n",
    "1. the DataFrame containing the fiducial localizations,\n",
    "2. the starting frame number in the dataset (for datasets whose first frame is not zero)\n",
    "3. the last frame number in the dataset.\n",
    "\n",
    "As an example, the actual implementation of this interface by the `DefaultDriftComputer` is printed below:"
   ]
  },
  {
   "cell_type": "code",
   "execution_count": 17,
   "metadata": {
    "collapsed": false
   },
   "outputs": [
    {
     "name": "stdout",
     "output_type": "stream",
     "text": [
      "    def computeDriftTrajectory(self, fiducialLocs, startFrame, stopFrame):\n",
      "        \"\"\"Computes the final drift trajectory from fiducial localizations.\n",
      "        \n",
      "        Parameters\n",
      "        ----------\n",
      "        fiducialLocs    : Pandas DataFrame\n",
      "            DataFrame containing the localizations belonging to fiducials.\n",
      "        startFrame      : int\n",
      "            The minimum frame number in the full dataset.\n",
      "        stopFrame       : int\n",
      "            The maximum frame number in the full dataset.\n",
      "            \n",
      "        Returns\n",
      "        -------\n",
      "        self.avgSpline : Pandas DataFrame\n",
      "            DataFrame with 'frame' index column and 'xS' and 'yS' position\n",
      "            coordinate columns representing the drift of the sample during the\n",
      "            acquisition.\n",
      "            \n",
      "        Notes\n",
      "        -----\n",
      "        computeDriftTrajectory() requires the start and stop frames\n",
      "        because the fiducial localizations may not span the full range\n",
      "        of frames in the dataset.\n",
      "        \n",
      "        \"\"\"\n",
      "        self.clearFiducialLocs()\n",
      "        self.fiducialLocs = fiducialLocs       \n",
      "        self.fitCurves()\n",
      "        self.combineCurves(startFrame, stopFrame)\n",
      "\n",
      "        return self.avgSpline\n",
      "\n"
     ]
    }
   ],
   "source": [
    "print(inspect.getsource(proc.DefaultDriftComputer.computeDriftTrajectory))"
   ]
  },
  {
   "cell_type": "markdown",
   "metadata": {},
   "source": [
    "The method uses a few other methods that are not required but used by the `DefaultDriftComputer` to fit the individual curves and combine them. Finally, it returns the averaged spline, which is a Pandas DataFrame with an index column named `frame` and regular columns named `xS` and `yS`. Any custom implementation should return the drift trajectory in this format."
   ]
  },
  {
   "cell_type": "code",
   "execution_count": 18,
   "metadata": {
    "collapsed": false
   },
   "outputs": [
    {
     "data": {
      "text/html": [
       "<div>\n",
       "<table border=\"1\" class=\"dataframe\">\n",
       "  <thead>\n",
       "    <tr style=\"text-align: right;\">\n",
       "      <th></th>\n",
       "      <th>xS</th>\n",
       "      <th>yS</th>\n",
       "    </tr>\n",
       "    <tr>\n",
       "      <th>frame</th>\n",
       "      <th></th>\n",
       "      <th></th>\n",
       "    </tr>\n",
       "  </thead>\n",
       "  <tbody>\n",
       "    <tr>\n",
       "      <th>0</th>\n",
       "      <td>-22.563987</td>\n",
       "      <td>-13.450467</td>\n",
       "    </tr>\n",
       "    <tr>\n",
       "      <th>1</th>\n",
       "      <td>-22.554953</td>\n",
       "      <td>-13.439129</td>\n",
       "    </tr>\n",
       "    <tr>\n",
       "      <th>2</th>\n",
       "      <td>-22.545920</td>\n",
       "      <td>-13.427818</td>\n",
       "    </tr>\n",
       "    <tr>\n",
       "      <th>3</th>\n",
       "      <td>-22.536886</td>\n",
       "      <td>-13.416536</td>\n",
       "    </tr>\n",
       "    <tr>\n",
       "      <th>4</th>\n",
       "      <td>-22.527853</td>\n",
       "      <td>-13.405282</td>\n",
       "    </tr>\n",
       "  </tbody>\n",
       "</table>\n",
       "</div>"
      ],
      "text/plain": [
       "              xS         yS\n",
       "frame                      \n",
       "0     -22.563987 -13.450467\n",
       "1     -22.554953 -13.439129\n",
       "2     -22.545920 -13.427818\n",
       "3     -22.536886 -13.416536\n",
       "4     -22.527853 -13.405282"
      ]
     },
     "execution_count": 18,
     "metadata": {},
     "output_type": "execute_result"
    }
   ],
   "source": [
    "# Print the first five values of the DataFrame returned by the drift computer\n",
    "dc.driftComputer.avgSpline.head()"
   ]
  },
  {
   "cell_type": "markdown",
   "metadata": {},
   "source": [
    "To set the drift computer used by the `FiducialDriftCorrect` processor, you can either set its `driftComputer` property to the new computer instance or specify the `driftComputer` argument in its constructor:\n",
    "\n",
    "```python\n",
    "newDC = proc.FiducialDriftCorrect(driftComputer = myCustomComputer)\n",
    "```"
   ]
  },
  {
   "cell_type": "markdown",
   "metadata": {},
   "source": [
    "# Summary\n",
    "+ Fiducial-based drift correction is implemented in two parts: a `FidudicalDriftCorrect` processor and an interface known as `ComputeTrajectories`.\n",
    "+ The default drift computer in B-Store is called `DefaultDriftComputer`. It implements the `ComputeTrajectories` interface.\n",
    "+ Fiducials are manually identified by setting `interactiveSearch` to True and applying the drift correction processor to a DataFrame containing your localizations.\n",
    "+ Select fidicuals by dragging a square around them and hitting the space bar.\n",
    "+ You can investigate the individual fiducial trajectories with the `plotFiducials()` method belonging to the drift computer.\n",
    "+ You can change which fiducials are used by setting `interactiveSearch` to False, and then sending a list of fiducial indexes to `useTrajectories`.\n",
    "+ The zero frame can be modified by setting the `zeroFrame` property of the drift computer. This may help in aligning trajectories.\n",
    "+ If you wish, you can write your own drift correction algorithm by implementing the `ComputeTrajectories` interface and specifying a `computeDriftTrajectory()` method.\n",
    "+ Your custom drift computer may be specified in the `driftComputer` property of the `FiducialDriftCorrect` processor."
   ]
  }
 ],
 "metadata": {
  "kernelspec": {
   "display_name": "Python 3",
   "language": "python",
   "name": "python3"
  },
  "language_info": {
   "codemirror_mode": {
    "name": "ipython",
    "version": 3
   },
   "file_extension": ".py",
   "mimetype": "text/x-python",
   "name": "python",
   "nbconvert_exporter": "python",
   "pygments_lexer": "ipython3",
   "version": "3.5.1"
  }
 },
 "nbformat": 4,
 "nbformat_minor": 0
}
