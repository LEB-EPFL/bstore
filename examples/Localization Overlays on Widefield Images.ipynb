{
 "cells": [
  {
   "cell_type": "markdown",
   "metadata": {},
   "source": [
    "# Visualizing Overlays of Clusters on Widefield Images\n",
    "\n",
    "During an analysis it is very often useful to overlay clustered localizations on top of widefield images to ensure that the clustering is performed correctly. One may also wish to navigate through the clusters and manually annotate them one-by-one.\n",
    "\n",
    "In this notebook, we will demonstrate how to do this with the OverlayClusters and AlignToWidefield multiprocessors."
   ]
  },
  {
   "cell_type": "code",
   "execution_count": 1,
   "metadata": {
    "collapsed": false
   },
   "outputs": [
    {
     "name": "stdout",
     "output_type": "stream",
     "text": [
      "Using matplotlib backend: Qt4Agg\n",
      "Populating the interactive namespace from numpy and matplotlib\n"
     ]
    }
   ],
   "source": [
    "# Import the essential bstore libraries\n",
    "%pylab\n",
    "from bstore import processors as proc\n",
    "from bstore import multiprocessors as mp\n",
    "import pandas as pd\n",
    "\n",
    "# This is part of Python 3.4 and greater and not part of B-Store\n",
    "from pathlib import Path"
   ]
  },
  {
   "cell_type": "markdown",
   "metadata": {},
   "source": [
    "## Before starting: Get the test data\n",
    "You can get the test data for this tutorial from the B-Store test repository at https://github.com/kmdouglass/bstore_test_files. Clone or download the files and change the filename below to point to the folder *multiprocessor_test_files/align_to_widefield* within this repository."
   ]
  },
  {
   "cell_type": "code",
   "execution_count": 2,
   "metadata": {
    "collapsed": true
   },
   "outputs": [],
   "source": [
    "dataDirectory = Path('../../bstore_test_files/multiprocessor_test_files/align_to_widefield/') # ../ means go up one directory level"
   ]
  },
  {
   "cell_type": "markdown",
   "metadata": {},
   "source": [
    "# Step one: load the data\n",
    "\n",
    "This example demonstrates how to use the [OverlayClusters](http://b-store.readthedocs.io/en/latest/bstore.html#bstore.multiprocessors.OverlayClusters) multiprocessor in B-Store's analysis tools. This processor takes as input \n",
    "\n",
    "1. a Pandas DataFrame containing clustered localization information;\n",
    "2. (optional) a Pandas DataFrame containing the statistics belonging to each cluster;\n",
    "3. (optional) a widefield image to overlay the clusters onto.\n",
    "\n",
    "If no `stats` DataFrame is supplied, a basic one will be calculated. If no widefield image is supplied, then the clusters will be displayed on a blank 2D space.\n",
    "\n",
    "The DataFrame containing the localizations **MUST** have a column that specifies cluster IDs as integers. If the localizations have not been clustered, you could use the [Cluster processor](http://b-store.readthedocs.io/en/latest/bstore.html#bstore.processors.Cluster) or any other clustering algorithm to do so.\n",
    "\n",
    "The example data contains all three of the above datasets, so we'll load all three now."
   ]
  },
  {
   "cell_type": "code",
   "execution_count": 3,
   "metadata": {
    "collapsed": false
   },
   "outputs": [],
   "source": [
    "locsFile  = dataDirectory / Path('locResults_A647_Pos0.csv')\n",
    "statsFile = dataDirectory / Path('locResults_A647_Pos0_processed.csv')\n",
    "wfFile    = dataDirectory / Path('HeLaS_Control_53BP1_IF_FISH_A647_WF1/HeLaS_Control_53BP1_IF_FISH_A647_WF1_MMStack_Pos0.ome.tif')\n",
    "\n",
    "with open(str(locsFile), 'r') as f:\n",
    "    locs = pd.read_csv(f)\n",
    "    \n",
    "with open(str(statsFile), 'r') as f:\n",
    "    # Note that we set the cluster_id to the index column!\n",
    "    stats = pd.read_csv(f, index_col = 'cluster_id')\n",
    "    \n",
    "with open(str(wfFile), 'br') as f:\n",
    "    img = plt.imread(f)"
   ]
  },
  {
   "cell_type": "code",
   "execution_count": 4,
   "metadata": {
    "collapsed": false
   },
   "outputs": [
    {
     "data": {
      "text/html": [
       "<div>\n",
       "<table border=\"1\" class=\"dataframe\">\n",
       "  <thead>\n",
       "    <tr style=\"text-align: right;\">\n",
       "      <th></th>\n",
       "      <th>x</th>\n",
       "      <th>y</th>\n",
       "      <th>z</th>\n",
       "      <th>frame</th>\n",
       "      <th>photons</th>\n",
       "      <th>loglikelihood</th>\n",
       "      <th>background</th>\n",
       "      <th>sigma</th>\n",
       "      <th>length</th>\n",
       "      <th>cluster_id</th>\n",
       "    </tr>\n",
       "  </thead>\n",
       "  <tbody>\n",
       "    <tr>\n",
       "      <th>0</th>\n",
       "      <td>2731.223376</td>\n",
       "      <td>88151.099508</td>\n",
       "      <td>0.0</td>\n",
       "      <td>500</td>\n",
       "      <td>173518.90</td>\n",
       "      <td>97.537365</td>\n",
       "      <td>6690.266</td>\n",
       "      <td>126.724696</td>\n",
       "      <td>115</td>\n",
       "      <td>0</td>\n",
       "    </tr>\n",
       "    <tr>\n",
       "      <th>1</th>\n",
       "      <td>2793.600000</td>\n",
       "      <td>65219.000000</td>\n",
       "      <td>0.0</td>\n",
       "      <td>500</td>\n",
       "      <td>1330.00</td>\n",
       "      <td>92.823000</td>\n",
       "      <td>65.583</td>\n",
       "      <td>138.910000</td>\n",
       "      <td>1</td>\n",
       "      <td>-1</td>\n",
       "    </tr>\n",
       "    <tr>\n",
       "      <th>2</th>\n",
       "      <td>9385.288184</td>\n",
       "      <td>97538.576682</td>\n",
       "      <td>0.0</td>\n",
       "      <td>500</td>\n",
       "      <td>4763.67</td>\n",
       "      <td>61.131600</td>\n",
       "      <td>290.942</td>\n",
       "      <td>133.074000</td>\n",
       "      <td>5</td>\n",
       "      <td>1</td>\n",
       "    </tr>\n",
       "    <tr>\n",
       "      <th>3</th>\n",
       "      <td>10362.332473</td>\n",
       "      <td>72860.705094</td>\n",
       "      <td>0.0</td>\n",
       "      <td>500</td>\n",
       "      <td>5023.60</td>\n",
       "      <td>80.984667</td>\n",
       "      <td>319.252</td>\n",
       "      <td>149.726667</td>\n",
       "      <td>3</td>\n",
       "      <td>2</td>\n",
       "    </tr>\n",
       "    <tr>\n",
       "      <th>4</th>\n",
       "      <td>12256.993051</td>\n",
       "      <td>70377.657241</td>\n",
       "      <td>0.0</td>\n",
       "      <td>500</td>\n",
       "      <td>18711.70</td>\n",
       "      <td>90.964900</td>\n",
       "      <td>906.081</td>\n",
       "      <td>143.543000</td>\n",
       "      <td>10</td>\n",
       "      <td>3</td>\n",
       "    </tr>\n",
       "  </tbody>\n",
       "</table>\n",
       "</div>"
      ],
      "text/plain": [
       "              x             y    z  frame    photons  loglikelihood  \\\n",
       "0   2731.223376  88151.099508  0.0    500  173518.90      97.537365   \n",
       "1   2793.600000  65219.000000  0.0    500    1330.00      92.823000   \n",
       "2   9385.288184  97538.576682  0.0    500    4763.67      61.131600   \n",
       "3  10362.332473  72860.705094  0.0    500    5023.60      80.984667   \n",
       "4  12256.993051  70377.657241  0.0    500   18711.70      90.964900   \n",
       "\n",
       "   background       sigma  length  cluster_id  \n",
       "0    6690.266  126.724696     115           0  \n",
       "1      65.583  138.910000       1          -1  \n",
       "2     290.942  133.074000       5           1  \n",
       "3     319.252  149.726667       3           2  \n",
       "4     906.081  143.543000      10           3  "
      ]
     },
     "execution_count": 4,
     "metadata": {},
     "output_type": "execute_result"
    }
   ],
   "source": [
    "locs.head()"
   ]
  },
  {
   "cell_type": "code",
   "execution_count": 5,
   "metadata": {
    "collapsed": false
   },
   "outputs": [
    {
     "data": {
      "text/html": [
       "<div>\n",
       "<table border=\"1\" class=\"dataframe\">\n",
       "  <thead>\n",
       "    <tr style=\"text-align: right;\">\n",
       "      <th></th>\n",
       "      <th>x_center</th>\n",
       "      <th>y_center</th>\n",
       "      <th>number_of_localizations</th>\n",
       "      <th>eccentricity</th>\n",
       "      <th>convex_hull</th>\n",
       "      <th>radius_of_gyration</th>\n",
       "    </tr>\n",
       "    <tr>\n",
       "      <th>cluster_id</th>\n",
       "      <th></th>\n",
       "      <th></th>\n",
       "      <th></th>\n",
       "      <th></th>\n",
       "      <th></th>\n",
       "      <th></th>\n",
       "    </tr>\n",
       "  </thead>\n",
       "  <tbody>\n",
       "    <tr>\n",
       "      <th>-1</th>\n",
       "      <td>53280.718198</td>\n",
       "      <td>50983.564479</td>\n",
       "      <td>12187</td>\n",
       "      <td>1.301732</td>\n",
       "      <td>9.430623</td>\n",
       "      <td>39925.833664</td>\n",
       "    </tr>\n",
       "    <tr>\n",
       "      <th>0</th>\n",
       "      <td>2729.491474</td>\n",
       "      <td>88159.770103</td>\n",
       "      <td>935</td>\n",
       "      <td>1.452702</td>\n",
       "      <td>4601.631900</td>\n",
       "      <td>13.136815</td>\n",
       "    </tr>\n",
       "    <tr>\n",
       "      <th>1</th>\n",
       "      <td>9371.397574</td>\n",
       "      <td>97529.475573</td>\n",
       "      <td>61</td>\n",
       "      <td>2.123710</td>\n",
       "      <td>3862.302100</td>\n",
       "      <td>22.195811</td>\n",
       "    </tr>\n",
       "    <tr>\n",
       "      <th>2</th>\n",
       "      <td>10326.880968</td>\n",
       "      <td>72878.546954</td>\n",
       "      <td>230</td>\n",
       "      <td>4.845439</td>\n",
       "      <td>18257.826000</td>\n",
       "      <td>59.531482</td>\n",
       "    </tr>\n",
       "    <tr>\n",
       "      <th>3</th>\n",
       "      <td>12268.029688</td>\n",
       "      <td>70368.264307</td>\n",
       "      <td>51</td>\n",
       "      <td>2.679195</td>\n",
       "      <td>5170.205400</td>\n",
       "      <td>26.197739</td>\n",
       "    </tr>\n",
       "  </tbody>\n",
       "</table>\n",
       "</div>"
      ],
      "text/plain": [
       "                x_center      y_center  number_of_localizations  eccentricity  \\\n",
       "cluster_id                                                                      \n",
       "-1          53280.718198  50983.564479                    12187      1.301732   \n",
       " 0           2729.491474  88159.770103                      935      1.452702   \n",
       " 1           9371.397574  97529.475573                       61      2.123710   \n",
       " 2          10326.880968  72878.546954                      230      4.845439   \n",
       " 3          12268.029688  70368.264307                       51      2.679195   \n",
       "\n",
       "             convex_hull  radius_of_gyration  \n",
       "cluster_id                                    \n",
       "-1              9.430623        39925.833664  \n",
       " 0           4601.631900           13.136815  \n",
       " 1           3862.302100           22.195811  \n",
       " 2          18257.826000           59.531482  \n",
       " 3           5170.205400           26.197739  "
      ]
     },
     "execution_count": 5,
     "metadata": {},
     "output_type": "execute_result"
    }
   ],
   "source": [
    "stats.head()"
   ]
  },
  {
   "cell_type": "code",
   "execution_count": 6,
   "metadata": {
    "collapsed": false
   },
   "outputs": [],
   "source": [
    "plt.imshow(img, cmap = 'gray_r')\n",
    "plt.show()"
   ]
  },
  {
   "cell_type": "markdown",
   "metadata": {},
   "source": [
    "If all goes well you should see the first five lines of the `locs` and `stats` DataFrames. The widefield image of telomeres in HeLa cell nuclei should appear in a separate window after running the above cell."
   ]
  },
  {
   "cell_type": "markdown",
   "metadata": {},
   "source": [
    "# Step two: set up the stats DataFrame for annotation\n",
    "\n",
    "The `OverlayClusters` multiprocessor allows you to annotate clusters with a label, such as `True`, `False`, or an integer between 0 and 9. This allows you to, for example, manually filter clusters for further analyses. To do this, you need to add a column that will be annotated for cluster in the `stats` DataFrame.\n",
    "\n",
    "This step is optional, so you may skip it if you like."
   ]
  },
  {
   "cell_type": "code",
   "execution_count": 7,
   "metadata": {
    "collapsed": false
   },
   "outputs": [
    {
     "data": {
      "text/html": [
       "<div>\n",
       "<table border=\"1\" class=\"dataframe\">\n",
       "  <thead>\n",
       "    <tr style=\"text-align: right;\">\n",
       "      <th></th>\n",
       "      <th>x_center</th>\n",
       "      <th>y_center</th>\n",
       "      <th>number_of_localizations</th>\n",
       "      <th>eccentricity</th>\n",
       "      <th>convex_hull</th>\n",
       "      <th>radius_of_gyration</th>\n",
       "      <th>annotation</th>\n",
       "    </tr>\n",
       "    <tr>\n",
       "      <th>cluster_id</th>\n",
       "      <th></th>\n",
       "      <th></th>\n",
       "      <th></th>\n",
       "      <th></th>\n",
       "      <th></th>\n",
       "      <th></th>\n",
       "      <th></th>\n",
       "    </tr>\n",
       "  </thead>\n",
       "  <tbody>\n",
       "    <tr>\n",
       "      <th>-1</th>\n",
       "      <td>53280.718198</td>\n",
       "      <td>50983.564479</td>\n",
       "      <td>12187</td>\n",
       "      <td>1.301732</td>\n",
       "      <td>9.430623</td>\n",
       "      <td>39925.833664</td>\n",
       "      <td>True</td>\n",
       "    </tr>\n",
       "    <tr>\n",
       "      <th>0</th>\n",
       "      <td>2729.491474</td>\n",
       "      <td>88159.770103</td>\n",
       "      <td>935</td>\n",
       "      <td>1.452702</td>\n",
       "      <td>4601.631900</td>\n",
       "      <td>13.136815</td>\n",
       "      <td>True</td>\n",
       "    </tr>\n",
       "    <tr>\n",
       "      <th>1</th>\n",
       "      <td>9371.397574</td>\n",
       "      <td>97529.475573</td>\n",
       "      <td>61</td>\n",
       "      <td>2.123710</td>\n",
       "      <td>3862.302100</td>\n",
       "      <td>22.195811</td>\n",
       "      <td>True</td>\n",
       "    </tr>\n",
       "    <tr>\n",
       "      <th>2</th>\n",
       "      <td>10326.880968</td>\n",
       "      <td>72878.546954</td>\n",
       "      <td>230</td>\n",
       "      <td>4.845439</td>\n",
       "      <td>18257.826000</td>\n",
       "      <td>59.531482</td>\n",
       "      <td>True</td>\n",
       "    </tr>\n",
       "    <tr>\n",
       "      <th>3</th>\n",
       "      <td>12268.029688</td>\n",
       "      <td>70368.264307</td>\n",
       "      <td>51</td>\n",
       "      <td>2.679195</td>\n",
       "      <td>5170.205400</td>\n",
       "      <td>26.197739</td>\n",
       "      <td>True</td>\n",
       "    </tr>\n",
       "  </tbody>\n",
       "</table>\n",
       "</div>"
      ],
      "text/plain": [
       "                x_center      y_center  number_of_localizations  eccentricity  \\\n",
       "cluster_id                                                                      \n",
       "-1          53280.718198  50983.564479                    12187      1.301732   \n",
       " 0           2729.491474  88159.770103                      935      1.452702   \n",
       " 1           9371.397574  97529.475573                       61      2.123710   \n",
       " 2          10326.880968  72878.546954                      230      4.845439   \n",
       " 3          12268.029688  70368.264307                       51      2.679195   \n",
       "\n",
       "             convex_hull  radius_of_gyration annotation  \n",
       "cluster_id                                               \n",
       "-1              9.430623        39925.833664       True  \n",
       " 0           4601.631900           13.136815       True  \n",
       " 1           3862.302100           22.195811       True  \n",
       " 2          18257.826000           59.531482       True  \n",
       " 3           5170.205400           26.197739       True  "
      ]
     },
     "execution_count": 7,
     "metadata": {},
     "output_type": "execute_result"
    }
   ],
   "source": [
    "# Use AddColumn processor from B-Store to add the column\n",
    "adder = proc.AddColumn('annotation', defaultValue = True)\n",
    "stats = adder(stats)\n",
    "stats.head()"
   ]
  },
  {
   "cell_type": "markdown",
   "metadata": {},
   "source": [
    "You can see that the stats DataFrame now has an annotation column with each value set to `True`.\n",
    "\n",
    "Let's do some initial filtering on this DataFrame. Many of the clusters are noise and don't actually correspond to the telomeric signal. They typically have fewer than 50 localizations per cluster. We can remove already during our filtering step using Pandas DataFrame slicing and assignments."
   ]
  },
  {
   "cell_type": "code",
   "execution_count": 8,
   "metadata": {
    "collapsed": false
   },
   "outputs": [],
   "source": [
    "# Set rows representing clusters with fewer than 50 localizations to false\n",
    "stats.loc[stats['number_of_localizations'] < 50, 'annotation'] = False"
   ]
  },
  {
   "cell_type": "markdown",
   "metadata": {},
   "source": [
    "# Step 3: Overlay the clusters on top of the widefield image\n",
    "\n",
    "Running the cell below will open up a window showing two views. On the left, you will see the full widefield image displayed with white dots on top. These dots are the centers of the clusters in the stats DataFrame. A yellow circle will indicate the current cluster.\n",
    "\n",
    "On the right, you will see a zoom of the current cluster. The localizations in this cluster are teal circles. Green circles denote the centers of other clusters now currently being analyzed and magenta dots denote noise localizations (their `cluster_id` is -1).\n",
    "\n",
    "You can press `g` and `b` to navigate forward and backward through each cluster."
   ]
  },
  {
   "cell_type": "code",
   "execution_count": 9,
   "metadata": {
    "collapsed": false
   },
   "outputs": [
    {
     "name": "stderr",
     "output_type": "stream",
     "text": [
      "/home/kmdouglass/anaconda3/envs/bstore/lib/python3.5/site-packages/matplotlib/backend_bases.py:2437: MatplotlibDeprecationWarning: Using default event loop until function specific to this GUI is implemented\n",
      "  warnings.warn(str, mplDeprecation)\n"
     ]
    }
   ],
   "source": [
    "overlay = mp.OverlayClusters(annotateCol = 'annotation', filterCol='annotation', pixelSize = 108)\n",
    "overlay(locs, stats, img)"
   ]
  },
  {
   "cell_type": "markdown",
   "metadata": {},
   "source": [
    "Setting the `filterCol` parameter to the name of the annotation column removed all the clusters that we filtered out above from the visualization. If you set this None, you will see every cluster in the DataFrame."
   ]
  },
  {
   "cell_type": "markdown",
   "metadata": {},
   "source": [
    "# Step 4: Correcting the shift between clusters and the widefield image\n",
    "\n",
    "As you navigate, you should notice a constant offset between the widefield image and the clusters. This can be corrected with the [AlignToWidefield](http://b-store.readthedocs.io/en/latest/bstore.html#bstore.multiprocessors.AlignToWidefield) multiprocessor. This processor creates a histogram from the localizations and computes the cross-correlation with an upsampled version of the widefield image to determine the global offset between the two.\n",
    "\n",
    "To use this multiprocessor, we will input the widefield image and localizations belonging to the filtered clusters as inputs."
   ]
  },
  {
   "cell_type": "code",
   "execution_count": 10,
   "metadata": {
    "collapsed": false
   },
   "outputs": [
    {
     "name": "stdout",
     "output_type": "stream",
     "text": [
      "x-offset: -172.8, y-offset: -194.4\n"
     ]
    }
   ],
   "source": [
    "# This removes all localizations whose cluster_id is not set to False in stats\n",
    "# Filtering out the noisy localizations is not necessary but sometimes helps the alignment\n",
    "filteredLocs = locs.loc[locs['cluster_id'].isin(stats[stats['annotation'] == True].index)]\n",
    "\n",
    "# Now compute the offset with the filtered localizations\n",
    "aligner = mp.AlignToWidefield()\n",
    "dx, dy = aligner(filteredLocs, img)\n",
    "\n",
    "print('x-offset: {0}, y-offset: {1}'.format(dx, dy))"
   ]
  },
  {
   "cell_type": "markdown",
   "metadata": {},
   "source": [
    "We can now use the `xShift` and `yShift` parameters of the call to overlay to apply these corrections. The localizations are not physically changed by this operation; only their locations in the visualization are moved."
   ]
  },
  {
   "cell_type": "code",
   "execution_count": 11,
   "metadata": {
    "collapsed": false
   },
   "outputs": [
    {
     "name": "stderr",
     "output_type": "stream",
     "text": [
      "/home/kmdouglass/anaconda3/envs/bstore/lib/python3.5/site-packages/matplotlib/backend_bases.py:2437: MatplotlibDeprecationWarning: Using default event loop until function specific to this GUI is implemented\n",
      "  warnings.warn(str, mplDeprecation)\n"
     ]
    }
   ],
   "source": [
    "overlay = mp.OverlayClusters(annotateCol = 'annotation', filterCol='annotation', pixelSize = 108,\n",
    "                             xShift = dx, yShift = dy)\n",
    "overlay(locs, stats, img)"
   ]
  },
  {
   "cell_type": "markdown",
   "metadata": {},
   "source": [
    "Now when you navigate through the clusters you should see that they overlap quite well."
   ]
  },
  {
   "cell_type": "markdown",
   "metadata": {},
   "source": [
    "# Step 5: Annotating the clusters\n",
    "\n",
    "If you do specify an annotation column in the call to `overlay`, you can use the keyboard to annotate each cluster and move to the next. The following keys are used to add annotations:\n",
    "\n",
    "- **Space bar** : set the value in the stats column for this cluster to `True`\n",
    "- **r** : set the value in the stats column for this cluster to `False` ('r' is for 'reject')\n",
    "- **0-9** : set the value in the stats column to an integer between 0 and 9"
   ]
  },
  {
   "cell_type": "markdown",
   "metadata": {},
   "source": [
    "# Step 6: Saving the results\n",
    "\n",
    "Once you are finished, you may save the results of the annotation by saving the `stats` DataFrame using any of the Pandas save functions, such as `to_csv()`."
   ]
  },
  {
   "cell_type": "code",
   "execution_count": 12,
   "metadata": {
    "collapsed": true
   },
   "outputs": [],
   "source": [
    "filename = 'annotated_data'\n",
    "with open(filename, 'w') as f:\n",
    "    stats.to_csv(f)"
   ]
  },
  {
   "cell_type": "markdown",
   "metadata": {},
   "source": [
    "# Summary\n",
    "\n",
    "1. The **OverlayClusters** multiprocessor may be used to overlay clustered localizations on widefield images\n",
    "2. The same multiprocessor may be used to manually annotate clusters\n",
    "3. If the localizations are shifted relative to the widefield image, use the `AlignToWidefield` multiprocessor to correct this global shift."
   ]
  }
 ],
 "metadata": {
  "kernelspec": {
   "display_name": "Python 3",
   "language": "python",
   "name": "python3"
  },
  "language_info": {
   "codemirror_mode": {
    "name": "ipython",
    "version": 3
   },
   "file_extension": ".py",
   "mimetype": "text/x-python",
   "name": "python",
   "nbconvert_exporter": "python",
   "pygments_lexer": "ipython3",
   "version": "3.5.2"
  }
 },
 "nbformat": 4,
 "nbformat_minor": 0
}
