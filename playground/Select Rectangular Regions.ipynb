{
 "cells": [
  {
   "cell_type": "markdown",
   "metadata": {},
   "source": [
    "One problem with the automatic fiducial detection is that it is very slow for large fields of view (it can take hours). The slow down comes from the linking across frames. This is problematic because one may need to try different parameters to achieve good fiducial detection.\n",
    "\n",
    "A possible solution is to visually select regions containing fiducials from histogram plots. Then, the linking can be made to occur only over the search region."
   ]
  },
  {
   "cell_type": "code",
   "execution_count": 1,
   "metadata": {
    "collapsed": false
   },
   "outputs": [
    {
     "name": "stdout",
     "output_type": "stream",
     "text": [
      "Using matplotlib backend: Qt4Agg\n",
      "Populating the interactive namespace from numpy and matplotlib\n"
     ]
    }
   ],
   "source": [
    "%pylab\n",
    "import DataSTORM.processors as ds\n",
    "import pandas as pd\n",
    "from pathlib import Path"
   ]
  },
  {
   "cell_type": "markdown",
   "metadata": {},
   "source": [
    "### Clean up the data"
   ]
  },
  {
   "cell_type": "code",
   "execution_count": 2,
   "metadata": {
    "collapsed": false
   },
   "outputs": [
    {
     "name": "stderr",
     "output_type": "stream",
     "text": [
      "/home/douglass/anaconda3/envs/DataSTORM/lib/python3.5/site-packages/IPython/core/interactiveshell.py:2902: DtypeWarning: Columns (4) have mixed types. Specify dtype option on import or set low_memory=False.\n",
      "  interactivity=interactivity, compiler=compiler, result=result)\n"
     ]
    }
   ],
   "source": [
    "filename = Path('../test-data/MicroTubules_LargeFOV/FOV1_1500_10ms_1_MMStack_locResults.dat')\n",
    "with open(str(filename.resolve()), 'r') as file:\n",
    "    df = pd.read_csv(file, engine = 'c')"
   ]
  },
  {
   "cell_type": "code",
   "execution_count": 3,
   "metadata": {
    "collapsed": false
   },
   "outputs": [
    {
     "name": "stdout",
     "output_type": "stream",
     "text": [
      "Done.\n"
     ]
    }
   ],
   "source": [
    "stringMask             = df['uncertainty [nm]'].map(lambda x: isinstance(x, str)).as_matrix()\n",
    "df['uncertainty [nm]'] = pd.to_numeric(df['uncertainty [nm]'], errors='coerce')\n",
    "df.replace([np.inf, -np.inf], np.nan, inplace = True)\n",
    "df.dropna()\n",
    "df.reindex()\n",
    "print('Done.')"
   ]
  },
  {
   "cell_type": "markdown",
   "metadata": {},
   "source": [
    "# Display 2D histograms\n",
    "2D histograms seem to be a good way to identify fiducials, especially in microtubules and the centriole samples. This is because the fiducials don't drift much and should be present in every frame, leading to large values in the bins that hide the other features.\n",
    "\n",
    "Let's first try to generate a nice looking 2D histogram that tells us the information we need, specifically the location of the fiducials."
   ]
  },
  {
   "cell_type": "code",
   "execution_count": 37,
   "metadata": {
    "collapsed": false
   },
   "outputs": [],
   "source": [
    "toMicrons = .001 # Conversion of columns to microns\n",
    "\n",
    "fig, ax = plt.subplots()\n",
    "im      = ax.hexbin(df['x [nm]'] * toMicrons, df['y [nm]'] * toMicrons, gridsize = 100, cmap = plt.cm.YlOrRd_r)\n",
    "ax.set_xlabel(r'x-position, $\\mu m$')\n",
    "ax.set_ylabel(r'y-position, $\\mu m$')\n",
    "ax.invert_yaxis()\n",
    "\n",
    "cb      = plt.colorbar(im)\n",
    "cb.set_label('Counts')\n",
    "\n",
    "plt.show()"
   ]
  },
  {
   "cell_type": "code",
   "execution_count": 33,
   "metadata": {
    "collapsed": true
   },
   "outputs": [],
   "source": [
    "plt.close()"
   ]
  },
  {
   "cell_type": "code",
   "execution_count": 34,
   "metadata": {
    "collapsed": false
   },
   "outputs": [
    {
     "data": {
      "text/plain": [
       "0           0.15105\n",
       "1           0.36718\n",
       "2           0.42242\n",
       "3           0.51929\n",
       "4           0.59009\n",
       "5           0.68517\n",
       "6           0.60730\n",
       "7           0.70178\n",
       "8           0.82221\n",
       "9           0.74504\n",
       "10          0.88776\n",
       "11          0.90477\n",
       "12          0.90338\n",
       "13          0.96235\n",
       "14          0.99653\n",
       "15          0.91937\n",
       "16          1.06840\n",
       "17          1.04870\n",
       "18          1.23830\n",
       "19          1.11920\n",
       "20          1.13020\n",
       "21          1.41070\n",
       "22          1.39880\n",
       "23          1.46780\n",
       "24          1.47730\n",
       "25          1.70830\n",
       "26          1.71900\n",
       "27          1.77840\n",
       "28          1.66790\n",
       "29          1.69460\n",
       "             ...   \n",
       "8688753    55.72000\n",
       "8688754    55.95400\n",
       "8688755    56.75800\n",
       "8688756    56.82200\n",
       "8688757    57.80700\n",
       "8688758    58.16000\n",
       "8688759    58.37400\n",
       "8688760    58.67500\n",
       "8688761    58.86100\n",
       "8688762    59.47900\n",
       "8688763    59.66400\n",
       "8688764    60.73400\n",
       "8688765    61.27500\n",
       "8688766    61.39600\n",
       "8688767    61.50000\n",
       "8688768    61.45900\n",
       "8688769    61.80600\n",
       "8688770    61.75200\n",
       "8688771    62.40000\n",
       "8688772    62.71700\n",
       "8688773    63.48000\n",
       "8688774    64.23800\n",
       "8688775    64.65700\n",
       "8688776    64.96900\n",
       "8688777    65.46900\n",
       "8688778    65.37900\n",
       "8688779    65.52500\n",
       "8688780    65.80200\n",
       "8688781    65.88600\n",
       "8688782    66.00700\n",
       "Name: x [nm], dtype: float64"
      ]
     },
     "execution_count": 34,
     "metadata": {},
     "output_type": "execute_result"
    }
   ],
   "source": [
    "df['x [nm]'] * 0.001"
   ]
  },
  {
   "cell_type": "code",
   "execution_count": null,
   "metadata": {
    "collapsed": true
   },
   "outputs": [],
   "source": []
  }
 ],
 "metadata": {
  "kernelspec": {
   "display_name": "Python 3",
   "language": "python",
   "name": "python3"
  },
  "language_info": {
   "codemirror_mode": {
    "name": "ipython",
    "version": 3
   },
   "file_extension": ".py",
   "mimetype": "text/x-python",
   "name": "python",
   "nbconvert_exporter": "python",
   "pygments_lexer": "ipython3",
   "version": "3.5.0"
  }
 },
 "nbformat": 4,
 "nbformat_minor": 0
}
