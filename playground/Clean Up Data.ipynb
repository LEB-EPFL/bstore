{
 "cells": [
  {
   "cell_type": "markdown",
   "metadata": {},
   "source": [
    "# Data cleanup\n",
    "\n",
    "Sometimes MATLAB writes individual entries into the localization files that are not easily parsed (or impossible to parse in ThunderSTORM). For this reason, I need to find a way to clean up the data files."
   ]
  },
  {
   "cell_type": "markdown",
   "metadata": {},
   "source": [
    "### Clean up of data"
   ]
  },
  {
   "cell_type": "code",
   "execution_count": 1,
   "metadata": {
    "collapsed": false
   },
   "outputs": [
    {
     "name": "stdout",
     "output_type": "stream",
     "text": [
      "Using matplotlib backend: Qt4Agg\n",
      "Populating the interactive namespace from numpy and matplotlib\n"
     ]
    }
   ],
   "source": [
    "%pylab\n",
    "import DataSTORM.processors as ds\n",
    "import pandas as pd\n",
    "from pathlib import Path"
   ]
  },
  {
   "cell_type": "code",
   "execution_count": 2,
   "metadata": {
    "collapsed": false
   },
   "outputs": [
    {
     "name": "stderr",
     "output_type": "stream",
     "text": [
      "/home/kmdouglass/anaconda3/envs/DataSTORM/lib/python3.5/site-packages/IPython/core/interactiveshell.py:2902: DtypeWarning: Columns (4) have mixed types. Specify dtype option on import or set low_memory=False.\n",
      "  interactivity=interactivity, compiler=compiler, result=result)\n"
     ]
    }
   ],
   "source": [
    "filename = Path('../test-data/MicroTubules_LargeFOV/FOV1_1500_10ms_1_MMStack_locResults.dat')\n",
    "with open(str(filename.resolve()), 'r') as file:\n",
    "    df = pd.read_csv(file, engine = 'c')"
   ]
  },
  {
   "cell_type": "markdown",
   "metadata": {},
   "source": [
    "Unfortunately, the data in the uncertainty column was saved such that most of the numbers are floats, but some are strings representing floats and some are in a strange complex exponential form. Let's filter out these rows to make working with the data frame easier and to protoype a clean up routine.\n",
    "\n",
    "First, I'll generate a mask to pick out the rows containing strings."
   ]
  },
  {
   "cell_type": "code",
   "execution_count": 3,
   "metadata": {
    "collapsed": false
   },
   "outputs": [],
   "source": [
    "stringMask = df['uncertainty [nm]'].map(lambda x: isinstance(x, str)).as_matrix()"
   ]
  },
  {
   "cell_type": "markdown",
   "metadata": {},
   "source": [
    "Let's see what the strings look like:"
   ]
  },
  {
   "cell_type": "code",
   "execution_count": null,
   "metadata": {
    "collapsed": false
   },
   "outputs": [],
   "source": [
    "df['uncertainty [nm]'][stringMask]"
   ]
  },
  {
   "cell_type": "code",
   "execution_count": 25,
   "metadata": {
    "collapsed": false
   },
   "outputs": [
    {
     "data": {
      "text/plain": [
       "<module 'DataSTORM.processors' from '/home/kmdouglass/src/DataSTORM/DataSTORM/processors.py'>"
      ]
     },
     "execution_count": 25,
     "metadata": {},
     "output_type": "execute_result"
    }
   ],
   "source": [
    "import importlib\n",
    "importlib.reload(ds)"
   ]
  },
  {
   "cell_type": "code",
   "execution_count": 26,
   "metadata": {
    "collapsed": false
   },
   "outputs": [],
   "source": [
    "# Try DataSTORM's cleanup command and compare to manual clean up later\n",
    "clean = ds.CleanUp()\n",
    "dfClean = clean(df)"
   ]
  },
  {
   "cell_type": "code",
   "execution_count": 27,
   "metadata": {
    "collapsed": false
   },
   "outputs": [
    {
     "data": {
      "text/html": [
       "<div>\n",
       "<table border=\"1\" class=\"dataframe\">\n",
       "  <thead>\n",
       "    <tr style=\"text-align: right;\">\n",
       "      <th></th>\n",
       "      <th>x [nm]</th>\n",
       "      <th>y [nm]</th>\n",
       "      <th>z [nm]</th>\n",
       "      <th>frame</th>\n",
       "      <th>uncertainty [nm]</th>\n",
       "      <th>intensity [photon]</th>\n",
       "      <th>offset [photon]</th>\n",
       "      <th>loglikelihood</th>\n",
       "      <th>sigma [nm]</th>\n",
       "    </tr>\n",
       "  </thead>\n",
       "  <tbody>\n",
       "    <tr>\n",
       "      <th>count</th>\n",
       "      <td>8667397.000000</td>\n",
       "      <td>8667397.000000</td>\n",
       "      <td>8667397</td>\n",
       "      <td>8667397.000000</td>\n",
       "      <td>8.667397e+06</td>\n",
       "      <td>8667397.000000</td>\n",
       "      <td>8667397.000000</td>\n",
       "      <td>8667397.000000</td>\n",
       "      <td>8667397.000000</td>\n",
       "    </tr>\n",
       "    <tr>\n",
       "      <th>mean</th>\n",
       "      <td>34426.251067</td>\n",
       "      <td>34906.420891</td>\n",
       "      <td>0</td>\n",
       "      <td>20088.623120</td>\n",
       "      <td>8.055292e+11</td>\n",
       "      <td>3642.044266</td>\n",
       "      <td>344.474718</td>\n",
       "      <td>203.382508</td>\n",
       "      <td>134.408034</td>\n",
       "    </tr>\n",
       "    <tr>\n",
       "      <th>std</th>\n",
       "      <td>22145.547453</td>\n",
       "      <td>13027.020305</td>\n",
       "      <td>0</td>\n",
       "      <td>14416.319868</td>\n",
       "      <td>1.344216e+15</td>\n",
       "      <td>2569.207387</td>\n",
       "      <td>69.663961</td>\n",
       "      <td>824.384742</td>\n",
       "      <td>18.041903</td>\n",
       "    </tr>\n",
       "    <tr>\n",
       "      <th>min</th>\n",
       "      <td>7.470800</td>\n",
       "      <td>2.106100</td>\n",
       "      <td>0</td>\n",
       "      <td>100.000000</td>\n",
       "      <td>4.413800e-01</td>\n",
       "      <td>1.000000</td>\n",
       "      <td>98.010000</td>\n",
       "      <td>-29.974000</td>\n",
       "      <td>54.000000</td>\n",
       "    </tr>\n",
       "    <tr>\n",
       "      <th>25%</th>\n",
       "      <td>12235.000000</td>\n",
       "      <td>24933.000000</td>\n",
       "      <td>0</td>\n",
       "      <td>6720.000000</td>\n",
       "      <td>4.937900e+00</td>\n",
       "      <td>2256.800000</td>\n",
       "      <td>289.830000</td>\n",
       "      <td>96.946000</td>\n",
       "      <td>123.700000</td>\n",
       "    </tr>\n",
       "    <tr>\n",
       "      <th>50%</th>\n",
       "      <td>36195.000000</td>\n",
       "      <td>35067.000000</td>\n",
       "      <td>0</td>\n",
       "      <td>19463.000000</td>\n",
       "      <td>6.668600e+00</td>\n",
       "      <td>3023.200000</td>\n",
       "      <td>336.660000</td>\n",
       "      <td>124.960000</td>\n",
       "      <td>131.560000</td>\n",
       "    </tr>\n",
       "    <tr>\n",
       "      <th>75%</th>\n",
       "      <td>55460.000000</td>\n",
       "      <td>45292.000000</td>\n",
       "      <td>0</td>\n",
       "      <td>31084.000000</td>\n",
       "      <td>8.497100e+00</td>\n",
       "      <td>4289.300000</td>\n",
       "      <td>391.200000</td>\n",
       "      <td>174.810000</td>\n",
       "      <td>141.410000</td>\n",
       "    </tr>\n",
       "    <tr>\n",
       "      <th>max</th>\n",
       "      <td>67067.000000</td>\n",
       "      <td>67033.000000</td>\n",
       "      <td>0</td>\n",
       "      <td>49999.000000</td>\n",
       "      <td>3.560500e+18</td>\n",
       "      <td>86565.000000</td>\n",
       "      <td>2294.800000</td>\n",
       "      <td>454360.000000</td>\n",
       "      <td>378.000000</td>\n",
       "    </tr>\n",
       "  </tbody>\n",
       "</table>\n",
       "</div>"
      ],
      "text/plain": [
       "               x [nm]          y [nm]   z [nm]           frame  \\\n",
       "count  8667397.000000  8667397.000000  8667397  8667397.000000   \n",
       "mean     34426.251067    34906.420891        0    20088.623120   \n",
       "std      22145.547453    13027.020305        0    14416.319868   \n",
       "min          7.470800        2.106100        0      100.000000   \n",
       "25%      12235.000000    24933.000000        0     6720.000000   \n",
       "50%      36195.000000    35067.000000        0    19463.000000   \n",
       "75%      55460.000000    45292.000000        0    31084.000000   \n",
       "max      67067.000000    67033.000000        0    49999.000000   \n",
       "\n",
       "       uncertainty [nm]  intensity [photon]  offset [photon]   loglikelihood  \\\n",
       "count      8.667397e+06      8667397.000000   8667397.000000  8667397.000000   \n",
       "mean       8.055292e+11         3642.044266       344.474718      203.382508   \n",
       "std        1.344216e+15         2569.207387        69.663961      824.384742   \n",
       "min        4.413800e-01            1.000000        98.010000      -29.974000   \n",
       "25%        4.937900e+00         2256.800000       289.830000       96.946000   \n",
       "50%        6.668600e+00         3023.200000       336.660000      124.960000   \n",
       "75%        8.497100e+00         4289.300000       391.200000      174.810000   \n",
       "max        3.560500e+18        86565.000000      2294.800000   454360.000000   \n",
       "\n",
       "           sigma [nm]  \n",
       "count  8667397.000000  \n",
       "mean       134.408034  \n",
       "std         18.041903  \n",
       "min         54.000000  \n",
       "25%        123.700000  \n",
       "50%        131.560000  \n",
       "75%        141.410000  \n",
       "max        378.000000  "
      ]
     },
     "execution_count": 27,
     "metadata": {},
     "output_type": "execute_result"
    }
   ],
   "source": [
    "dfClean.describe()"
   ]
  },
  {
   "cell_type": "markdown",
   "metadata": {},
   "source": [
    "So, strangely there were about 11,000 localizations that were interpreted as strings in this data set. Let's cast them as numeric data types. Some of the strings cannot be recognized by the parser, so we'll convert those to NaN's by using the `errors='coerce'` argument."
   ]
  },
  {
   "cell_type": "code",
   "execution_count": 4,
   "metadata": {
    "collapsed": false
   },
   "outputs": [],
   "source": [
    "df['uncertainty [nm]'] = pd.to_numeric(df['uncertainty [nm]'], errors='coerce')"
   ]
  },
  {
   "cell_type": "markdown",
   "metadata": {},
   "source": [
    "Finally, we need to replace any Inf's with NaN's and then drop the NaN's. We'll reindex the final result."
   ]
  },
  {
   "cell_type": "code",
   "execution_count": 5,
   "metadata": {
    "collapsed": false
   },
   "outputs": [
    {
     "data": {
      "text/html": [
       "<div>\n",
       "<table border=\"1\" class=\"dataframe\">\n",
       "  <thead>\n",
       "    <tr style=\"text-align: right;\">\n",
       "      <th></th>\n",
       "      <th>x [nm]</th>\n",
       "      <th>y [nm]</th>\n",
       "      <th>z [nm]</th>\n",
       "      <th>frame</th>\n",
       "      <th>uncertainty [nm]</th>\n",
       "      <th>intensity [photon]</th>\n",
       "      <th>offset [photon]</th>\n",
       "      <th>loglikelihood</th>\n",
       "      <th>sigma [nm]</th>\n",
       "    </tr>\n",
       "  </thead>\n",
       "  <tbody>\n",
       "    <tr>\n",
       "      <th>count</th>\n",
       "      <td>8667397.000000</td>\n",
       "      <td>8667397.000000</td>\n",
       "      <td>8667397</td>\n",
       "      <td>8667397.000000</td>\n",
       "      <td>8.667397e+06</td>\n",
       "      <td>8667397.000000</td>\n",
       "      <td>8667397.000000</td>\n",
       "      <td>8667397.000000</td>\n",
       "      <td>8667397.000000</td>\n",
       "    </tr>\n",
       "    <tr>\n",
       "      <th>mean</th>\n",
       "      <td>34426.251067</td>\n",
       "      <td>34906.420891</td>\n",
       "      <td>0</td>\n",
       "      <td>20088.623120</td>\n",
       "      <td>8.055292e+11</td>\n",
       "      <td>3642.044266</td>\n",
       "      <td>344.474718</td>\n",
       "      <td>203.382508</td>\n",
       "      <td>134.408034</td>\n",
       "    </tr>\n",
       "    <tr>\n",
       "      <th>std</th>\n",
       "      <td>22145.547453</td>\n",
       "      <td>13027.020305</td>\n",
       "      <td>0</td>\n",
       "      <td>14416.319868</td>\n",
       "      <td>1.344216e+15</td>\n",
       "      <td>2569.207387</td>\n",
       "      <td>69.663961</td>\n",
       "      <td>824.384742</td>\n",
       "      <td>18.041903</td>\n",
       "    </tr>\n",
       "    <tr>\n",
       "      <th>min</th>\n",
       "      <td>7.470800</td>\n",
       "      <td>2.106100</td>\n",
       "      <td>0</td>\n",
       "      <td>100.000000</td>\n",
       "      <td>4.413800e-01</td>\n",
       "      <td>1.000000</td>\n",
       "      <td>98.010000</td>\n",
       "      <td>-29.974000</td>\n",
       "      <td>54.000000</td>\n",
       "    </tr>\n",
       "    <tr>\n",
       "      <th>25%</th>\n",
       "      <td>12235.000000</td>\n",
       "      <td>24933.000000</td>\n",
       "      <td>0</td>\n",
       "      <td>6720.000000</td>\n",
       "      <td>4.937900e+00</td>\n",
       "      <td>2256.800000</td>\n",
       "      <td>289.830000</td>\n",
       "      <td>96.946000</td>\n",
       "      <td>123.700000</td>\n",
       "    </tr>\n",
       "    <tr>\n",
       "      <th>50%</th>\n",
       "      <td>36195.000000</td>\n",
       "      <td>35067.000000</td>\n",
       "      <td>0</td>\n",
       "      <td>19463.000000</td>\n",
       "      <td>6.668600e+00</td>\n",
       "      <td>3023.200000</td>\n",
       "      <td>336.660000</td>\n",
       "      <td>124.960000</td>\n",
       "      <td>131.560000</td>\n",
       "    </tr>\n",
       "    <tr>\n",
       "      <th>75%</th>\n",
       "      <td>55460.000000</td>\n",
       "      <td>45292.000000</td>\n",
       "      <td>0</td>\n",
       "      <td>31084.000000</td>\n",
       "      <td>8.497100e+00</td>\n",
       "      <td>4289.300000</td>\n",
       "      <td>391.200000</td>\n",
       "      <td>174.810000</td>\n",
       "      <td>141.410000</td>\n",
       "    </tr>\n",
       "    <tr>\n",
       "      <th>max</th>\n",
       "      <td>67067.000000</td>\n",
       "      <td>67033.000000</td>\n",
       "      <td>0</td>\n",
       "      <td>49999.000000</td>\n",
       "      <td>3.560500e+18</td>\n",
       "      <td>86565.000000</td>\n",
       "      <td>2294.800000</td>\n",
       "      <td>454360.000000</td>\n",
       "      <td>378.000000</td>\n",
       "    </tr>\n",
       "  </tbody>\n",
       "</table>\n",
       "</div>"
      ],
      "text/plain": [
       "               x [nm]          y [nm]   z [nm]           frame  \\\n",
       "count  8667397.000000  8667397.000000  8667397  8667397.000000   \n",
       "mean     34426.251067    34906.420891        0    20088.623120   \n",
       "std      22145.547453    13027.020305        0    14416.319868   \n",
       "min          7.470800        2.106100        0      100.000000   \n",
       "25%      12235.000000    24933.000000        0     6720.000000   \n",
       "50%      36195.000000    35067.000000        0    19463.000000   \n",
       "75%      55460.000000    45292.000000        0    31084.000000   \n",
       "max      67067.000000    67033.000000        0    49999.000000   \n",
       "\n",
       "       uncertainty [nm]  intensity [photon]  offset [photon]   loglikelihood  \\\n",
       "count      8.667397e+06      8667397.000000   8667397.000000  8667397.000000   \n",
       "mean       8.055292e+11         3642.044266       344.474718      203.382508   \n",
       "std        1.344216e+15         2569.207387        69.663961      824.384742   \n",
       "min        4.413800e-01            1.000000        98.010000      -29.974000   \n",
       "25%        4.937900e+00         2256.800000       289.830000       96.946000   \n",
       "50%        6.668600e+00         3023.200000       336.660000      124.960000   \n",
       "75%        8.497100e+00         4289.300000       391.200000      174.810000   \n",
       "max        3.560500e+18        86565.000000      2294.800000   454360.000000   \n",
       "\n",
       "           sigma [nm]  \n",
       "count  8667397.000000  \n",
       "mean       134.408034  \n",
       "std         18.041903  \n",
       "min         54.000000  \n",
       "25%        123.700000  \n",
       "50%        131.560000  \n",
       "75%        141.410000  \n",
       "max        378.000000  "
      ]
     },
     "execution_count": 5,
     "metadata": {},
     "output_type": "execute_result"
    }
   ],
   "source": [
    "df.replace([np.inf, -np.inf], np.nan, inplace = True)\n",
    "df.dropna().describe()"
   ]
  },
  {
   "cell_type": "code",
   "execution_count": 6,
   "metadata": {
    "collapsed": false
   },
   "outputs": [
    {
     "name": "stdout",
     "output_type": "stream",
     "text": [
      "Done.\n"
     ]
    }
   ],
   "source": [
    "df.reindex()\n",
    "print('Done.')"
   ]
  },
  {
   "cell_type": "markdown",
   "metadata": {},
   "source": [
    "## Normal localization processing\n",
    "Now that the data is cleaned up a bit, we'll proceed with our normal processing."
   ]
  },
  {
   "cell_type": "code",
   "execution_count": null,
   "metadata": {
    "collapsed": false
   },
   "outputs": [],
   "source": [
    "df.describe()"
   ]
  },
  {
   "cell_type": "code",
   "execution_count": null,
   "metadata": {
    "collapsed": true
   },
   "outputs": [],
   "source": [
    "FilterLLR  = ds.Filter('loglikelihood', '<', 400)\n",
    "FilterSig1 = ds.Filter('sigma [nm]',    '>', 100)\n",
    "FilterSig2 = ds.Filter('sigma [nm]',    '<', 180)\n",
    "df2        = FilterSig2(FilterSig1(FilterLLR(df)))"
   ]
  },
  {
   "cell_type": "code",
   "execution_count": null,
   "metadata": {
    "collapsed": false
   },
   "outputs": [],
   "source": [
    "df2.describe()"
   ]
  },
  {
   "cell_type": "markdown",
   "metadata": {},
   "source": [
    "## Display the 2D histogram to visually identify fiducials\n",
    "\n",
    "Now we need to make a 2D histogram to see whether the fiducial localizations are apparent."
   ]
  },
  {
   "cell_type": "code",
   "execution_count": 1,
   "metadata": {
    "collapsed": false
   },
   "outputs": [
    {
     "ename": "NameError",
     "evalue": "name 'ds' is not defined",
     "output_type": "error",
     "traceback": [
      "\u001b[1;31m---------------------------------------------------------------------------\u001b[0m",
      "\u001b[1;31mNameError\u001b[0m                                 Traceback (most recent call last)",
      "\u001b[1;32m<ipython-input-1-d5f1e53e7f55>\u001b[0m in \u001b[0;36m<module>\u001b[1;34m()\u001b[0m\n\u001b[0;32m      1\u001b[0m \u001b[1;32mimport\u001b[0m \u001b[0mimportlib\u001b[0m\u001b[1;33m\u001b[0m\u001b[0m\n\u001b[1;32m----> 2\u001b[1;33m \u001b[0mimportlib\u001b[0m\u001b[1;33m.\u001b[0m\u001b[0mreload\u001b[0m\u001b[1;33m(\u001b[0m\u001b[0mds\u001b[0m\u001b[1;33m)\u001b[0m\u001b[1;33m\u001b[0m\u001b[0m\n\u001b[0m",
      "\u001b[1;31mNameError\u001b[0m: name 'ds' is not defined"
     ]
    }
   ],
   "source": [
    "import importlib\n",
    "importlib.reload(ds)"
   ]
  },
  {
   "cell_type": "code",
   "execution_count": null,
   "metadata": {
    "collapsed": false
   },
   "outputs": [],
   "source": [
    "# Find maximum x or y coordinate\n",
    "maxPos    = np.max([df2['x [nm]'].max(), df2['y [nm]'].max()])\n",
    "pixelSize = 100 # nm\n",
    "\n",
    "numBins = int(maxPos / pixelSize)\n",
    "plt.hist2d(df2['x [nm]'], df2['y [nm]'], bins = numBins)\n",
    "plt.show()"
   ]
  },
  {
   "cell_type": "code",
   "execution_count": null,
   "metadata": {
    "collapsed": false
   },
   "outputs": [],
   "source": [
    "plt.close()"
   ]
  },
  {
   "cell_type": "code",
   "execution_count": null,
   "metadata": {
    "collapsed": false
   },
   "outputs": [],
   "source": [
    "corrector = ds.FiducialDriftCorrect(mergeRadius           = 50,\n",
    "                                    offTime               = 1,\n",
    "                                    minSegmentLength      = 20,\n",
    "                                    minFracFiducialLength = 0.4,\n",
    "                                    neighborRadius        = 500,\n",
    "                                    smoothingWindowSize   = 625,\n",
    "                                    smoothingFilterSize   = 500,\n",
    "                                    searchRegions         = [{'xMin' :  2200,\n",
    "                                                              'xMax' :  2800,\n",
    "                                                              'yMin' : 33200,\n",
    "                                                              'yMax' : 33700}])"
   ]
  },
  {
   "cell_type": "code",
   "execution_count": null,
   "metadata": {
    "collapsed": false
   },
   "outputs": [],
   "source": [
    "df3 = corrector(df2)"
   ]
  },
  {
   "cell_type": "code",
   "execution_count": null,
   "metadata": {
    "collapsed": false
   },
   "outputs": [],
   "source": [
    "# Find maximum x or y coordinate\n",
    "maxPos    = np.max([df3['x [nm]'].max(), df3['y [nm]'].max()])\n",
    "pixelSize = 100 # nm\n",
    "\n",
    "numBins = int(maxPos / pixelSize)\n",
    "plt.hist2d(df3['x [nm]'], df3['y [nm]'], bins = numBins)\n",
    "plt.show()"
   ]
  },
  {
   "cell_type": "code",
   "execution_count": null,
   "metadata": {
    "collapsed": false
   },
   "outputs": [],
   "source": [
    "x0 = corrector.fiducialTrajectories[0]['x'].iloc[[0]].as_matrix()\n",
    "plt.plot(corrector.fiducialTrajectories[0]['frame'], corrector.fiducialTrajectories[0]['x'] - x0)\n",
    "plt.plot(corrector.avgSpline.index,corrector.avgSpline['xS'])\n",
    "plt.plot(np.arange(100,50000), corrector.splines['xS'][0](np.arange(100,50000)) - x0)\n",
    "plt.show()"
   ]
  },
  {
   "cell_type": "code",
   "execution_count": null,
   "metadata": {
    "collapsed": false
   },
   "outputs": [],
   "source": [
    "# BE SURE TO DROP NULLS FIRST\n",
    "df3.dropna(inplace = True)\n",
    "df3.to_csv('fullData.csv', index = False)"
   ]
  },
  {
   "cell_type": "code",
   "execution_count": null,
   "metadata": {
    "collapsed": false
   },
   "outputs": [],
   "source": [
    "df5 = df2[df2['frame'] > 4000]"
   ]
  },
  {
   "cell_type": "code",
   "execution_count": null,
   "metadata": {
    "collapsed": false
   },
   "outputs": [],
   "source": [
    "df5.to_csv('partialData.csv', index = False)"
   ]
  },
  {
   "cell_type": "code",
   "execution_count": null,
   "metadata": {
    "collapsed": false
   },
   "outputs": [],
   "source": [
    "df2.dropna(inplace = True)"
   ]
  },
  {
   "cell_type": "code",
   "execution_count": null,
   "metadata": {
    "collapsed": false
   },
   "outputs": [],
   "source": []
  },
  {
   "cell_type": "code",
   "execution_count": null,
   "metadata": {
    "collapsed": true
   },
   "outputs": [],
   "source": []
  }
 ],
 "metadata": {
  "kernelspec": {
   "display_name": "Python 3",
   "language": "python",
   "name": "python3"
  },
  "language_info": {
   "codemirror_mode": {
    "name": "ipython",
    "version": 3
   },
   "file_extension": ".py",
   "mimetype": "text/x-python",
   "name": "python",
   "nbconvert_exporter": "python",
   "pygments_lexer": "ipython3",
   "version": "3.5.0"
  }
 },
 "nbformat": 4,
 "nbformat_minor": 0
}
