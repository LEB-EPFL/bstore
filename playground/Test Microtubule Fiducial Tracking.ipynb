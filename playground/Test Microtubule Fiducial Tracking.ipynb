{
 "cells": [
  {
   "cell_type": "markdown",
   "metadata": {},
   "source": [
    "Now that I've got a good amount of the core code written, let's test the fiducial tracking behavior on the microtubule datasets."
   ]
  },
  {
   "cell_type": "code",
   "execution_count": 1,
   "metadata": {
    "collapsed": false
   },
   "outputs": [
    {
     "name": "stdout",
     "output_type": "stream",
     "text": [
      "Using matplotlib backend: Qt4Agg\n",
      "Populating the interactive namespace from numpy and matplotlib\n"
     ]
    }
   ],
   "source": [
    "%pylab\n",
    "import DataSTORM.processors as ds\n",
    "import pandas as pd\n",
    "from pathlib import Path\n",
    "import importlib"
   ]
  },
  {
   "cell_type": "code",
   "execution_count": 2,
   "metadata": {
    "collapsed": false
   },
   "outputs": [
    {
     "name": "stderr",
     "output_type": "stream",
     "text": [
      "/home/douglass/anaconda3/envs/DataSTORM/lib/python3.5/site-packages/IPython/core/interactiveshell.py:2902: DtypeWarning: Columns (4) have mixed types. Specify dtype option on import or set low_memory=False.\n",
      "  interactivity=interactivity, compiler=compiler, result=result)\n"
     ]
    }
   ],
   "source": [
    "filename = Path('../test-data/MicroTubules_LargeFOV/FOV2_1500_10ms_1_MMStack_locResults.dat')\n",
    "with open(str(filename.resolve()), 'r') as file:\n",
    "    df = pd.read_csv(file, engine = 'c')"
   ]
  },
  {
   "cell_type": "code",
   "execution_count": 3,
   "metadata": {
    "collapsed": false
   },
   "outputs": [
    {
     "data": {
      "text/html": [
       "<div>\n",
       "<table border=\"1\" class=\"dataframe\">\n",
       "  <thead>\n",
       "    <tr style=\"text-align: right;\">\n",
       "      <th></th>\n",
       "      <th>x [nm]</th>\n",
       "      <th>y [nm]</th>\n",
       "      <th>z [nm]</th>\n",
       "      <th>frame</th>\n",
       "      <th>intensity [photon]</th>\n",
       "      <th>offset [photon]</th>\n",
       "      <th>loglikelihood</th>\n",
       "      <th>sigma [nm]</th>\n",
       "    </tr>\n",
       "  </thead>\n",
       "  <tbody>\n",
       "    <tr>\n",
       "      <th>count</th>\n",
       "      <td>13484220.000000</td>\n",
       "      <td>13484220.000000</td>\n",
       "      <td>13484220</td>\n",
       "      <td>13484220.000000</td>\n",
       "      <td>13484220.000000</td>\n",
       "      <td>13484220.000000</td>\n",
       "      <td>13484220.000000</td>\n",
       "      <td>13484220.000000</td>\n",
       "    </tr>\n",
       "    <tr>\n",
       "      <th>mean</th>\n",
       "      <td>40618.592426</td>\n",
       "      <td>37864.184599</td>\n",
       "      <td>0</td>\n",
       "      <td>20727.189451</td>\n",
       "      <td>3607.341278</td>\n",
       "      <td>311.616173</td>\n",
       "      <td>181.183841</td>\n",
       "      <td>136.937001</td>\n",
       "    </tr>\n",
       "    <tr>\n",
       "      <th>std</th>\n",
       "      <td>15795.465154</td>\n",
       "      <td>18613.368523</td>\n",
       "      <td>0</td>\n",
       "      <td>13717.619952</td>\n",
       "      <td>2312.692213</td>\n",
       "      <td>61.775547</td>\n",
       "      <td>550.856857</td>\n",
       "      <td>19.625671</td>\n",
       "    </tr>\n",
       "    <tr>\n",
       "      <th>min</th>\n",
       "      <td>20.815000</td>\n",
       "      <td>0.090927</td>\n",
       "      <td>0</td>\n",
       "      <td>100.000000</td>\n",
       "      <td>1.000000</td>\n",
       "      <td>98.010000</td>\n",
       "      <td>-49.945000</td>\n",
       "      <td>54.000000</td>\n",
       "    </tr>\n",
       "    <tr>\n",
       "      <th>25%</th>\n",
       "      <td>28866.000000</td>\n",
       "      <td>21163.000000</td>\n",
       "      <td>0</td>\n",
       "      <td>8398.000000</td>\n",
       "      <td>2298.100000</td>\n",
       "      <td>276.150000</td>\n",
       "      <td>91.739000</td>\n",
       "      <td>125.710000</td>\n",
       "    </tr>\n",
       "    <tr>\n",
       "      <th>50%</th>\n",
       "      <td>41007.000000</td>\n",
       "      <td>41023.000000</td>\n",
       "      <td>0</td>\n",
       "      <td>20380.000000</td>\n",
       "      <td>3041.100000</td>\n",
       "      <td>297.350000</td>\n",
       "      <td>118.320000</td>\n",
       "      <td>133.640000</td>\n",
       "    </tr>\n",
       "    <tr>\n",
       "      <th>75%</th>\n",
       "      <td>53900.000000</td>\n",
       "      <td>53754.000000</td>\n",
       "      <td>0</td>\n",
       "      <td>30837.000000</td>\n",
       "      <td>4251.300000</td>\n",
       "      <td>333.410000</td>\n",
       "      <td>164.520000</td>\n",
       "      <td>143.730000</td>\n",
       "    </tr>\n",
       "    <tr>\n",
       "      <th>max</th>\n",
       "      <td>67068.000000</td>\n",
       "      <td>67068.000000</td>\n",
       "      <td>0</td>\n",
       "      <td>49999.000000</td>\n",
       "      <td>85865.000000</td>\n",
       "      <td>4032.700000</td>\n",
       "      <td>267490.000000</td>\n",
       "      <td>378.000000</td>\n",
       "    </tr>\n",
       "  </tbody>\n",
       "</table>\n",
       "</div>"
      ],
      "text/plain": [
       "                x [nm]           y [nm]    z [nm]            frame  \\\n",
       "count  13484220.000000  13484220.000000  13484220  13484220.000000   \n",
       "mean      40618.592426     37864.184599         0     20727.189451   \n",
       "std       15795.465154     18613.368523         0     13717.619952   \n",
       "min          20.815000         0.090927         0       100.000000   \n",
       "25%       28866.000000     21163.000000         0      8398.000000   \n",
       "50%       41007.000000     41023.000000         0     20380.000000   \n",
       "75%       53900.000000     53754.000000         0     30837.000000   \n",
       "max       67068.000000     67068.000000         0     49999.000000   \n",
       "\n",
       "       intensity [photon]  offset [photon]    loglikelihood       sigma [nm]  \n",
       "count     13484220.000000  13484220.000000  13484220.000000  13484220.000000  \n",
       "mean          3607.341278       311.616173       181.183841       136.937001  \n",
       "std           2312.692213        61.775547       550.856857        19.625671  \n",
       "min              1.000000        98.010000       -49.945000        54.000000  \n",
       "25%           2298.100000       276.150000        91.739000       125.710000  \n",
       "50%           3041.100000       297.350000       118.320000       133.640000  \n",
       "75%           4251.300000       333.410000       164.520000       143.730000  \n",
       "max          85865.000000      4032.700000    267490.000000       378.000000  "
      ]
     },
     "execution_count": 3,
     "metadata": {},
     "output_type": "execute_result"
    }
   ],
   "source": [
    "df.describe()"
   ]
  },
  {
   "cell_type": "code",
   "execution_count": 4,
   "metadata": {
    "collapsed": false
   },
   "outputs": [],
   "source": [
    "# Try DataSTORM's cleanup command\n",
    "clean   = ds.CleanUp()\n",
    "dfClean = clean(df)"
   ]
  },
  {
   "cell_type": "code",
   "execution_count": 5,
   "metadata": {
    "collapsed": false
   },
   "outputs": [
    {
     "data": {
      "text/html": [
       "<div>\n",
       "<table border=\"1\" class=\"dataframe\">\n",
       "  <thead>\n",
       "    <tr style=\"text-align: right;\">\n",
       "      <th></th>\n",
       "      <th>x [nm]</th>\n",
       "      <th>y [nm]</th>\n",
       "      <th>z [nm]</th>\n",
       "      <th>frame</th>\n",
       "      <th>uncertainty [nm]</th>\n",
       "      <th>intensity [photon]</th>\n",
       "      <th>offset [photon]</th>\n",
       "      <th>loglikelihood</th>\n",
       "      <th>sigma [nm]</th>\n",
       "    </tr>\n",
       "  </thead>\n",
       "  <tbody>\n",
       "    <tr>\n",
       "      <th>count</th>\n",
       "      <td>13431618.000000</td>\n",
       "      <td>13431618.000000</td>\n",
       "      <td>13431618</td>\n",
       "      <td>13431618.000000</td>\n",
       "      <td>1.343162e+07</td>\n",
       "      <td>13431618.000000</td>\n",
       "      <td>13431618.000000</td>\n",
       "      <td>13431618.000000</td>\n",
       "      <td>13431618.000000</td>\n",
       "    </tr>\n",
       "    <tr>\n",
       "      <th>mean</th>\n",
       "      <td>40566.593880</td>\n",
       "      <td>37837.341840</td>\n",
       "      <td>0</td>\n",
       "      <td>20728.401176</td>\n",
       "      <td>1.376458e+13</td>\n",
       "      <td>3607.404781</td>\n",
       "      <td>311.518477</td>\n",
       "      <td>178.700684</td>\n",
       "      <td>136.470139</td>\n",
       "    </tr>\n",
       "    <tr>\n",
       "      <th>std</th>\n",
       "      <td>15767.119374</td>\n",
       "      <td>18586.255229</td>\n",
       "      <td>0</td>\n",
       "      <td>13716.610325</td>\n",
       "      <td>4.091402e+16</td>\n",
       "      <td>2316.368886</td>\n",
       "      <td>61.786302</td>\n",
       "      <td>549.351270</td>\n",
       "      <td>17.948254</td>\n",
       "    </tr>\n",
       "    <tr>\n",
       "      <th>min</th>\n",
       "      <td>20.815000</td>\n",
       "      <td>0.090927</td>\n",
       "      <td>0</td>\n",
       "      <td>100.000000</td>\n",
       "      <td>5.300700e-01</td>\n",
       "      <td>1.000000</td>\n",
       "      <td>98.010000</td>\n",
       "      <td>-49.945000</td>\n",
       "      <td>54.000000</td>\n",
       "    </tr>\n",
       "    <tr>\n",
       "      <th>25%</th>\n",
       "      <td>28841.000000</td>\n",
       "      <td>21152.000000</td>\n",
       "      <td>0</td>\n",
       "      <td>8401.000000</td>\n",
       "      <td>4.941400e+00</td>\n",
       "      <td>2295.500000</td>\n",
       "      <td>276.090000</td>\n",
       "      <td>91.641000</td>\n",
       "      <td>125.680000</td>\n",
       "    </tr>\n",
       "    <tr>\n",
       "      <th>50%</th>\n",
       "      <td>40964.000000</td>\n",
       "      <td>40988.000000</td>\n",
       "      <td>0</td>\n",
       "      <td>20381.000000</td>\n",
       "      <td>6.515500e+00</td>\n",
       "      <td>3038.900000</td>\n",
       "      <td>297.240000</td>\n",
       "      <td>118.080000</td>\n",
       "      <td>133.580000</td>\n",
       "    </tr>\n",
       "    <tr>\n",
       "      <th>75%</th>\n",
       "      <td>53804.000000</td>\n",
       "      <td>53702.000000</td>\n",
       "      <td>0</td>\n",
       "      <td>30835.000000</td>\n",
       "      <td>8.139000e+00</td>\n",
       "      <td>4252.700000</td>\n",
       "      <td>333.300000</td>\n",
       "      <td>163.640000</td>\n",
       "      <td>143.570000</td>\n",
       "    </tr>\n",
       "    <tr>\n",
       "      <th>max</th>\n",
       "      <td>67068.000000</td>\n",
       "      <td>67068.000000</td>\n",
       "      <td>0</td>\n",
       "      <td>49999.000000</td>\n",
       "      <td>1.448700e+20</td>\n",
       "      <td>85865.000000</td>\n",
       "      <td>4032.700000</td>\n",
       "      <td>267490.000000</td>\n",
       "      <td>378.000000</td>\n",
       "    </tr>\n",
       "  </tbody>\n",
       "</table>\n",
       "</div>"
      ],
      "text/plain": [
       "                x [nm]           y [nm]    z [nm]            frame  \\\n",
       "count  13431618.000000  13431618.000000  13431618  13431618.000000   \n",
       "mean      40566.593880     37837.341840         0     20728.401176   \n",
       "std       15767.119374     18586.255229         0     13716.610325   \n",
       "min          20.815000         0.090927         0       100.000000   \n",
       "25%       28841.000000     21152.000000         0      8401.000000   \n",
       "50%       40964.000000     40988.000000         0     20381.000000   \n",
       "75%       53804.000000     53702.000000         0     30835.000000   \n",
       "max       67068.000000     67068.000000         0     49999.000000   \n",
       "\n",
       "       uncertainty [nm]  intensity [photon]  offset [photon]    loglikelihood  \\\n",
       "count      1.343162e+07     13431618.000000  13431618.000000  13431618.000000   \n",
       "mean       1.376458e+13         3607.404781       311.518477       178.700684   \n",
       "std        4.091402e+16         2316.368886        61.786302       549.351270   \n",
       "min        5.300700e-01            1.000000        98.010000       -49.945000   \n",
       "25%        4.941400e+00         2295.500000       276.090000        91.641000   \n",
       "50%        6.515500e+00         3038.900000       297.240000       118.080000   \n",
       "75%        8.139000e+00         4252.700000       333.300000       163.640000   \n",
       "max        1.448700e+20        85865.000000      4032.700000    267490.000000   \n",
       "\n",
       "            sigma [nm]  \n",
       "count  13431618.000000  \n",
       "mean        136.470139  \n",
       "std          17.948254  \n",
       "min          54.000000  \n",
       "25%         125.680000  \n",
       "50%         133.580000  \n",
       "75%         143.570000  \n",
       "max         378.000000  "
      ]
     },
     "execution_count": 5,
     "metadata": {},
     "output_type": "execute_result"
    }
   ],
   "source": [
    "dfClean.describe()"
   ]
  },
  {
   "cell_type": "markdown",
   "metadata": {},
   "source": [
    "## Normal localization processing\n",
    "Now that the data is cleaned up a bit, we'll proceed with our normal processing."
   ]
  },
  {
   "cell_type": "code",
   "execution_count": 6,
   "metadata": {
    "collapsed": true
   },
   "outputs": [],
   "source": [
    "FilterLLR  = ds.Filter('loglikelihood', '<', 400)\n",
    "FilterSig1 = ds.Filter('sigma [nm]',    '>', 80)\n",
    "FilterSig2 = ds.Filter('sigma [nm]',    '<', 200)\n",
    "df2        = FilterSig2(FilterSig1(FilterLLR(dfClean)))"
   ]
  },
  {
   "cell_type": "code",
   "execution_count": null,
   "metadata": {
    "collapsed": false
   },
   "outputs": [],
   "source": [
    "df2.describe()"
   ]
  },
  {
   "cell_type": "code",
   "execution_count": 7,
   "metadata": {
    "collapsed": false
   },
   "outputs": [],
   "source": [
    "corrector = ds.FiducialDriftCorrect(mergeRadius           = 50,\n",
    "                                    offTime               = 1,\n",
    "                                    minSegmentLength      = 20,\n",
    "                                    minFracFiducialLength = 0.4,\n",
    "                                    neighborRadius        = 500,\n",
    "                                    smoothingWindowSize   = 500, #625\n",
    "                                    smoothingFilterSize   = 300, #500\n",
    "                                    interactiveSearch     = True)\n",
    "\n",
    "#searchRegions = [{'xMin' :  2200, 'xMax' :  2800,\n",
    "#                  'yMin' : 33200, 'yMax' : 33700}]"
   ]
  },
  {
   "cell_type": "code",
   "execution_count": 8,
   "metadata": {
    "collapsed": false
   },
   "outputs": [
    {
     "name": "stdout",
     "output_type": "stream",
     "text": [
      "Frame 49999: 3 trajectories present\n",
      "2 fiducial(s) detected.\n"
     ]
    }
   ],
   "source": [
    "df3 = corrector(df2)"
   ]
  },
  {
   "cell_type": "code",
   "execution_count": 9,
   "metadata": {
    "collapsed": false
   },
   "outputs": [],
   "source": [
    "corrector.plotFiducials()"
   ]
  },
  {
   "cell_type": "code",
   "execution_count": null,
   "metadata": {
    "collapsed": false
   },
   "outputs": [],
   "source": [
    "# Save results\n",
    "df3.to_csv('FOV_7_noPB_1500mW_10ms_1_MMStack_locResults.dat', index = False)"
   ]
  },
  {
   "cell_type": "code",
   "execution_count": null,
   "metadata": {
    "collapsed": true
   },
   "outputs": [],
   "source": []
  }
 ],
 "metadata": {
  "kernelspec": {
   "display_name": "Python 3",
   "language": "python",
   "name": "python3"
  },
  "language_info": {
   "codemirror_mode": {
    "name": "ipython",
    "version": 3
   },
   "file_extension": ".py",
   "mimetype": "text/x-python",
   "name": "python",
   "nbconvert_exporter": "python",
   "pygments_lexer": "ipython3",
   "version": "3.5.0"
  }
 },
 "nbformat": 4,
 "nbformat_minor": 0
}
