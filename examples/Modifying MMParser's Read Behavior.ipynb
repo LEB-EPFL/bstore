{
 "cells": [
  {
   "cell_type": "markdown",
   "metadata": {},
   "source": [
    "BStore comes with a built-in data Parser known as an MMParser. This Parser understands how to convert data from Micro-Manager acquisitions into a format that works with BStore's DatabaseAtom interface.\n",
    "\n",
    "Sometimes, it would be nice to override the default read behaviors of MMParser without writing an entirely new Parser to do this. For example, MMParser attempts to read csv files by default when interpreting localization results. It does this by calling the function `read_csv` from the [Pandas](http://pandas.pydata.org/) library. If for some reason you want to change the arguments to the call to `read_csv`, you can do this by passing a custom-written function to the MMParser constructor that tells it how to read data. Or you could use a different read function entirely.\n",
    "\n",
    "Another example where this could be useful is when changing the column names before writing the DatabaseAtom into a database. BStore's `ConvertHeader` processor could be used to do this. We'll walk through an example of how to do this to demonstrate this functionality."
   ]
  },
  {
   "cell_type": "code",
   "execution_count": 1,
   "metadata": {
    "collapsed": false
   },
   "outputs": [],
   "source": [
    "from bstore.parsers import MMParser\n",
    "import pandas as pd"
   ]
  },
  {
   "cell_type": "markdown",
   "metadata": {},
   "source": [
    "# Define the custom read behavior\n",
    "\n",
    "By default, the MMParser uses a function with a [property decorator](https://docs.python.org/3.5/library/functions.html#property) to read data. If, for example, DefaultParser is the name of your MMParser instance, then running the short line of code `DefaultParser.data` will return a DataFrame when DefaultParser has parsed a locResults file. By default, the data property performs this function:"
   ]
  },
  {
   "cell_type": "code",
   "execution_count": 2,
   "metadata": {
    "collapsed": false
   },
   "outputs": [
    {
     "name": "stdout",
     "output_type": "stream",
     "text": [
      "    def _getDataDefault(self):\n",
      "        \"\"\"Default function used for reading the data in a database atom.\n",
      "        \n",
      "        This function defines the default behaviors for reading data.\n",
      "        It may be overriden by this Parser's constructor to allow for\n",
      "        more specialized reading, such as converting DataFrame column\n",
      "        names upon import.\n",
      "        \n",
      "        \"\"\"\n",
      "        if self._uninitialized:\n",
      "            raise ParserNotInitializedError(('Error: this parser has not yet'\n",
      "                                             ' been initialized.'))\n",
      "        \n",
      "        if self.datasetType == 'locResults':\n",
      "            # Loading the csv file when data() is called reduces the\n",
      "            # chance that large DataFrames do not needlessly\n",
      "            # remain in memory.\n",
      "            with open(str(self._fullPath), 'r') as file:            \n",
      "                df = pd.read_csv(file)\n",
      "                return df\n",
      "                \n",
      "        elif self.datasetType == 'locMetadata':\n",
      "            # self._metadata is set by self._parseLocMetadata\n",
      "            return self._metadata\n",
      "            \n",
      "        elif self.datasetType == 'widefieldImage':\n",
      "            # Load the image data only when called\n",
      "            return imread(str(self._fullPath))\n",
      "\n"
     ]
    }
   ],
   "source": [
    "import inspect\n",
    "\n",
    "DefaultParser = MMParser()\n",
    "print(inspect.getsource(DefaultParser._getDataDefault))"
   ]
  },
  {
   "cell_type": "markdown",
   "metadata": {},
   "source": [
    "The function `_getDataDefault()` simply uses the pandas `pd.read_csv` function to read locResults data into memory. Metadata that is parsed elsewhere inside the class is returned to the user when the dataset type is set to `locMetadata`. Finally, `imread` from the [matplotlib](http://matplotlib.org/) library is used to read image data.\n",
    "\n",
    "We will rewrite this function to use the `ConvertHeader` processor to change the column names of the DataFrame."
   ]
  },
  {
   "cell_type": "markdown",
   "metadata": {},
   "source": [
    "## Write the customGetter function\n",
    "\n",
    "First, we'll define the mapping between column names using `parsers.FormatMap`. Since the column name **frames** will remain unchanged, we don't need to define a mapping for it."
   ]
  },
  {
   "cell_type": "code",
   "execution_count": 3,
   "metadata": {
    "collapsed": true
   },
   "outputs": [],
   "source": [
    "from bstore.parsers    import FormatMap\n",
    "\n",
    "myMapping = FormatMap({'x [nm]' : 'x',\n",
    "                       'y [nm]' : 'y'})"
   ]
  },
  {
   "cell_type": "markdown",
   "metadata": {},
   "source": [
    "Next, we will define a ConvertHeader processor with this mapping."
   ]
  },
  {
   "cell_type": "code",
   "execution_count": 4,
   "metadata": {
    "collapsed": false
   },
   "outputs": [],
   "source": [
    "from bstore.processors import ConvertHeader\n",
    "converter = ConvertHeader(mapping = myMapping)"
   ]
  },
  {
   "cell_type": "markdown",
   "metadata": {},
   "source": [
    "We can now implement the header conversion into a customized getter for when the `data` property is called. We'll use the default getter and modify it slightly."
   ]
  },
  {
   "cell_type": "code",
   "execution_count": 5,
   "metadata": {
    "collapsed": true
   },
   "outputs": [],
   "source": [
    "from matplotlib.pyplot import imread\n",
    "\n",
    "def customGetter(self):\n",
    "    # Note that the customGetter requires an argument that holds\n",
    "    # the class instance, in this case `self`.\n",
    "    if self._uninitialized:\n",
    "        raise ParserNotInitializedError(('Error: this parser has not yet'\n",
    "                                         ' been initialized.'))\n",
    "\n",
    "    if self.datasetType == 'locResults':\n",
    "        # Loading the csv file when data is called and convert\n",
    "        # its column names.\n",
    "        with open(str(self._fullPath), 'r') as file:            \n",
    "            df = pd.read_csv(file)\n",
    "            return converter(df)\n",
    "\n",
    "    elif self.datasetType == 'locMetadata':\n",
    "        # self._metadata is set by self._parseLocMetadata\n",
    "        return self._metadata\n",
    "\n",
    "    elif self.datasetType == 'widefieldImage':\n",
    "        # Load the image data only when called\n",
    "        return imread(str(self._fullPath))"
   ]
  },
  {
   "cell_type": "markdown",
   "metadata": {},
   "source": [
    "If you look closely, all we did here was change the line `return df` to `return converter(df)`. Now, all that remains is to pass this function to a MMParser instance."
   ]
  },
  {
   "cell_type": "code",
   "execution_count": 6,
   "metadata": {
    "collapsed": true
   },
   "outputs": [],
   "source": [
    "CustomParser = MMParser(dataGetter = customGetter)"
   ]
  },
  {
   "cell_type": "markdown",
   "metadata": {},
   "source": [
    "# Create the test dataset\n",
    "The raw localization data will use the column names **x [nm]**, **y [nm]**, and **frames**, but we want to store the data in an `HDFDatabase` with column names **x**, **y**, and **frames**. We can implement this by telling the parser to convert the column names before the DataFrame even reaches the database. Let's start by generating a small test dataset."
   ]
  },
  {
   "cell_type": "code",
   "execution_count": 7,
   "metadata": {
    "collapsed": false
   },
   "outputs": [
    {
     "data": {
      "text/html": [
       "<div>\n",
       "<table border=\"1\" class=\"dataframe\">\n",
       "  <thead>\n",
       "    <tr style=\"text-align: right;\">\n",
       "      <th></th>\n",
       "      <th>frames</th>\n",
       "      <th>x [nm]</th>\n",
       "      <th>y [nm]</th>\n",
       "    </tr>\n",
       "  </thead>\n",
       "  <tbody>\n",
       "    <tr>\n",
       "      <th>0</th>\n",
       "      <td>0</td>\n",
       "      <td>10</td>\n",
       "      <td>20</td>\n",
       "    </tr>\n",
       "    <tr>\n",
       "      <th>1</th>\n",
       "      <td>1</td>\n",
       "      <td>20</td>\n",
       "      <td>5</td>\n",
       "    </tr>\n",
       "    <tr>\n",
       "      <th>2</th>\n",
       "      <td>2</td>\n",
       "      <td>5</td>\n",
       "      <td>10</td>\n",
       "    </tr>\n",
       "  </tbody>\n",
       "</table>\n",
       "</div>"
      ],
      "text/plain": [
       "   frames  x [nm]  y [nm]\n",
       "0       0      10      20\n",
       "1       1      20       5\n",
       "2       2       5      10"
      ]
     },
     "execution_count": 7,
     "metadata": {},
     "output_type": "execute_result"
    }
   ],
   "source": [
    "# Create a test dataset\n",
    "test_data = pd.DataFrame({'x [nm]' : [10, 20, 5],\n",
    "                          'y [nm]' : [20, 5, 10],\n",
    "                          'frames' : [0, 1, 2]})\n",
    "\n",
    "# Save it to a csv file without the index column\n",
    "test_data.to_csv('Cells_TestData_1_MMStack_Pos0_locResults.csv', index = False)\n",
    "\n",
    "# Display the dataset\n",
    "test_data.head()"
   ]
  },
  {
   "cell_type": "markdown",
   "metadata": {},
   "source": [
    "# Testing the parsers\n",
    "When we parse the test data file with the default parser, the column names will remain unchanged."
   ]
  },
  {
   "cell_type": "code",
   "execution_count": 8,
   "metadata": {
    "collapsed": false
   },
   "outputs": [
    {
     "data": {
      "text/html": [
       "<div>\n",
       "<table border=\"1\" class=\"dataframe\">\n",
       "  <thead>\n",
       "    <tr style=\"text-align: right;\">\n",
       "      <th></th>\n",
       "      <th>frames</th>\n",
       "      <th>x [nm]</th>\n",
       "      <th>y [nm]</th>\n",
       "    </tr>\n",
       "  </thead>\n",
       "  <tbody>\n",
       "    <tr>\n",
       "      <th>0</th>\n",
       "      <td>0</td>\n",
       "      <td>10</td>\n",
       "      <td>20</td>\n",
       "    </tr>\n",
       "    <tr>\n",
       "      <th>1</th>\n",
       "      <td>1</td>\n",
       "      <td>20</td>\n",
       "      <td>5</td>\n",
       "    </tr>\n",
       "    <tr>\n",
       "      <th>2</th>\n",
       "      <td>2</td>\n",
       "      <td>5</td>\n",
       "      <td>10</td>\n",
       "    </tr>\n",
       "  </tbody>\n",
       "</table>\n",
       "</div>"
      ],
      "text/plain": [
       "   frames  x [nm]  y [nm]\n",
       "0       0      10      20\n",
       "1       1      20       5\n",
       "2       2       5      10"
      ]
     },
     "execution_count": 8,
     "metadata": {},
     "output_type": "execute_result"
    }
   ],
   "source": [
    "# Parse the filename and load the data into memory\n",
    "DefaultParser.parseFilename('Cells_TestData_1_MMStack_Pos0_locResults.csv')\n",
    "DefaultParser.data"
   ]
  },
  {
   "cell_type": "markdown",
   "metadata": {},
   "source": [
    "And here is what happens when we use our custom parser."
   ]
  },
  {
   "cell_type": "code",
   "execution_count": 9,
   "metadata": {
    "collapsed": false
   },
   "outputs": [
    {
     "data": {
      "text/html": [
       "<div>\n",
       "<table border=\"1\" class=\"dataframe\">\n",
       "  <thead>\n",
       "    <tr style=\"text-align: right;\">\n",
       "      <th></th>\n",
       "      <th>frames</th>\n",
       "      <th>x</th>\n",
       "      <th>y</th>\n",
       "    </tr>\n",
       "  </thead>\n",
       "  <tbody>\n",
       "    <tr>\n",
       "      <th>0</th>\n",
       "      <td>0</td>\n",
       "      <td>10</td>\n",
       "      <td>20</td>\n",
       "    </tr>\n",
       "    <tr>\n",
       "      <th>1</th>\n",
       "      <td>1</td>\n",
       "      <td>20</td>\n",
       "      <td>5</td>\n",
       "    </tr>\n",
       "    <tr>\n",
       "      <th>2</th>\n",
       "      <td>2</td>\n",
       "      <td>5</td>\n",
       "      <td>10</td>\n",
       "    </tr>\n",
       "  </tbody>\n",
       "</table>\n",
       "</div>"
      ],
      "text/plain": [
       "   frames   x   y\n",
       "0       0  10  20\n",
       "1       1  20   5\n",
       "2       2   5  10"
      ]
     },
     "execution_count": 9,
     "metadata": {},
     "output_type": "execute_result"
    }
   ],
   "source": [
    "CustomParser.parseFilename('Cells_TestData_1_MMStack_Pos0_locResults.csv')\n",
    "CustomParser.data"
   ]
  },
  {
   "cell_type": "markdown",
   "metadata": {},
   "source": [
    "# Summary\n",
    "+ We can override the default method used by an MMParser to read in experimental data.\n",
    "+ To override the default behavior, we pass the MMParser a custom-written function to its constructor like `CustomParser = MMParser(dataGetter = customGetter)`.\n",
    "+ The custom function must tell the MMParser how to read all the dataset types, like **locResults** and **locMetadata**.\n",
    "+ This functionality allows you to modify the built-in MMParser without having to write an entirely new Parser yourself."
   ]
  },
  {
   "cell_type": "code",
   "execution_count": 10,
   "metadata": {
    "collapsed": true
   },
   "outputs": [],
   "source": [
    "# Remove the test dataset\n",
    "%rm 'Cells_TestData_1_MMStack_Pos0_locResults.csv'"
   ]
  }
 ],
 "metadata": {
  "kernelspec": {
   "display_name": "Python 3",
   "language": "python",
   "name": "python3"
  },
  "language_info": {
   "codemirror_mode": {
    "name": "ipython",
    "version": 3
   },
   "file_extension": ".py",
   "mimetype": "text/x-python",
   "name": "python",
   "nbconvert_exporter": "python",
   "pygments_lexer": "ipython3",
   "version": "3.5.1"
  }
 },
 "nbformat": 4,
 "nbformat_minor": 0
}
