{
 "cells": [
  {
   "cell_type": "markdown",
   "metadata": {},
   "source": [
    "Similar to fiducial drift correction, 3D imaging based on astigmatism is implemented in B-Store in separate parts:\n",
    "\n",
    "1. the `CalibrateAstigmatism` processor that is used to launch the interactive calibration, and\n",
    "2. a `ComputeTrajectories` class that describes the algorithm for fitting smoothed curves to the beads' x- and y-widths.\n",
    "\n",
    "After fitting the calibration curves, CalibrateAstigmatism provides a function known as `calibrationCurve` that takes a set of localizations as inputs and computes their axial positions as a result."
   ]
  },
  {
   "cell_type": "code",
   "execution_count": 1,
   "metadata": {
    "collapsed": false
   },
   "outputs": [
    {
     "name": "stdout",
     "output_type": "stream",
     "text": [
      "Using matplotlib backend: Qt5Agg\n",
      "Populating the interactive namespace from numpy and matplotlib\n"
     ]
    }
   ],
   "source": [
    "# Be sure not to use the %pylab inline option\n",
    "%pylab\n",
    "from bstore import processors as proc\n",
    "from pathlib import Path\n",
    "import pandas as pd"
   ]
  },
  {
   "cell_type": "markdown",
   "metadata": {
    "collapsed": true
   },
   "source": [
    "# Load the test data\n",
    "The test data for this example is in the [B-Store test files repository](https://github.com/kmdouglass/bstore_test_files). Download or clone this repository, and set the variable below to point to */processor_test_files/sequence-as-stack-Beads-AS-Exp_Localizations.csv*"
   ]
  },
  {
   "cell_type": "code",
   "execution_count": 2,
   "metadata": {
    "collapsed": false
   },
   "outputs": [],
   "source": [
    "pathToData = Path('../../bstore_test_files/processor_test_files/sequence-as-stack-Beads-AS-Exp_Localizations.csv')\n",
    "\n",
    "# Load the test data\n",
    "with open(str(pathToData), 'r') as f:\n",
    "    df = pd.read_csv(f)"
   ]
  },
  {
   "cell_type": "code",
   "execution_count": 3,
   "metadata": {
    "collapsed": false
   },
   "outputs": [
    {
     "data": {
      "text/html": [
       "<div>\n",
       "<table border=\"1\" class=\"dataframe\">\n",
       "  <thead>\n",
       "    <tr style=\"text-align: right;\">\n",
       "      <th></th>\n",
       "      <th>x [nm]</th>\n",
       "      <th>y [nm]</th>\n",
       "      <th>z [nm]</th>\n",
       "      <th>uncertainty [nm]</th>\n",
       "      <th>intensity [photon]</th>\n",
       "      <th>offset [photon]</th>\n",
       "      <th>loglikelihood</th>\n",
       "      <th>sigma_x [nm]</th>\n",
       "      <th>sigma_y [nm]</th>\n",
       "    </tr>\n",
       "  </thead>\n",
       "  <tbody>\n",
       "    <tr>\n",
       "      <th>count</th>\n",
       "      <td>716.000000</td>\n",
       "      <td>716.000000</td>\n",
       "      <td>716.000000</td>\n",
       "      <td>716.000000</td>\n",
       "      <td>716.000000</td>\n",
       "      <td>716.000000</td>\n",
       "      <td>716.000000</td>\n",
       "      <td>716.000000</td>\n",
       "      <td>716.000000</td>\n",
       "    </tr>\n",
       "    <tr>\n",
       "      <th>mean</th>\n",
       "      <td>6704.958659</td>\n",
       "      <td>6779.133101</td>\n",
       "      <td>74.678771</td>\n",
       "      <td>3.016161</td>\n",
       "      <td>10645.718855</td>\n",
       "      <td>34.121381</td>\n",
       "      <td>15366.117737</td>\n",
       "      <td>221.234483</td>\n",
       "      <td>206.438240</td>\n",
       "    </tr>\n",
       "    <tr>\n",
       "      <th>std</th>\n",
       "      <td>3683.198557</td>\n",
       "      <td>3753.031051</td>\n",
       "      <td>328.769322</td>\n",
       "      <td>1.281313</td>\n",
       "      <td>2879.010709</td>\n",
       "      <td>12.428421</td>\n",
       "      <td>4491.920477</td>\n",
       "      <td>77.097773</td>\n",
       "      <td>59.403838</td>\n",
       "    </tr>\n",
       "    <tr>\n",
       "      <th>min</th>\n",
       "      <td>2452.200000</td>\n",
       "      <td>1855.500000</td>\n",
       "      <td>-470.000000</td>\n",
       "      <td>1.547600</td>\n",
       "      <td>5571.600000</td>\n",
       "      <td>19.716000</td>\n",
       "      <td>7633.600000</td>\n",
       "      <td>138.770000</td>\n",
       "      <td>146.370000</td>\n",
       "    </tr>\n",
       "    <tr>\n",
       "      <th>25%</th>\n",
       "      <td>2849.500000</td>\n",
       "      <td>2721.475000</td>\n",
       "      <td>-230.000000</td>\n",
       "      <td>1.903850</td>\n",
       "      <td>7821.175000</td>\n",
       "      <td>24.589000</td>\n",
       "      <td>12155.750000</td>\n",
       "      <td>149.937500</td>\n",
       "      <td>156.632500</td>\n",
       "    </tr>\n",
       "    <tr>\n",
       "      <th>50%</th>\n",
       "      <td>6690.950000</td>\n",
       "      <td>6949.000000</td>\n",
       "      <td>70.000000</td>\n",
       "      <td>2.583250</td>\n",
       "      <td>10988.500000</td>\n",
       "      <td>29.048500</td>\n",
       "      <td>13975.500000</td>\n",
       "      <td>184.740000</td>\n",
       "      <td>179.075000</td>\n",
       "    </tr>\n",
       "    <tr>\n",
       "      <th>75%</th>\n",
       "      <td>9309.025000</td>\n",
       "      <td>11035.000000</td>\n",
       "      <td>360.000000</td>\n",
       "      <td>3.990150</td>\n",
       "      <td>13301.750000</td>\n",
       "      <td>41.119250</td>\n",
       "      <td>19758.500000</td>\n",
       "      <td>291.305000</td>\n",
       "      <td>247.935000</td>\n",
       "    </tr>\n",
       "    <tr>\n",
       "      <th>max</th>\n",
       "      <td>12264.000000</td>\n",
       "      <td>11870.000000</td>\n",
       "      <td>640.000000</td>\n",
       "      <td>6.753600</td>\n",
       "      <td>15424.000000</td>\n",
       "      <td>61.566000</td>\n",
       "      <td>24292.000000</td>\n",
       "      <td>371.850000</td>\n",
       "      <td>344.100000</td>\n",
       "    </tr>\n",
       "  </tbody>\n",
       "</table>\n",
       "</div>"
      ],
      "text/plain": [
       "             x [nm]        y [nm]      z [nm]  uncertainty [nm]  \\\n",
       "count    716.000000    716.000000  716.000000        716.000000   \n",
       "mean    6704.958659   6779.133101   74.678771          3.016161   \n",
       "std     3683.198557   3753.031051  328.769322          1.281313   \n",
       "min     2452.200000   1855.500000 -470.000000          1.547600   \n",
       "25%     2849.500000   2721.475000 -230.000000          1.903850   \n",
       "50%     6690.950000   6949.000000   70.000000          2.583250   \n",
       "75%     9309.025000  11035.000000  360.000000          3.990150   \n",
       "max    12264.000000  11870.000000  640.000000          6.753600   \n",
       "\n",
       "       intensity [photon]  offset [photon]  loglikelihood  sigma_x [nm]  \\\n",
       "count          716.000000       716.000000     716.000000    716.000000   \n",
       "mean         10645.718855        34.121381   15366.117737    221.234483   \n",
       "std           2879.010709        12.428421    4491.920477     77.097773   \n",
       "min           5571.600000        19.716000    7633.600000    138.770000   \n",
       "25%           7821.175000        24.589000   12155.750000    149.937500   \n",
       "50%          10988.500000        29.048500   13975.500000    184.740000   \n",
       "75%          13301.750000        41.119250   19758.500000    291.305000   \n",
       "max          15424.000000        61.566000   24292.000000    371.850000   \n",
       "\n",
       "       sigma_y [nm]  \n",
       "count    716.000000  \n",
       "mean     206.438240  \n",
       "std       59.403838  \n",
       "min      146.370000  \n",
       "25%      156.632500  \n",
       "50%      179.075000  \n",
       "75%      247.935000  \n",
       "max      344.100000  "
      ]
     },
     "execution_count": 3,
     "metadata": {},
     "output_type": "execute_result"
    }
   ],
   "source": [
    "df.describe()"
   ]
  },
  {
   "cell_type": "markdown",
   "metadata": {},
   "source": [
    "This dataset contains localizations from six fluorescent beads that are scanned axially and with a cylindrical lens in the imaging path. The dataset is synthetic and comes from the [2016 SMLM Challenge](http://bigwww.epfl.ch/smlm/challenge2016/index.html); for convenience, the localizations have already been computed from the z-stacks.\n",
    "\n",
    "The known z-position is in the column named **z [nm]**. The PSF widths in x and y are in the columns named **sigma_x [nm]** and **sigma_y [nm]** respectively.\n",
    "\n",
    "Let's plot the localizations' x- and y-positions:"
   ]
  },
  {
   "cell_type": "code",
   "execution_count": 4,
   "metadata": {
    "collapsed": false
   },
   "outputs": [],
   "source": [
    "plt.scatter(df['x [nm]'], -df['y [nm]'], s=2)\n",
    "plt.xlabel('x-position')\n",
    "plt.ylabel('y-position')\n",
    "plt.axis('equal')\n",
    "plt.grid(True)\n",
    "plt.show()"
   ]
  },
  {
   "cell_type": "markdown",
   "metadata": {},
   "source": [
    "# Axial calibrations\n",
    "If you have already worked through the Fiducial Drift Correction notebook, then this part will look familiar. We start by defining a `CalibrateAstigmatism` processor with a few custom parameters. Then, we feed it with our localization file. A window appears that shows a 2D histogram of the density of localizations, allowing us to manually select the beads. We can select any number of regions we like by clicking and dragging a rectangle around the regions.\n",
    "\n",
    "After a region is drawn, **press the space bar to add it to the processor**. You may then select another region in the same manner. To finish searching for beads, simply close the window.\n",
    "\n",
    "Try selecting the bead at \\\\( x = 4.3 \\, \\mu m \\\\), \\\\( y = 7 \\, \\mu m \\\\) and closing the window afterward."
   ]
  },
  {
   "cell_type": "code",
   "execution_count": 5,
   "metadata": {
    "collapsed": false
   },
   "outputs": [
    {
     "name": "stdout",
     "output_type": "stream",
     "text": [
      "Setting wobble fiting range to the match the astigmatism fit range. startz and stopz are set in the astigmatism computer.\n",
      "Performing spline fits...\n",
      "Performing spline fits...\n"
     ]
    }
   ],
   "source": [
    "# coordCols = ['x', 'y'] by default\n",
    "ca = proc.CalibrateAstigmatism(coordCols=['x [nm]', 'y [nm]'],\n",
    "                               sigmaCols=['sigma_x [nm]', 'sigma_y [nm]'],\n",
    "                               zCol='z [nm]')\n",
    "ca.astigmatismComputer.smoothingWindowSize=20\n",
    "ca.astigmatismComputer.smoothingFilterSize=3\n",
    "\n",
    "processed_df = ca(df)"
   ]
  },
  {
   "cell_type": "code",
   "execution_count": 6,
   "metadata": {
    "collapsed": false
   },
   "outputs": [
    {
     "data": {
      "text/html": [
       "<div>\n",
       "<table border=\"1\" class=\"dataframe\">\n",
       "  <thead>\n",
       "    <tr style=\"text-align: right;\">\n",
       "      <th></th>\n",
       "      <th>x [nm]</th>\n",
       "      <th>y [nm]</th>\n",
       "      <th>z [nm]</th>\n",
       "      <th>uncertainty [nm]</th>\n",
       "      <th>intensity [photon]</th>\n",
       "      <th>offset [photon]</th>\n",
       "      <th>loglikelihood</th>\n",
       "      <th>sigma_x [nm]</th>\n",
       "      <th>sigma_y [nm]</th>\n",
       "    </tr>\n",
       "  </thead>\n",
       "  <tbody>\n",
       "    <tr>\n",
       "      <th>count</th>\n",
       "      <td>716.000000</td>\n",
       "      <td>716.000000</td>\n",
       "      <td>716.000000</td>\n",
       "      <td>716.000000</td>\n",
       "      <td>716.000000</td>\n",
       "      <td>716.000000</td>\n",
       "      <td>716.000000</td>\n",
       "      <td>716.000000</td>\n",
       "      <td>716.000000</td>\n",
       "    </tr>\n",
       "    <tr>\n",
       "      <th>mean</th>\n",
       "      <td>6704.958659</td>\n",
       "      <td>6779.133101</td>\n",
       "      <td>74.678771</td>\n",
       "      <td>3.016161</td>\n",
       "      <td>10645.718855</td>\n",
       "      <td>34.121381</td>\n",
       "      <td>15366.117737</td>\n",
       "      <td>221.234483</td>\n",
       "      <td>206.438240</td>\n",
       "    </tr>\n",
       "    <tr>\n",
       "      <th>std</th>\n",
       "      <td>3683.198557</td>\n",
       "      <td>3753.031051</td>\n",
       "      <td>328.769322</td>\n",
       "      <td>1.281313</td>\n",
       "      <td>2879.010709</td>\n",
       "      <td>12.428421</td>\n",
       "      <td>4491.920477</td>\n",
       "      <td>77.097773</td>\n",
       "      <td>59.403838</td>\n",
       "    </tr>\n",
       "    <tr>\n",
       "      <th>min</th>\n",
       "      <td>2452.200000</td>\n",
       "      <td>1855.500000</td>\n",
       "      <td>-470.000000</td>\n",
       "      <td>1.547600</td>\n",
       "      <td>5571.600000</td>\n",
       "      <td>19.716000</td>\n",
       "      <td>7633.600000</td>\n",
       "      <td>138.770000</td>\n",
       "      <td>146.370000</td>\n",
       "    </tr>\n",
       "    <tr>\n",
       "      <th>25%</th>\n",
       "      <td>2849.500000</td>\n",
       "      <td>2721.475000</td>\n",
       "      <td>-230.000000</td>\n",
       "      <td>1.903850</td>\n",
       "      <td>7821.175000</td>\n",
       "      <td>24.589000</td>\n",
       "      <td>12155.750000</td>\n",
       "      <td>149.937500</td>\n",
       "      <td>156.632500</td>\n",
       "    </tr>\n",
       "    <tr>\n",
       "      <th>50%</th>\n",
       "      <td>6690.950000</td>\n",
       "      <td>6949.000000</td>\n",
       "      <td>70.000000</td>\n",
       "      <td>2.583250</td>\n",
       "      <td>10988.500000</td>\n",
       "      <td>29.048500</td>\n",
       "      <td>13975.500000</td>\n",
       "      <td>184.740000</td>\n",
       "      <td>179.075000</td>\n",
       "    </tr>\n",
       "    <tr>\n",
       "      <th>75%</th>\n",
       "      <td>9309.025000</td>\n",
       "      <td>11035.000000</td>\n",
       "      <td>360.000000</td>\n",
       "      <td>3.990150</td>\n",
       "      <td>13301.750000</td>\n",
       "      <td>41.119250</td>\n",
       "      <td>19758.500000</td>\n",
       "      <td>291.305000</td>\n",
       "      <td>247.935000</td>\n",
       "    </tr>\n",
       "    <tr>\n",
       "      <th>max</th>\n",
       "      <td>12264.000000</td>\n",
       "      <td>11870.000000</td>\n",
       "      <td>640.000000</td>\n",
       "      <td>6.753600</td>\n",
       "      <td>15424.000000</td>\n",
       "      <td>61.566000</td>\n",
       "      <td>24292.000000</td>\n",
       "      <td>371.850000</td>\n",
       "      <td>344.100000</td>\n",
       "    </tr>\n",
       "  </tbody>\n",
       "</table>\n",
       "</div>"
      ],
      "text/plain": [
       "             x [nm]        y [nm]      z [nm]  uncertainty [nm]  \\\n",
       "count    716.000000    716.000000  716.000000        716.000000   \n",
       "mean    6704.958659   6779.133101   74.678771          3.016161   \n",
       "std     3683.198557   3753.031051  328.769322          1.281313   \n",
       "min     2452.200000   1855.500000 -470.000000          1.547600   \n",
       "25%     2849.500000   2721.475000 -230.000000          1.903850   \n",
       "50%     6690.950000   6949.000000   70.000000          2.583250   \n",
       "75%     9309.025000  11035.000000  360.000000          3.990150   \n",
       "max    12264.000000  11870.000000  640.000000          6.753600   \n",
       "\n",
       "       intensity [photon]  offset [photon]  loglikelihood  sigma_x [nm]  \\\n",
       "count          716.000000       716.000000     716.000000    716.000000   \n",
       "mean         10645.718855        34.121381   15366.117737    221.234483   \n",
       "std           2879.010709        12.428421    4491.920477     77.097773   \n",
       "min           5571.600000        19.716000    7633.600000    138.770000   \n",
       "25%           7821.175000        24.589000   12155.750000    149.937500   \n",
       "50%          10988.500000        29.048500   13975.500000    184.740000   \n",
       "75%          13301.750000        41.119250   19758.500000    291.305000   \n",
       "max          15424.000000        61.566000   24292.000000    371.850000   \n",
       "\n",
       "       sigma_y [nm]  \n",
       "count    716.000000  \n",
       "mean     206.438240  \n",
       "std       59.403838  \n",
       "min      146.370000  \n",
       "25%      156.632500  \n",
       "50%      179.075000  \n",
       "75%      247.935000  \n",
       "max      344.100000  "
      ]
     },
     "execution_count": 6,
     "metadata": {},
     "output_type": "execute_result"
    }
   ],
   "source": [
    "processed_df.describe()"
   ]
  },
  {
   "cell_type": "markdown",
   "metadata": {},
   "source": [
    "The processed DataFrame is actually the same as the input; no changes were made. However, if all went well, the CalibrateAstigmatism processor has fit splines to the PSF widths as a function of z and computed the calibration curve.\n",
    "\n",
    "Before discussing what the `CalibrateAstigmatism` processor did, let's go over how it was used. First, we create the processor by setting some of its optional parameters:\n",
    "\n",
    "```\n",
    "ca = proc.CalibrateAstigmatism(coordCols=['x [nm]', 'y [nm]'],\n",
    "                               sigmaCols=['sigma_x [nm]', 'sigma_y [nm]'],\n",
    "                               zCol='z [nm]')\n",
    "```\n",
    "\n",
    "`coordCols` contains the names of the columns of the x- and y-positions of the localizations and `sigmaCols` contains the names of the columns containing the widths of the PSF in the x- and y-directions. Finally, `zCol` is the name of the known z-position of the beads. (This is known because it is controlled during the acquisition of the image stack of the fluorescent beads.) Some of the other optional parameters we could set are\n",
    "\n",
    "1. `startz` : where the z-fitting should begin\n",
    "2. `stopz` : where the z-fitting should end\n",
    "3. `astigmatismComputer` : this is a `ComputeTrajectories` object for calculating the spline fits to the individual bead trajectories in z. You can write your own algorithm for fitting z-trajectories and feed it to the processor using this parameter.\n",
    "4. `interactiveSearch` : a True/False value that determines whether a window is displayed to allow the user to select regions containing beads. You would set this to False if you already found beads but want to refit them using some different spline fitting parameters of the astigmatismComputer.\n",
    "5. `wobbleComputer` : this is another `ComputeTrajectories` object that calculates the PSF's centroid's position as a function of z, also known as wobble.\n",
    "\n",
    "Next, we adjust some of the smoothing spline parameters. These parameters are not part of the `CalibrateAstigmatism` processor; rather they belong to the `DefaultAstigmatismComputer` which belongs to the processor. The `DefaultAstigmatismComputer` is simply a type of `ComputeTrajectories` object for computing astigmatism calibration curves.\n",
    "\n",
    "```\n",
    "ca.astigmatismComputer.smoothingWindowSize=20\n",
    "ca.astigmatismComputer.smoothingFilterSize=3\n",
    "```\n",
    "\n",
    "`smoothingWindowSize` is the size of the moving window that is used to weight the points in the trajectory during the spline fitting; `smoothingFilterSize` is the standard deviation of the Gaussian weighting function.\n",
    "\n",
    "Finally, we perform the calibration by calling the processor on the DataFrame:\n",
    "\n",
    "```\n",
    "processed_df = ca(df)\n",
    "```"
   ]
  },
  {
   "cell_type": "markdown",
   "metadata": {},
   "source": [
    "### Plot the calibration curves and bead localizations\n",
    "\n",
    "Just like with the FiducialDriftCorrect processor, we can plot the individual localizations belonging to the bead we selected as a function of z, as well as the average smoothing spline."
   ]
  },
  {
   "cell_type": "code",
   "execution_count": 7,
   "metadata": {
    "collapsed": true
   },
   "outputs": [],
   "source": [
    "ca.astigmatismComputer.plotBeads()"
   ]
  },
  {
   "cell_type": "markdown",
   "metadata": {},
   "source": [
    "You should see a single window appear containing two plots. The top is a plot of the PSF width in x vs. z, and the bottom is a plot of the PSF width in y vs. z. The data points are the individual localizations and the curves are the two splines that fit to each trajectory."
   ]
  },
  {
   "cell_type": "markdown",
   "metadata": {},
   "source": [
    "# Modifying the bead fits\n",
    "## Changing which beads are used in the average trajectory\n",
    "\n",
    "Let's now rerun the processor. This time, select at least two regions containing beads. (I selected the same one as before and another at \\\\(x = 9.3 \\, \\mu m \\\\) and \\\\(y = 2.7 \\, \\mu m\\\\)."
   ]
  },
  {
   "cell_type": "code",
   "execution_count": 8,
   "metadata": {
    "collapsed": false
   },
   "outputs": [
    {
     "name": "stdout",
     "output_type": "stream",
     "text": [
      "Setting wobble fiting range to the match the astigmatism fit range. startz and stopz are set in the astigmatism computer.\n",
      "Performing spline fits...\n",
      "Performing spline fits...\n"
     ]
    }
   ],
   "source": [
    "processed_df = ca(df)\n",
    "ca.astigmatismComputer.plotBeads()"
   ]
  },
  {
   "cell_type": "markdown",
   "metadata": {
    "collapsed": true
   },
   "source": [
    "By selecting multiple beads, we tell B-Store to compute the average of the individually-fitted splines. This average spline is displayed in the plots as the solid, continuous curve plotted over the data ponts. If, for some reason, one of the beads was noisy or simply not good, then the average spline may not accurately represent the astigmatism present in the system. We can request that the `DefaultAstigmatismComputer` use only certain beads by setting its `useTrajectories` parameter."
   ]
  },
  {
   "cell_type": "code",
   "execution_count": 9,
   "metadata": {
    "collapsed": false
   },
   "outputs": [
    {
     "name": "stdout",
     "output_type": "stream",
     "text": [
      "Setting wobble fiting range to the match the astigmatism fit range. startz and stopz are set in the astigmatism computer.\n",
      "Performing spline fits...\n",
      "Performing spline fits...\n"
     ]
    }
   ],
   "source": [
    "# Recompute the average spline without selecting beads first\n",
    "ca.interactiveSearch = False\n",
    "ca.astigmatismComputer.useTrajectories = [1] # Use only bead number 1\n",
    "\n",
    "_ = ca(df) # underscore means don't bother capturing the output\n",
    "ca.astigmatismComputer.plotBeads()"
   ]
  },
  {
   "cell_type": "markdown",
   "metadata": {
    "collapsed": true
   },
   "source": [
    "Now the points belonging to bead number 0 will appear in gray; this indicates that they were not used in the fit. If you look closely, you will also see that the spline has changed very slightly and fits only the localizations belonging to bead number 1.\n",
    "\n",
    "If you decide that you really do want to use all the beads, we can indicate this by setting `useTrajectories` to the empty list (`[]`)."
   ]
  },
  {
   "cell_type": "code",
   "execution_count": 10,
   "metadata": {
    "collapsed": false
   },
   "outputs": [
    {
     "name": "stdout",
     "output_type": "stream",
     "text": [
      "Setting wobble fiting range to the match the astigmatism fit range. startz and stopz are set in the astigmatism computer.\n",
      "Performing spline fits...\n",
      "Performing spline fits...\n"
     ]
    }
   ],
   "source": [
    "ca.astigmatismComputer.useTrajectories = [] # Use all beads\n",
    "\n",
    "_ = ca(df)\n",
    "ca.astigmatismComputer.plotBeads()"
   ]
  },
  {
   "cell_type": "markdown",
   "metadata": {},
   "source": [
    "## Changing the fit range\n",
    "\n",
    "You may also find that the full axial range in the data contains regions that are noisy or not well fit. We can select a smaller axial region to fit using the `startz` and `stopz` parameters of the `DefaultAstigmatismComputer`."
   ]
  },
  {
   "cell_type": "code",
   "execution_count": 11,
   "metadata": {
    "collapsed": false
   },
   "outputs": [
    {
     "name": "stdout",
     "output_type": "stream",
     "text": [
      "Setting wobble fiting range to the match the astigmatism fit range. startz and stopz are set in the astigmatism computer.\n",
      "Performing spline fits...\n",
      "Performing spline fits...\n"
     ]
    }
   ],
   "source": [
    "ca.astigmatismComputer.startz = -300\n",
    "ca.astigmatismComputer.stopz  = 300\n",
    "\n",
    "_ = ca(df)\n",
    "ca.astigmatismComputer.plotBeads()"
   ]
  },
  {
   "cell_type": "markdown",
   "metadata": {},
   "source": [
    "You should now see gray x's corresponding to data points that are outside the fitting range. You should also see that the average spline now only covers the range \\\\( \\left[ -300 \\, \\mu m, 300 \\, \\mu m \\right] \\\\).\n",
    "\n",
    "You will also see a notice that startz and stopz parameters of the wobble computer were updated as well. Its startz and stopz parameters are always synchronized with the astigmatism computer to ensure that all fits are performed on the same range."
   ]
  },
  {
   "cell_type": "markdown",
   "metadata": {},
   "source": [
    "## Changing the spline smoothing parameters\n",
    "\n",
    "Similarly, we can change the smoothing parameters of the cubic spline after we have already selected beads."
   ]
  },
  {
   "cell_type": "code",
   "execution_count": 12,
   "metadata": {
    "collapsed": false
   },
   "outputs": [
    {
     "name": "stdout",
     "output_type": "stream",
     "text": [
      "Setting wobble fiting range to the match the astigmatism fit range. startz and stopz are set in the astigmatism computer.\n",
      "Performing spline fits...\n",
      "Performing spline fits...\n"
     ]
    }
   ],
   "source": [
    "ca.astigmatismComputer.reset()\n",
    "ca.astigmatismComputer.smoothingWindowSize = 50\n",
    "ca.astigmatismComputer.smoothingFilterSize = 25\n",
    "\n",
    "_ = ca(df)\n",
    "ca.astigmatismComputer.plotBeads()"
   ]
  },
  {
   "cell_type": "code",
   "execution_count": 13,
   "metadata": {
    "collapsed": false
   },
   "outputs": [
    {
     "name": "stdout",
     "output_type": "stream",
     "text": [
      "Setting wobble fiting range to the match the astigmatism fit range. startz and stopz are set in the astigmatism computer.\n",
      "Performing spline fits...\n",
      "Performing spline fits...\n"
     ]
    }
   ],
   "source": [
    "ca.astigmatismComputer.reset()\n",
    "\n",
    "_ = ca(df)\n",
    "ca.astigmatismComputer.plotBeads()"
   ]
  },
  {
   "cell_type": "markdown",
   "metadata": {},
   "source": [
    "## Adjust the wobble curves\n",
    "\n",
    "Wobble is the x- and y-position of the PSF centroid as a function of the axial position. The trajectories of the beads' centroid in x and y as a function z is a wobble curve and may be used to correct errors made by false assumptions about the aberrations present in the PSF. (See [Carlini et al., PLoS One 2015](http://journals.plos.org/plosone/article?id=10.1371/journal.pone.0142949) for more information.)\n",
    "\n",
    "The wobble computer is tuned in much the same way as the astigmatism computer. If you don't want to correct for wobble, then simply ignore this feature."
   ]
  },
  {
   "cell_type": "code",
   "execution_count": 14,
   "metadata": {
    "collapsed": true
   },
   "outputs": [],
   "source": [
    "ca.wobbleComputer.plotBeads()"
   ]
  },
  {
   "cell_type": "code",
   "execution_count": 15,
   "metadata": {
    "collapsed": false
   },
   "outputs": [
    {
     "name": "stdout",
     "output_type": "stream",
     "text": [
      "Setting wobble fiting range to the match the astigmatism fit range. startz and stopz are set in the astigmatism computer.\n",
      "Performing spline fits...\n",
      "Performing spline fits...\n"
     ]
    }
   ],
   "source": [
    "ca.wobbleComputer.smoothingWindowSize = 10\n",
    "ca.wobbleComputer.smoothingFilterSize = 2\n",
    "\n",
    "# The following are locked to the value of startz and stopz from the\n",
    "# astigmatism computer and therefore do not do anything.\n",
    "ca.wobbleComputer.startz = -300 # Does nothing!\n",
    "ca.wobbleComputer.stopz  = 300  # Does nothing!\n",
    "\n",
    "_ = ca(df)\n",
    "ca.wobbleComputer.plotBeads()"
   ]
  },
  {
   "cell_type": "markdown",
   "metadata": {},
   "source": [
    "# Using the calibrations to axially localize a dataset\n",
    "\n",
    "Once calibrated, the `CalibrateAstigmatism` processor contains a property called `calibrationCurves` that holds the spline fits to \\\\( W_x \\\\) vs. \\\\(z\\\\) and \\\\( W_y \\\\) vs. z, where \\\\( W_x \\\\) and \\\\( W_y \\\\) are the PSF widths in x and y, respectively. These fits are functions, which means they that they accept a single number (the z-coordinate) as an input and produce the width in x and y as outputs."
   ]
  },
  {
   "cell_type": "code",
   "execution_count": 16,
   "metadata": {
    "collapsed": false
   },
   "outputs": [
    {
     "data": {
      "text/plain": [
       "(<scipy.interpolate.interpolate.interp1d at 0x7f6015a61b38>,\n",
       " <scipy.interpolate.interpolate.interp1d at 0x7f6015a679a8>)"
      ]
     },
     "execution_count": 16,
     "metadata": {},
     "output_type": "execute_result"
    }
   ],
   "source": [
    "ca.calibrationCurves"
   ]
  },
  {
   "cell_type": "markdown",
   "metadata": {},
   "source": [
    "We can use these functions in B-Store's `ComputeZPosition` processor. To initialize the processor, we need to specify which functions to use and, optionally, the names of the columns containing the z-positions and PSF widths."
   ]
  },
  {
   "cell_type": "code",
   "execution_count": 17,
   "metadata": {
    "collapsed": false
   },
   "outputs": [],
   "source": [
    "cz = proc.ComputeZPosition(ca.calibrationCurves,\n",
    "                           zCol='z [nm]',\n",
    "                           sigmaCols=['sigma_x [nm]', 'sigma_y [nm]'])"
   ]
  },
  {
   "cell_type": "markdown",
   "metadata": {},
   "source": [
    "Though we didn't specify it above, the ComputeZPosition also accepts a parameter called `fittype` that takes one of two values: `diff` (the default value) and `huang`. `diff` computes the calibration curve by first sampling the two spline fits, taking their difference, and then reinterpolating to produce a monotonic calibration curve that transforms \\\\(W_x - W_y\\\\) into \\\\( z \\\\). In general, it is very fast. The `huang` method computes the z-position by minimizing an objective function related to the distance between the experimental and calibrated PSF widths. This method was used in the first astigmatic STORM paper [Huang, et al. Science 319, 810-813 (2008)](http://science.sciencemag.org/content/319/5864/810). Because each localization requires a call to an optimiztion method, it is much smaller.\n",
    "\n",
    "Having created the processor, let's now load a test dataset and localize it in z."
   ]
  },
  {
   "cell_type": "code",
   "execution_count": 18,
   "metadata": {
    "collapsed": false
   },
   "outputs": [
    {
     "data": {
      "text/html": [
       "<div>\n",
       "<table border=\"1\" class=\"dataframe\">\n",
       "  <thead>\n",
       "    <tr style=\"text-align: right;\">\n",
       "      <th></th>\n",
       "      <th>x [nm]</th>\n",
       "      <th>y [nm]</th>\n",
       "      <th>frame</th>\n",
       "      <th>uncertainty [nm]</th>\n",
       "      <th>intensity [photon]</th>\n",
       "      <th>offset [photon]</th>\n",
       "      <th>loglikelihood</th>\n",
       "      <th>sigma_x [nm]</th>\n",
       "      <th>sigma_y [nm]</th>\n",
       "    </tr>\n",
       "  </thead>\n",
       "  <tbody>\n",
       "    <tr>\n",
       "      <th>0</th>\n",
       "      <td>5425.6</td>\n",
       "      <td>2754.2</td>\n",
       "      <td>0</td>\n",
       "      <td>4.4223</td>\n",
       "      <td>4755.4</td>\n",
       "      <td>93.827</td>\n",
       "      <td>866.93</td>\n",
       "      <td>161.68</td>\n",
       "      <td>193.22</td>\n",
       "    </tr>\n",
       "    <tr>\n",
       "      <th>1</th>\n",
       "      <td>5426.6</td>\n",
       "      <td>2755.7</td>\n",
       "      <td>1</td>\n",
       "      <td>4.8853</td>\n",
       "      <td>4399.4</td>\n",
       "      <td>92.888</td>\n",
       "      <td>1104.50</td>\n",
       "      <td>181.44</td>\n",
       "      <td>184.81</td>\n",
       "    </tr>\n",
       "    <tr>\n",
       "      <th>2</th>\n",
       "      <td>5420.7</td>\n",
       "      <td>2733.8</td>\n",
       "      <td>2</td>\n",
       "      <td>3.3304</td>\n",
       "      <td>5914.1</td>\n",
       "      <td>98.372</td>\n",
       "      <td>1176.30</td>\n",
       "      <td>152.46</td>\n",
       "      <td>173.62</td>\n",
       "    </tr>\n",
       "    <tr>\n",
       "      <th>3</th>\n",
       "      <td>5418.4</td>\n",
       "      <td>2734.8</td>\n",
       "      <td>3</td>\n",
       "      <td>3.5207</td>\n",
       "      <td>5743.2</td>\n",
       "      <td>98.008</td>\n",
       "      <td>1230.40</td>\n",
       "      <td>161.17</td>\n",
       "      <td>173.15</td>\n",
       "    </tr>\n",
       "    <tr>\n",
       "      <th>4</th>\n",
       "      <td>5423.7</td>\n",
       "      <td>2740.0</td>\n",
       "      <td>4</td>\n",
       "      <td>5.0667</td>\n",
       "      <td>3703.8</td>\n",
       "      <td>93.676</td>\n",
       "      <td>1025.10</td>\n",
       "      <td>164.85</td>\n",
       "      <td>177.67</td>\n",
       "    </tr>\n",
       "  </tbody>\n",
       "</table>\n",
       "</div>"
      ],
      "text/plain": [
       "   x [nm]  y [nm]  frame  uncertainty [nm]  intensity [photon]  \\\n",
       "0  5425.6  2754.2      0            4.4223              4755.4   \n",
       "1  5426.6  2755.7      1            4.8853              4399.4   \n",
       "2  5420.7  2733.8      2            3.3304              5914.1   \n",
       "3  5418.4  2734.8      3            3.5207              5743.2   \n",
       "4  5423.7  2740.0      4            5.0667              3703.8   \n",
       "\n",
       "   offset [photon]  loglikelihood  sigma_x [nm]  sigma_y [nm]  \n",
       "0           93.827         866.93        161.68        193.22  \n",
       "1           92.888        1104.50        181.44        184.81  \n",
       "2           98.372        1176.30        152.46        173.62  \n",
       "3           98.008        1230.40        161.17        173.15  \n",
       "4           93.676        1025.10        164.85        177.67  "
      ]
     },
     "execution_count": 18,
     "metadata": {},
     "output_type": "execute_result"
    }
   ],
   "source": [
    "pathToData = Path('../../bstore_test_files/processor_test_files/MT0.N1.LD-AS-Exp_Localizations.csv')\n",
    "\n",
    "with open(str(pathToData), 'r') as f:\n",
    "    locs = pd.read_csv(f)\n",
    "    \n",
    "locs.head()"
   ]
  },
  {
   "cell_type": "markdown",
   "metadata": {},
   "source": [
    "You will notice that we already specified the correct column names when creating the `ComputeZPosition` processor.\n",
    "\n",
    "Now, we simply pass these localizations to the processor and the z-position is computed automatically."
   ]
  },
  {
   "cell_type": "code",
   "execution_count": 19,
   "metadata": {
    "collapsed": false
   },
   "outputs": [
    {
     "data": {
      "text/html": [
       "<div>\n",
       "<table border=\"1\" class=\"dataframe\">\n",
       "  <thead>\n",
       "    <tr style=\"text-align: right;\">\n",
       "      <th></th>\n",
       "      <th>x [nm]</th>\n",
       "      <th>y [nm]</th>\n",
       "      <th>frame</th>\n",
       "      <th>uncertainty [nm]</th>\n",
       "      <th>intensity [photon]</th>\n",
       "      <th>offset [photon]</th>\n",
       "      <th>loglikelihood</th>\n",
       "      <th>sigma_x [nm]</th>\n",
       "      <th>sigma_y [nm]</th>\n",
       "      <th>z [nm]</th>\n",
       "    </tr>\n",
       "  </thead>\n",
       "  <tbody>\n",
       "    <tr>\n",
       "      <th>0</th>\n",
       "      <td>5425.6</td>\n",
       "      <td>2754.2</td>\n",
       "      <td>0</td>\n",
       "      <td>4.4223</td>\n",
       "      <td>4755.4</td>\n",
       "      <td>93.827</td>\n",
       "      <td>866.93</td>\n",
       "      <td>161.68</td>\n",
       "      <td>193.22</td>\n",
       "      <td>170.078955</td>\n",
       "    </tr>\n",
       "    <tr>\n",
       "      <th>1</th>\n",
       "      <td>5426.6</td>\n",
       "      <td>2755.7</td>\n",
       "      <td>1</td>\n",
       "      <td>4.8853</td>\n",
       "      <td>4399.4</td>\n",
       "      <td>92.888</td>\n",
       "      <td>1104.50</td>\n",
       "      <td>181.44</td>\n",
       "      <td>184.81</td>\n",
       "      <td>107.316526</td>\n",
       "    </tr>\n",
       "    <tr>\n",
       "      <th>2</th>\n",
       "      <td>5420.7</td>\n",
       "      <td>2733.8</td>\n",
       "      <td>2</td>\n",
       "      <td>3.3304</td>\n",
       "      <td>5914.1</td>\n",
       "      <td>98.372</td>\n",
       "      <td>1176.30</td>\n",
       "      <td>152.46</td>\n",
       "      <td>173.62</td>\n",
       "      <td>146.144979</td>\n",
       "    </tr>\n",
       "    <tr>\n",
       "      <th>3</th>\n",
       "      <td>5418.4</td>\n",
       "      <td>2734.8</td>\n",
       "      <td>3</td>\n",
       "      <td>3.5207</td>\n",
       "      <td>5743.2</td>\n",
       "      <td>98.008</td>\n",
       "      <td>1230.40</td>\n",
       "      <td>161.17</td>\n",
       "      <td>173.15</td>\n",
       "      <td>125.674763</td>\n",
       "    </tr>\n",
       "    <tr>\n",
       "      <th>4</th>\n",
       "      <td>5423.7</td>\n",
       "      <td>2740.0</td>\n",
       "      <td>4</td>\n",
       "      <td>5.0667</td>\n",
       "      <td>3703.8</td>\n",
       "      <td>93.676</td>\n",
       "      <td>1025.10</td>\n",
       "      <td>164.85</td>\n",
       "      <td>177.67</td>\n",
       "      <td>127.502380</td>\n",
       "    </tr>\n",
       "  </tbody>\n",
       "</table>\n",
       "</div>"
      ],
      "text/plain": [
       "   x [nm]  y [nm]  frame  uncertainty [nm]  intensity [photon]  \\\n",
       "0  5425.6  2754.2      0            4.4223              4755.4   \n",
       "1  5426.6  2755.7      1            4.8853              4399.4   \n",
       "2  5420.7  2733.8      2            3.3304              5914.1   \n",
       "3  5418.4  2734.8      3            3.5207              5743.2   \n",
       "4  5423.7  2740.0      4            5.0667              3703.8   \n",
       "\n",
       "   offset [photon]  loglikelihood  sigma_x [nm]  sigma_y [nm]      z [nm]  \n",
       "0           93.827         866.93        161.68        193.22  170.078955  \n",
       "1           92.888        1104.50        181.44        184.81  107.316526  \n",
       "2           98.372        1176.30        152.46        173.62  146.144979  \n",
       "3           98.008        1230.40        161.17        173.15  125.674763  \n",
       "4           93.676        1025.10        164.85        177.67  127.502380  "
      ]
     },
     "execution_count": 19,
     "metadata": {},
     "output_type": "execute_result"
    }
   ],
   "source": [
    "locs_z = cz(locs)\n",
    "locs_z.head()"
   ]
  },
  {
   "cell_type": "markdown",
   "metadata": {},
   "source": [
    "## Correcting wobble\n",
    "\n",
    "To also correct for wobble, we can specify a few extra parameters to the `ComputeZPosition` processor, including the wobble curves calculated by the `CalibrateAstigmatism` processor."
   ]
  },
  {
   "cell_type": "code",
   "execution_count": 20,
   "metadata": {
    "collapsed": false
   },
   "outputs": [
    {
     "data": {
      "text/plain": [
       "(<scipy.interpolate.interpolate.interp1d at 0x7f6015890e58>,\n",
       " <scipy.interpolate.interpolate.interp1d at 0x7f6015890368>)"
      ]
     },
     "execution_count": 20,
     "metadata": {},
     "output_type": "execute_result"
    }
   ],
   "source": [
    "ca.wobbleCurves"
   ]
  },
  {
   "cell_type": "code",
   "execution_count": 21,
   "metadata": {
    "collapsed": false
   },
   "outputs": [
    {
     "name": "stderr",
     "output_type": "stream",
     "text": [
      "/home/douglass/anaconda3/envs/bstore/lib/python3.5/site-packages/scipy/interpolate/interpolate.py:612: RuntimeWarning: invalid value encountered in less\n",
      "  below_bounds = x_new < self.x[0]\n",
      "/home/douglass/anaconda3/envs/bstore/lib/python3.5/site-packages/scipy/interpolate/interpolate.py:613: RuntimeWarning: invalid value encountered in greater\n",
      "  above_bounds = x_new > self.x[-1]\n"
     ]
    },
    {
     "data": {
      "text/html": [
       "<div>\n",
       "<table border=\"1\" class=\"dataframe\">\n",
       "  <thead>\n",
       "    <tr style=\"text-align: right;\">\n",
       "      <th></th>\n",
       "      <th>x [nm]</th>\n",
       "      <th>y [nm]</th>\n",
       "      <th>frame</th>\n",
       "      <th>uncertainty [nm]</th>\n",
       "      <th>intensity [photon]</th>\n",
       "      <th>offset [photon]</th>\n",
       "      <th>loglikelihood</th>\n",
       "      <th>sigma_x [nm]</th>\n",
       "      <th>sigma_y [nm]</th>\n",
       "      <th>z [nm]</th>\n",
       "      <th>dx</th>\n",
       "      <th>dy</th>\n",
       "    </tr>\n",
       "  </thead>\n",
       "  <tbody>\n",
       "    <tr>\n",
       "      <th>0</th>\n",
       "      <td>5401.784073</td>\n",
       "      <td>2749.769080</td>\n",
       "      <td>0</td>\n",
       "      <td>4.4223</td>\n",
       "      <td>4755.4</td>\n",
       "      <td>93.827</td>\n",
       "      <td>866.93</td>\n",
       "      <td>161.68</td>\n",
       "      <td>193.22</td>\n",
       "      <td>170.078955</td>\n",
       "      <td>23.815927</td>\n",
       "      <td>4.430920</td>\n",
       "    </tr>\n",
       "    <tr>\n",
       "      <th>1</th>\n",
       "      <td>5412.256391</td>\n",
       "      <td>2749.949533</td>\n",
       "      <td>1</td>\n",
       "      <td>4.8853</td>\n",
       "      <td>4399.4</td>\n",
       "      <td>92.888</td>\n",
       "      <td>1104.50</td>\n",
       "      <td>181.44</td>\n",
       "      <td>184.81</td>\n",
       "      <td>107.316526</td>\n",
       "      <td>14.343609</td>\n",
       "      <td>5.750467</td>\n",
       "    </tr>\n",
       "    <tr>\n",
       "      <th>2</th>\n",
       "      <td>5398.830837</td>\n",
       "      <td>2729.675369</td>\n",
       "      <td>2</td>\n",
       "      <td>3.3304</td>\n",
       "      <td>5914.1</td>\n",
       "      <td>98.372</td>\n",
       "      <td>1176.30</td>\n",
       "      <td>152.46</td>\n",
       "      <td>173.62</td>\n",
       "      <td>146.144979</td>\n",
       "      <td>21.869163</td>\n",
       "      <td>4.124631</td>\n",
       "    </tr>\n",
       "    <tr>\n",
       "      <th>3</th>\n",
       "      <td>5399.924403</td>\n",
       "      <td>2729.989330</td>\n",
       "      <td>3</td>\n",
       "      <td>3.5207</td>\n",
       "      <td>5743.2</td>\n",
       "      <td>98.008</td>\n",
       "      <td>1230.40</td>\n",
       "      <td>161.17</td>\n",
       "      <td>173.15</td>\n",
       "      <td>125.674763</td>\n",
       "      <td>18.475597</td>\n",
       "      <td>4.810670</td>\n",
       "    </tr>\n",
       "    <tr>\n",
       "      <th>4</th>\n",
       "      <td>5404.858371</td>\n",
       "      <td>2735.271578</td>\n",
       "      <td>4</td>\n",
       "      <td>5.0667</td>\n",
       "      <td>3703.8</td>\n",
       "      <td>93.676</td>\n",
       "      <td>1025.10</td>\n",
       "      <td>164.85</td>\n",
       "      <td>177.67</td>\n",
       "      <td>127.502380</td>\n",
       "      <td>18.841629</td>\n",
       "      <td>4.728422</td>\n",
       "    </tr>\n",
       "  </tbody>\n",
       "</table>\n",
       "</div>"
      ],
      "text/plain": [
       "        x [nm]       y [nm]  frame  uncertainty [nm]  intensity [photon]  \\\n",
       "0  5401.784073  2749.769080      0            4.4223              4755.4   \n",
       "1  5412.256391  2749.949533      1            4.8853              4399.4   \n",
       "2  5398.830837  2729.675369      2            3.3304              5914.1   \n",
       "3  5399.924403  2729.989330      3            3.5207              5743.2   \n",
       "4  5404.858371  2735.271578      4            5.0667              3703.8   \n",
       "\n",
       "   offset [photon]  loglikelihood  sigma_x [nm]  sigma_y [nm]      z [nm]  \\\n",
       "0           93.827         866.93        161.68        193.22  170.078955   \n",
       "1           92.888        1104.50        181.44        184.81  107.316526   \n",
       "2           98.372        1176.30        152.46        173.62  146.144979   \n",
       "3           98.008        1230.40        161.17        173.15  125.674763   \n",
       "4           93.676        1025.10        164.85        177.67  127.502380   \n",
       "\n",
       "          dx        dy  \n",
       "0  23.815927  4.430920  \n",
       "1  14.343609  5.750467  \n",
       "2  21.869163  4.124631  \n",
       "3  18.475597  4.810670  \n",
       "4  18.841629  4.728422  "
      ]
     },
     "execution_count": 21,
     "metadata": {},
     "output_type": "execute_result"
    }
   ],
   "source": [
    "cz = proc.ComputeZPosition(ca.calibrationCurves,\n",
    "                           zCol='z [nm]',\n",
    "                           coordCols=['x [nm]', 'y [nm]'],\n",
    "                           sigmaCols=['sigma_x [nm]', 'sigma_y [nm]'],\n",
    "                           wobbleFunc=ca.wobbleCurves)\n",
    "locs_z_wobble = cz(locs)\n",
    "locs_z_wobble.head()"
   ]
  },
  {
   "cell_type": "markdown",
   "metadata": {},
   "source": [
    "Now you see that a small offset has been applied to the **x [nm]** and **y [nm]** columns to correct these localizations for wobble. The value of the offset has been saved in the **dx** and **dy** columns."
   ]
  },
  {
   "cell_type": "markdown",
   "metadata": {},
   "source": [
    "# Modifying the trajectory-fitting algorithm\n",
    "*You may skip this section if you do not want to program your own astigmatism computer.*\n",
    "\n",
    "By default, B-Store uses a curve fitting algorithm based on a cubic smoothing spline with weights determined by a Gaussian filter. The algorithm is implemented in a class called `DefaultAstigmatismComputer` which uses the `ComputeTrajectories` interface. You can write your own astigmatism computer by inheriting this interface."
   ]
  },
  {
   "cell_type": "code",
   "execution_count": 22,
   "metadata": {
    "collapsed": false
   },
   "outputs": [
    {
     "name": "stdout",
     "output_type": "stream",
     "text": [
      "class ComputeTrajectories(metaclass=ABCMeta):\n",
      "    \"\"\"Basic functionality for computing trajectories from localizations.\n",
      "    \n",
      "    This is used to compute trajectories from regions of a dataset containing\n",
      "    localizations, such as fiducial drift trajectories (position vs. frame\n",
      "    number)or astigmatic calibration curves (PSF width vs. z).\n",
      "\n",
      "    Attributes\n",
      "    ----------\n",
      "    regionLocs : Pandas DataFrame\n",
      "        The localizations for individual regions.\n",
      "\n",
      "    \"\"\"\n",
      "\n",
      "    def __init__(self):\n",
      "        \"\"\"Initializes the trajectory computer.\n",
      "\n",
      "        \"\"\"\n",
      "        self._regionData = None\n",
      "        \n",
      "    def _plotCurves(self, curveNumber=None, coordCols=['x', 'y'],\n",
      "                    horizontalLabels=['', 'time'], verticalLabels=['x', 'y'],\n",
      "                    title='trajectories', splineCols=['t','x','y'],\n",
      "                    offsets=[0,0], ylims=[-100, 500, -100, 500]):\n",
      "        \"\"\"Make a plot of each region's trajectory and the average spline fit.\n",
      "\n",
      "        plotCurves allows the user to check the trajectories of localizations\n",
      "        and their fits against the average spline fit.\n",
      "\n",
      "        Parameters\n",
      "        ----------\n",
      "        curveNumber      : int\n",
      "            Index of the spline to plot. (0-index)\n",
      "        coordCols        : list of string\n",
      "            The column names corresponding to the trajectory's dependent\n",
      "            variable (e.g. time or z-position) and the localizations' x- and\n",
      "            y-coordinates (order is t, x, y).\n",
      "        horizontalLabels : list of string\n",
      "            The labels for the x-axes of each trajectory plot.\n",
      "        verticalLabels   : list of string\n",
      "            The labels for the y-axes for each trajectory (order is\n",
      "            x-trajectory, then y).\n",
      "        title : str\n",
      "            The title of each plot.\n",
      "        splineCols : list of str\n",
      "            The column names of the average spline DataFrame that correspond to\n",
      "            the trajectory's dependent variable (i.e. z-position or frame\n",
      "            number,) the localizations' x-coordinates, and the localizaitons'\n",
      "            y-coordinates, respectively.\n",
      "        offsets : list of int\n",
      "            The vertical offsets to apply to the curves.\n",
      "        ylims   : list of float\n",
      "            The y-limits of the two trajectory plots (order is min and max of \n",
      "            x-trajectory, then min and max of the y-trajectory).\n",
      "\n",
      "        \"\"\"\n",
      "        t, x, y                    = coordCols\n",
      "        xHorzLabel, yHorzLabel     = horizontalLabels\n",
      "        xVertLabel, yVertLabel     = verticalLabels\n",
      "        ts, xs, ys                 = splineCols\n",
      "        x0, y0                     = offsets\n",
      "        minxy, maxxy, minyy, maxyy = ylims\n",
      "\n",
      "        if self.regionLocs is None:\n",
      "            raise ZeroRegions(\n",
      "                'Zero regions are currently saved with this processor.')\n",
      "\n",
      "        fig, (axx, axy) = plt.subplots(nrows=2, ncols=1, sharex=True)\n",
      "        locs = self.regionLocs.xs(curveNumber, level='region_id',\n",
      "                                  drop_level=False)\n",
      "\n",
      "        # Filter out localizations that are outliers\n",
      "        outliers = locs.loc[locs[self._includeColName] == False]\n",
      "        locs = locs.loc[locs[self._includeColName]]\n",
      "\n",
      "        if (curveNumber in self.useTrajectories) or (not self.useTrajectories):\n",
      "            markerColor = 'blue'\n",
      "        else:\n",
      "            markerColor = '#999999' # gray\n",
      "\n",
      "        axx.plot(locs[t],\n",
      "                 locs[x] - x0,\n",
      "                 '.',\n",
      "                 color=markerColor,\n",
      "                 alpha=0.5)\n",
      "        axx.plot(outliers[t],\n",
      "                 outliers[x] - x0,\n",
      "                 'x',\n",
      "                 color='#999999',\n",
      "                 alpha=0.5)\n",
      "        axx.plot(self.avgSpline[ts],\n",
      "                 self.avgSpline[xs],\n",
      "                 linewidth=2,\n",
      "                 color='orange')\n",
      "        axx.set_xlabel(xHorzLabel)\n",
      "        axx.set_ylabel(xVertLabel)\n",
      "        axx.set_title('{0:s}, Region number: {1:d}'.format(title, curveNumber))\n",
      "        axx.set_ylim((minxy, maxxy))\n",
      "\n",
      "        axy.plot(locs[t],\n",
      "                 locs[y] - y0,\n",
      "                 '.',\n",
      "                 color=markerColor,\n",
      "                 alpha=0.5)\n",
      "        axy.plot(outliers[t],\n",
      "                 outliers[y] - y0,\n",
      "                 'x',\n",
      "                 color='#999999',\n",
      "                 alpha=0.5)\n",
      "        axy.plot(self.avgSpline[ts],\n",
      "                 self.avgSpline[ys],\n",
      "                 linewidth=2,\n",
      "                 color='orange')\n",
      "        axy.set_xlabel(yHorzLabel)\n",
      "        axy.set_ylabel(yVertLabel)\n",
      "        axy.set_ylim((minyy, maxyy))\n",
      "        plt.show()\n",
      "\n",
      "    @property\n",
      "    def regionLocs(self):\n",
      "        \"\"\"DataFrame holding the localizations for individual fiducials.\n",
      "\n",
      "        \"\"\"\n",
      "        return self._regionData\n",
      "\n",
      "    @regionLocs.setter\n",
      "    def regionLocs(self, regionData):\n",
      "        \"\"\"Checks that the fiducial localizations are formatted correctly.\n",
      "\n",
      "        \"\"\"\n",
      "        if regionData is not None:\n",
      "            assert 'region_id' in regionData.index.names, \\\n",
      "                'regionLocs DataFrame requires index named \"region_id\"'\n",
      "\n",
      "            # Sort the multi-index to allow slicing\n",
      "            regionData.sort_index(inplace=True)\n",
      "\n",
      "        self._regionData = regionData\n",
      "\n",
      "    def clearRegionLocs(self):\n",
      "        \"\"\"Clears any currently held localization data.\n",
      "\n",
      "        \"\"\"\n",
      "        self._regionData = None\n",
      "\n",
      "    @abstractmethod\n",
      "    def computeTrajectory(self):\n",
      "        \"\"\"Computes the trajectory.\n",
      "\n",
      "        \"\"\"\n",
      "        pass\n",
      "    \n",
      "    def _movingAverage(self, series, windowSize=100, sigma=3):\n",
      "        \"\"\"Estimate the weights for smoothing splines.\n",
      "\n",
      "        Parameters\n",
      "        ----------\n",
      "        series     : array of int\n",
      "            Discrete samples from a time series.\n",
      "        windowSize : int\n",
      "            Size of the moving average window in axial slices.\n",
      "        sigma      : int\n",
      "            Size of the Gaussian averaging kernel in axial slices.\n",
      "\n",
      "        Returns\n",
      "        -------\n",
      "        average : float\n",
      "            The moving window average.\n",
      "        var     : float\n",
      "            The variance of the data within the sumoving window.\n",
      "\n",
      "        References\n",
      "        ----------\n",
      "        http://www.nehalemlabs.net/prototype/blog/2014/04/12/how-to-fix-scipys-interpolating-spline-default-behavior/\n",
      "\n",
      "        \"\"\"\n",
      "        b = gaussian(windowSize, sigma)\n",
      "        average = filters.convolve1d(series, b / b.sum())\n",
      "        var = filters.convolve1d(np.power(series - average, 2), b / b.sum())\n",
      "        return average, var\n",
      "\n",
      "    @abstractmethod\n",
      "    def reset(self):\n",
      "        \"\"\"Resets the drift computer to its initial value.\n",
      "\n",
      "        \"\"\"\n",
      "        pass\n",
      "\n"
     ]
    }
   ],
   "source": [
    "import inspect\n",
    "print(inspect.getsource(proc.ComputeTrajectories))"
   ]
  },
  {
   "cell_type": "markdown",
   "metadata": {},
   "source": [
    "The `ComputeTrajectories` interface provides a property and four methods:\n",
    "\n",
    "1. `regionLocs` contains a DataFrame with all of the localizations. It must have at least one index with the label 'region_id' that identifies which region the localizations came from.\n",
    "\n",
    "2. `clearRegionLocs()` removes the localization information that is held by the computer.\n",
    "3. `_plotCurves()` is the code used to plot the trajectories.\n",
    "4. `_movingAverage()` is the sliding window Gaussian filter used to weight the datapoints for the cubic smoothing spline.\n",
    "5. `reset()` resets the computer to its initial state.\n",
    "\n",
    "In addition, there is one abstract method called `computeTrajectory`. Any class that implements this interface must define a function with this name.\n",
    "\n",
    "As an example, the actual implementation of this interface by the `DefaultAstigmatismComputer` is printed below:"
   ]
  },
  {
   "cell_type": "code",
   "execution_count": 23,
   "metadata": {
    "collapsed": false
   },
   "outputs": [
    {
     "name": "stdout",
     "output_type": "stream",
     "text": [
      "    def computeTrajectory(self, locs):\n",
      "        \"\"\"Computes the final drift trajectory from fiducial localizations.\n",
      "\n",
      "        Parameters\n",
      "        ----------\n",
      "        locs        : Pandas DataFrame\n",
      "            DataFrame containing the localizations belonging to beads.\n",
      "\n",
      "        Returns\n",
      "        -------\n",
      "        avgSpline : Pandas DataFrame\n",
      "            A dataframe containing z-positions and PSF widths in x- and y- for\n",
      "            calibrating an astigmatic imaging measurement.\n",
      "\n",
      "        \"\"\"\n",
      "        z = self.zCol\n",
      "        if self.startz:\n",
      "            startz = self.startz\n",
      "        else:\n",
      "            startz = locs[z].min()\n",
      "        \n",
      "        if self.stopz:\n",
      "            stopz = self.stopz\n",
      "        else:\n",
      "            stopz  = locs[z].max()\n",
      "        \n",
      "        self.clearRegionLocs()\n",
      "        self.regionLocs = locs\n",
      "        self._removeOutliers(startz, stopz)\n",
      "        self.fitCurves()\n",
      "        self.combineCurves(startz, stopz)\n",
      "\n",
      "        return self.avgSpline\n",
      "\n"
     ]
    }
   ],
   "source": [
    "print(inspect.getsource(proc.DefaultAstigmatismComputer.computeTrajectory))"
   ]
  },
  {
   "cell_type": "markdown",
   "metadata": {},
   "source": [
    "The method returns the averaged splines for the PSF widths in each direction. This is a Pandas DataFrame with  columns named `z`, `xS` and `yS`."
   ]
  },
  {
   "cell_type": "code",
   "execution_count": 24,
   "metadata": {
    "collapsed": false
   },
   "outputs": [
    {
     "data": {
      "text/html": [
       "<div>\n",
       "<table border=\"1\" class=\"dataframe\">\n",
       "  <thead>\n",
       "    <tr style=\"text-align: right;\">\n",
       "      <th></th>\n",
       "      <th>xS</th>\n",
       "      <th>yS</th>\n",
       "      <th>z</th>\n",
       "    </tr>\n",
       "  </thead>\n",
       "  <tbody>\n",
       "    <tr>\n",
       "      <th>0</th>\n",
       "      <td>373.960576</td>\n",
       "      <td>200.095675</td>\n",
       "      <td>-470.000000</td>\n",
       "    </tr>\n",
       "    <tr>\n",
       "      <th>1</th>\n",
       "      <td>370.865621</td>\n",
       "      <td>195.910812</td>\n",
       "      <td>-458.888889</td>\n",
       "    </tr>\n",
       "    <tr>\n",
       "      <th>2</th>\n",
       "      <td>367.567886</td>\n",
       "      <td>191.895022</td>\n",
       "      <td>-447.777778</td>\n",
       "    </tr>\n",
       "    <tr>\n",
       "      <th>3</th>\n",
       "      <td>364.090209</td>\n",
       "      <td>188.058295</td>\n",
       "      <td>-436.666667</td>\n",
       "    </tr>\n",
       "    <tr>\n",
       "      <th>4</th>\n",
       "      <td>360.455427</td>\n",
       "      <td>184.410625</td>\n",
       "      <td>-425.555556</td>\n",
       "    </tr>\n",
       "  </tbody>\n",
       "</table>\n",
       "</div>"
      ],
      "text/plain": [
       "           xS          yS           z\n",
       "0  373.960576  200.095675 -470.000000\n",
       "1  370.865621  195.910812 -458.888889\n",
       "2  367.567886  191.895022 -447.777778\n",
       "3  364.090209  188.058295 -436.666667\n",
       "4  360.455427  184.410625 -425.555556"
      ]
     },
     "execution_count": 24,
     "metadata": {},
     "output_type": "execute_result"
    }
   ],
   "source": [
    "# Print the first five values of the DataFrame returned by the drift computer\n",
    "ca.astigmatismComputer.avgSpline.head()"
   ]
  },
  {
   "cell_type": "markdown",
   "metadata": {},
   "source": [
    "To set the astigmatism computer used by the `CalibrateAstigmatism` processor, you can either set its `astigmatismComputer` property to the new computer instance or specify the `astigmatismComputer` argument in its constructor:\n",
    "\n",
    "```python\n",
    "newCA = proc.CalibrateAstigmatism(astigmatismComputer=myCustomComputer)\n",
    "```"
   ]
  },
  {
   "cell_type": "markdown",
   "metadata": {},
   "source": [
    "# Summary\n",
    "+ 3D astigmatic imaging calibrations are implemented in two parts: a `CalibrateAstigmatism` processor and an interface known as `ComputeTrajectories`.\n",
    "+ The default astigmatism computer in B-Store is called `DefaultAstigmatismComputer`. It implements the `ComputeTrajectories` interface.\n",
    "+ Beads are manually identified by setting `interactiveSearch` to True and applying the calibration processor to a DataFrame containing your localizations.\n",
    "+ Select beads by dragging a square around them and hitting the space bar.\n",
    "+ You can investigate the individual fiducial trajectories with the `plotBeads()` method belonging to the astigmatism computer.\n",
    "+ You can change which beads are used by setting `interactiveSearch` to False, and then sending a list of region indexes to `useTrajectories`.\n",
    "+ Setting `startz` and `stopz` can narrow the z-fitting range of the beads.\n",
    "+ If you wish, you can write your own astigmatism calibration algorithm by implementing the `ComputeTrajectories` interface and specifying a `computeTrajectory()` method.\n",
    "+ After calibrating, use the `calibrationCurve` function and the `ComputeZPosition` processor to determine the z-positions of the experimental localizations.\n",
    "+ Your custom computer may be specified in the `astigmatismComputer` property of the `CalibrateAstigmatism` processor."
   ]
  }
 ],
 "metadata": {
  "anaconda-cloud": {},
  "kernelspec": {
   "display_name": "Python [default]",
   "language": "python",
   "name": "python3"
  },
  "language_info": {
   "codemirror_mode": {
    "name": "ipython",
    "version": 3
   },
   "file_extension": ".py",
   "mimetype": "text/x-python",
   "name": "python",
   "nbconvert_exporter": "python",
   "pygments_lexer": "ipython3",
   "version": "3.5.2"
  }
 },
 "nbformat": 4,
 "nbformat_minor": 0
}
