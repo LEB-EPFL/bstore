{
 "cells": [
  {
   "cell_type": "markdown",
   "metadata": {},
   "source": [
    "I will now try to perform batch processing on input csv files, converting them to hdf5 using out-of-core processing."
   ]
  },
  {
   "cell_type": "code",
   "execution_count": 1,
   "metadata": {
    "collapsed": false
   },
   "outputs": [
    {
     "name": "stdout",
     "output_type": "stream",
     "text": [
      "Using matplotlib backend: Qt4Agg\n",
      "Populating the interactive namespace from numpy and matplotlib\n"
     ]
    }
   ],
   "source": [
    "%pylab\n",
    "import DataSTORM.processors as proc\n",
    "import DataSTORM.batch      as bat\n",
    "import pandas as pd\n",
    "from pathlib import Path"
   ]
  },
  {
   "cell_type": "markdown",
   "metadata": {},
   "source": [
    "Establish a filter and cleanup for testing."
   ]
  },
  {
   "cell_type": "code",
   "execution_count": 2,
   "metadata": {
    "collapsed": true
   },
   "outputs": [],
   "source": [
    "filter1  = proc.Filter('loglikelihood', '<', 250)\n",
    "cleanup  = proc.CleanUp()\n",
    "pipeline = [cleanup, filter1]"
   ]
  },
  {
   "cell_type": "code",
   "execution_count": 3,
   "metadata": {
    "collapsed": false
   },
   "outputs": [],
   "source": [
    "inputDir = Path('../test-data/Centrioles/')\n",
    "bp = bat.H5BatchProcessor(inputDir,\n",
    "                          pipeline,\n",
    "                          suffix = '_locResults_small.dat',\n",
    "                          chunksize = None,\n",
    "                          inputFileType = 'csv',\n",
    "                          useSameFolder = True)"
   ]
  },
  {
   "cell_type": "code",
   "execution_count": 4,
   "metadata": {
    "collapsed": false
   },
   "outputs": [
    {
     "name": "stdout",
     "output_type": "stream",
     "text": [
      "CPU times: user 604 ms, sys: 28 ms, total: 632 ms\n",
      "Wall time: 632 ms\n"
     ]
    }
   ],
   "source": [
    "%time bp.go()"
   ]
  },
  {
   "cell_type": "code",
   "execution_count": 5,
   "metadata": {
    "collapsed": false
   },
   "outputs": [
    {
     "name": "stdout",
     "output_type": "stream",
     "text": [
      "Frame 889: 24 trajectories present\n",
      "CPU times: user 3min 2s, sys: 5.35 s, total: 3min 7s\n",
      "Wall time: 3min 4s\n"
     ]
    }
   ],
   "source": [
    "%time bp.goMerge()"
   ]
  },
  {
   "cell_type": "markdown",
   "metadata": {},
   "source": [
    "So it looks like linking two datasets with 80,000 and 100,000 frames (and that are relatively sparse) will take approximately 12 hours when done in serial."
   ]
  },
  {
   "cell_type": "code",
   "execution_count": 6,
   "metadata": {
    "collapsed": false
   },
   "outputs": [],
   "source": [
    "test = Path('../test-data/Centrioles/FOV_1_noPB_1500mW_10ms_1/FOV_1_noPB_1500mW_10ms_1_MMStack_locResults_small_processed.h5')\n",
    "test2 = pd.read_hdf(str(test), key = 'merged')"
   ]
  },
  {
   "cell_type": "code",
   "execution_count": 7,
   "metadata": {
    "collapsed": false
   },
   "outputs": [
    {
     "data": {
      "text/html": [
       "<div>\n",
       "<table border=\"1\" class=\"dataframe\">\n",
       "  <thead>\n",
       "    <tr style=\"text-align: right;\">\n",
       "      <th></th>\n",
       "      <th>x</th>\n",
       "      <th>y</th>\n",
       "      <th>z</th>\n",
       "      <th>frame</th>\n",
       "      <th>loglikelihood</th>\n",
       "      <th>photons</th>\n",
       "      <th>bg</th>\n",
       "      <th>length</th>\n",
       "    </tr>\n",
       "  </thead>\n",
       "  <tbody>\n",
       "    <tr>\n",
       "      <th>count</th>\n",
       "      <td>9877.000000</td>\n",
       "      <td>9877.000000</td>\n",
       "      <td>9877</td>\n",
       "      <td>9877.000000</td>\n",
       "      <td>9877.000000</td>\n",
       "      <td>9877.000000</td>\n",
       "      <td>9877.000000</td>\n",
       "      <td>9877.000000</td>\n",
       "    </tr>\n",
       "    <tr>\n",
       "      <th>mean</th>\n",
       "      <td>28557.021086</td>\n",
       "      <td>29254.265628</td>\n",
       "      <td>0</td>\n",
       "      <td>491.813202</td>\n",
       "      <td>116.001180</td>\n",
       "      <td>15391.987908</td>\n",
       "      <td>957.676042</td>\n",
       "      <td>4.404880</td>\n",
       "    </tr>\n",
       "    <tr>\n",
       "      <th>std</th>\n",
       "      <td>17561.910395</td>\n",
       "      <td>18578.362224</td>\n",
       "      <td>0</td>\n",
       "      <td>235.160640</td>\n",
       "      <td>43.086534</td>\n",
       "      <td>30445.832511</td>\n",
       "      <td>2476.715013</td>\n",
       "      <td>11.482319</td>\n",
       "    </tr>\n",
       "    <tr>\n",
       "      <th>min</th>\n",
       "      <td>133.361549</td>\n",
       "      <td>8.103771</td>\n",
       "      <td>0</td>\n",
       "      <td>100.000000</td>\n",
       "      <td>18.378000</td>\n",
       "      <td>1081.900000</td>\n",
       "      <td>152.120000</td>\n",
       "      <td>1.000000</td>\n",
       "    </tr>\n",
       "    <tr>\n",
       "      <th>25%</th>\n",
       "      <td>11221.807293</td>\n",
       "      <td>10732.208576</td>\n",
       "      <td>0</td>\n",
       "      <td>287.000000</td>\n",
       "      <td>85.059143</td>\n",
       "      <td>4067.700000</td>\n",
       "      <td>239.010000</td>\n",
       "      <td>1.000000</td>\n",
       "    </tr>\n",
       "    <tr>\n",
       "      <th>50%</th>\n",
       "      <td>26910.263572</td>\n",
       "      <td>27142.539840</td>\n",
       "      <td>0</td>\n",
       "      <td>485.000000</td>\n",
       "      <td>104.529067</td>\n",
       "      <td>8334.000000</td>\n",
       "      <td>500.520000</td>\n",
       "      <td>2.000000</td>\n",
       "    </tr>\n",
       "    <tr>\n",
       "      <th>75%</th>\n",
       "      <td>40961.458209</td>\n",
       "      <td>43556.076196</td>\n",
       "      <td>0</td>\n",
       "      <td>680.000000</td>\n",
       "      <td>137.114857</td>\n",
       "      <td>18087.700000</td>\n",
       "      <td>1144.560000</td>\n",
       "      <td>5.000000</td>\n",
       "    </tr>\n",
       "    <tr>\n",
       "      <th>max</th>\n",
       "      <td>64881.000000</td>\n",
       "      <td>64961.000000</td>\n",
       "      <td>0</td>\n",
       "      <td>939.000000</td>\n",
       "      <td>249.880000</td>\n",
       "      <td>1816196.500000</td>\n",
       "      <td>180336.790000</td>\n",
       "      <td>839.000000</td>\n",
       "    </tr>\n",
       "  </tbody>\n",
       "</table>\n",
       "</div>"
      ],
      "text/plain": [
       "                  x             y     z        frame  loglikelihood  \\\n",
       "count   9877.000000   9877.000000  9877  9877.000000    9877.000000   \n",
       "mean   28557.021086  29254.265628     0   491.813202     116.001180   \n",
       "std    17561.910395  18578.362224     0   235.160640      43.086534   \n",
       "min      133.361549      8.103771     0   100.000000      18.378000   \n",
       "25%    11221.807293  10732.208576     0   287.000000      85.059143   \n",
       "50%    26910.263572  27142.539840     0   485.000000     104.529067   \n",
       "75%    40961.458209  43556.076196     0   680.000000     137.114857   \n",
       "max    64881.000000  64961.000000     0   939.000000     249.880000   \n",
       "\n",
       "              photons             bg       length  \n",
       "count     9877.000000    9877.000000  9877.000000  \n",
       "mean     15391.987908     957.676042     4.404880  \n",
       "std      30445.832511    2476.715013    11.482319  \n",
       "min       1081.900000     152.120000     1.000000  \n",
       "25%       4067.700000     239.010000     1.000000  \n",
       "50%       8334.000000     500.520000     2.000000  \n",
       "75%      18087.700000    1144.560000     5.000000  \n",
       "max    1816196.500000  180336.790000   839.000000  "
      ]
     },
     "execution_count": 7,
     "metadata": {},
     "output_type": "execute_result"
    }
   ],
   "source": [
    "test2.describe()"
   ]
  },
  {
   "cell_type": "code",
   "execution_count": null,
   "metadata": {
    "collapsed": false
   },
   "outputs": [],
   "source": [
    "import trackpy as tp"
   ]
  },
  {
   "cell_type": "code",
   "execution_count": null,
   "metadata": {
    "collapsed": false
   },
   "outputs": [],
   "source": [
    "filename = Path('../test-data/Centrioles/FOV_1_noPB_1500mW_10ms_1/FOV_1_noPB_1500mW_10ms_1_MMStack_locResults_small_processed.h5')\n",
    "store = tp.PandasHDFStoreSingleNode(str(filename), key = 'linked')\n",
    "#store = pd.read_hdf(str(filename), key = 'linked', iterator = True, chunksize = None)"
   ]
  },
  {
   "cell_type": "code",
   "execution_count": null,
   "metadata": {
    "collapsed": false
   },
   "outputs": [],
   "source": [
    "store.store.remove('linked')"
   ]
  },
  {
   "cell_type": "code",
   "execution_count": null,
   "metadata": {
    "collapsed": false
   },
   "outputs": [],
   "source": [
    "store.store.groups"
   ]
  },
  {
   "cell_type": "code",
   "execution_count": null,
   "metadata": {
    "collapsed": true
   },
   "outputs": [],
   "source": []
  },
  {
   "cell_type": "code",
   "execution_count": null,
   "metadata": {
    "collapsed": false
   },
   "outputs": [],
   "source": [
    "test.agg({'loglikelihood' : 'mean', 'frame' : 'min'})"
   ]
  },
  {
   "cell_type": "code",
   "execution_count": null,
   "metadata": {
    "collapsed": false
   },
   "outputs": [],
   "source": [
    "temp = store.store.select_column('linked', 'particle').max()"
   ]
  },
  {
   "cell_type": "code",
   "execution_count": null,
   "metadata": {
    "collapsed": false
   },
   "outputs": [],
   "source": [
    "type(int(temp))"
   ]
  },
  {
   "cell_type": "code",
   "execution_count": null,
   "metadata": {
    "collapsed": true
   },
   "outputs": [],
   "source": []
  }
 ],
 "metadata": {
  "kernelspec": {
   "display_name": "Python 3",
   "language": "python",
   "name": "python3"
  },
  "language_info": {
   "codemirror_mode": {
    "name": "ipython",
    "version": 3
   },
   "file_extension": ".py",
   "mimetype": "text/x-python",
   "name": "python",
   "nbconvert_exporter": "python",
   "pygments_lexer": "ipython3",
   "version": "3.5.0"
  }
 },
 "nbformat": 4,
 "nbformat_minor": 0
}
