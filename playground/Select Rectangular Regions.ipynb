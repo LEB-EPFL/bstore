{
 "cells": [
  {
   "cell_type": "markdown",
   "metadata": {},
   "source": [
    "One problem with the automatic fiducial detection is that it is very slow for large fields of view (it can take hours). The slow down comes from the linking across frames. This is problematic because one may need to try different parameters to achieve good fiducial detection.\n",
    "\n",
    "A possible solution is to visually select regions containing fiducials from histogram plots. Then, the linking can be made to occur only over the search region."
   ]
  },
  {
   "cell_type": "code",
   "execution_count": 1,
   "metadata": {
    "collapsed": false
   },
   "outputs": [
    {
     "name": "stdout",
     "output_type": "stream",
     "text": [
      "Using matplotlib backend: Qt4Agg\n",
      "Populating the interactive namespace from numpy and matplotlib\n"
     ]
    }
   ],
   "source": [
    "%pylab\n",
    "import DataSTORM.processors as ds\n",
    "import pandas as pd\n",
    "from pathlib import Path"
   ]
  },
  {
   "cell_type": "markdown",
   "metadata": {},
   "source": [
    "### Clean up the data"
   ]
  },
  {
   "cell_type": "code",
   "execution_count": 2,
   "metadata": {
    "collapsed": false
   },
   "outputs": [
    {
     "name": "stderr",
     "output_type": "stream",
     "text": [
      "/home/kmdouglass/anaconda3/envs/DataSTORM/lib/python3.5/site-packages/IPython/core/interactiveshell.py:2902: DtypeWarning: Columns (4) have mixed types. Specify dtype option on import or set low_memory=False.\n",
      "  interactivity=interactivity, compiler=compiler, result=result)\n"
     ]
    }
   ],
   "source": [
    "filename = Path('../test-data/MicroTubules_LargeFOV/FOV1_1500_10ms_1_MMStack_locResults.dat')\n",
    "with open(str(filename.resolve()), 'r') as file:\n",
    "    df = pd.read_csv(file)"
   ]
  },
  {
   "cell_type": "code",
   "execution_count": 3,
   "metadata": {
    "collapsed": false
   },
   "outputs": [
    {
     "name": "stdout",
     "output_type": "stream",
     "text": [
      "Done.\n"
     ]
    }
   ],
   "source": [
    "stringMask             = df['uncertainty [nm]'].map(lambda x: isinstance(x, str)).as_matrix()\n",
    "df['uncertainty [nm]'] = pd.to_numeric(df['uncertainty [nm]'], errors='coerce')\n",
    "df.replace([np.inf, -np.inf], np.nan, inplace = True)\n",
    "df.dropna()\n",
    "df.reindex()\n",
    "print('Done.')"
   ]
  },
  {
   "cell_type": "markdown",
   "metadata": {},
   "source": [
    "# Display 2D histograms\n",
    "2D histograms seem to be a good way to identify fiducials, especially in microtubules and the centriole samples. This is because the fiducials don't drift much and should be present in every frame, leading to large values in the bins that hide the other features.\n",
    "\n",
    "Let's first try to generate a nice looking 2D histogram that tells us the information we need, specifically the location of the fiducials."
   ]
  },
  {
   "cell_type": "code",
   "execution_count": 4,
   "metadata": {
    "collapsed": false
   },
   "outputs": [],
   "source": [
    "toMicrons = .001 # Conversion of columns to microns\n",
    "\n",
    "fig, ax = plt.subplots()\n",
    "im      = ax.hexbin(df['x [nm]'] * toMicrons, df['y [nm]'] * toMicrons, gridsize = 100, cmap = plt.cm.YlOrRd_r)\n",
    "ax.set_xlabel(r'x-position, $\\mu m$')\n",
    "ax.set_ylabel(r'y-position, $\\mu m$')\n",
    "ax.invert_yaxis()\n",
    "\n",
    "cb      = plt.colorbar(im)\n",
    "cb.set_label('Counts')\n",
    "\n",
    "plt.show()"
   ]
  },
  {
   "cell_type": "code",
   "execution_count": 5,
   "metadata": {
    "collapsed": true
   },
   "outputs": [],
   "source": [
    "plt.close()"
   ]
  },
  {
   "cell_type": "markdown",
   "metadata": {
    "collapsed": false
   },
   "source": [
    "# Making interactive rectangular selections\n",
    "Now that we have a decent looking histogram that can identify fiducials, let's try making an interactive, rectangular selection widget. This code is based on the [matplotlib 1.5 docs](http://matplotlib.org/api/widgets_api.html) and the [rectangle selector example](http://matplotlib.org/examples/widgets/rectangle_selector.html)."
   ]
  },
  {
   "cell_type": "code",
   "execution_count": 4,
   "metadata": {
    "collapsed": false
   },
   "outputs": [],
   "source": [
    "from matplotlib.widgets import RectangleSelector\n",
    "\n",
    "def onselect(eclick, erelease):\n",
    "    pass\n",
    "    '''# eclick and e release are matplotlib events at press and release\n",
    "    print(' startposition : (%f, %f)' % (eclick.xdata, eclick.ydata))\n",
    "    print(' endposition   : (%f, %f)' % (erelease.xdata, erelease.ydata))\n",
    "    print(' used button   : ', eclick.button)'''\n",
    "\n",
    "def toggle_selector(event):\n",
    "    print(' Key pressed.')\n",
    "    if event.key in ['Q', 'q'] and toggle_selector.RS.active:\n",
    "        print(' RectangleSelector deactivated.')\n",
    "        toggle_selector.RS.set_active(False)\n",
    "    if event.key in ['A', 'a'] and not toggle_selector.RS.active:\n",
    "        print(' RectangleSelector activated.')\n",
    "        toggle_selector.RS.set_active(True)\n",
    "    if event.key in [' ']:\n",
    "        print('Space bar pressed!')\n",
    "        \n",
    "toMicrons = .001 # Conversion of columns to microns\n",
    "\n",
    "fig, ax = plt.subplots()\n",
    "im      = ax.hexbin(df['x [nm]'] * toMicrons, df['y [nm]'] * toMicrons, gridsize = 100, cmap = plt.cm.YlOrRd_r)\n",
    "ax.set_xlabel(r'x-position, $\\mu m$')\n",
    "ax.set_ylabel(r'y-position, $\\mu m$')\n",
    "ax.invert_yaxis()\n",
    "\n",
    "cb      = plt.colorbar(im)\n",
    "cb.set_label('Counts')\n",
    "\n",
    "toggle_selector.RS = RectangleSelector(ax,\n",
    "                                       onselect,\n",
    "                                       drawtype    = 'box',\n",
    "                                       useblit     = True,\n",
    "                                       button      = [1, 3],  # don't use middle button\n",
    "                                       spancoords  = 'data',\n",
    "                                       interactive = True)\n",
    "plt.connect('key_press_event', toggle_selector)\n",
    "plt.show()"
   ]
  },
  {
   "cell_type": "code",
   "execution_count": 5,
   "metadata": {
    "collapsed": false
   },
   "outputs": [],
   "source": [
    "plt.close()"
   ]
  },
  {
   "cell_type": "code",
   "execution_count": 6,
   "metadata": {
    "collapsed": false
   },
   "outputs": [
    {
     "data": {
      "text/plain": [
       "(1.1904941838942271,\n",
       " 3.3875377356673457,\n",
       " 32.830574988541656,\n",
       " 35.100628688281233)"
      ]
     },
     "execution_count": 6,
     "metadata": {},
     "output_type": "execute_result"
    }
   ],
   "source": [
    "toggle_selector.RS.extents"
   ]
  },
  {
   "cell_type": "code",
   "execution_count": null,
   "metadata": {
    "collapsed": true
   },
   "outputs": [],
   "source": []
  }
 ],
 "metadata": {
  "kernelspec": {
   "display_name": "Python 3",
   "language": "python",
   "name": "python3"
  },
  "language_info": {
   "codemirror_mode": {
    "name": "ipython",
    "version": 3
   },
   "file_extension": ".py",
   "mimetype": "text/x-python",
   "name": "python",
   "nbconvert_exporter": "python",
   "pygments_lexer": "ipython3",
   "version": "3.5.0"
  }
 },
 "nbformat": 4,
 "nbformat_minor": 0
}
