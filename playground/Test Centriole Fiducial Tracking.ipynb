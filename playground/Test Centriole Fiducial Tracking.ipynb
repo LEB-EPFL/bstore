{
 "cells": [
  {
   "cell_type": "markdown",
   "metadata": {},
   "source": [
    "I need a small testing playground that won't crash on my laptop, so I'm creating one here for the 10000 frame centriole data."
   ]
  },
  {
   "cell_type": "code",
   "execution_count": 1,
   "metadata": {
    "collapsed": false
   },
   "outputs": [
    {
     "name": "stdout",
     "output_type": "stream",
     "text": [
      "Using matplotlib backend: Qt4Agg\n",
      "Populating the interactive namespace from numpy and matplotlib\n"
     ]
    }
   ],
   "source": [
    "%pylab\n",
    "import DataSTORM.processors as ds\n",
    "import pandas as pd\n",
    "from pathlib import Path"
   ]
  },
  {
   "cell_type": "code",
   "execution_count": 2,
   "metadata": {
    "collapsed": true
   },
   "outputs": [],
   "source": [
    "filename = Path('../test-data/acTub_COT_gain100_30ms/acTub_COT_gain100_30ms.csv')\n",
    "with open(str(filename.resolve()), 'r') as file:\n",
    "    df = pd.read_csv(file, engine = 'c')"
   ]
  },
  {
   "cell_type": "code",
   "execution_count": 3,
   "metadata": {
    "collapsed": false
   },
   "outputs": [
    {
     "data": {
      "text/html": [
       "<div>\n",
       "<table border=\"1\" class=\"dataframe\">\n",
       "  <thead>\n",
       "    <tr style=\"text-align: right;\">\n",
       "      <th></th>\n",
       "      <th>x</th>\n",
       "      <th>x-uncertainty</th>\n",
       "      <th>y</th>\n",
       "      <th>y-uncertainty</th>\n",
       "      <th>frame</th>\n",
       "      <th>ad-count</th>\n",
       "      <th>chi-square</th>\n",
       "      <th>background</th>\n",
       "    </tr>\n",
       "  </thead>\n",
       "  <tbody>\n",
       "    <tr>\n",
       "      <th>count</th>\n",
       "      <td>214717.000000</td>\n",
       "      <td>214717.000000</td>\n",
       "      <td>214717.000000</td>\n",
       "      <td>214717.000000</td>\n",
       "      <td>214717.000000</td>\n",
       "      <td>214717.000000</td>\n",
       "      <td>214717.000000</td>\n",
       "      <td>214717.000000</td>\n",
       "    </tr>\n",
       "    <tr>\n",
       "      <th>mean</th>\n",
       "      <td>2425.196663</td>\n",
       "      <td>35.420145</td>\n",
       "      <td>2182.946881</td>\n",
       "      <td>35.420145</td>\n",
       "      <td>5172.075346</td>\n",
       "      <td>6288.638717</td>\n",
       "      <td>1029.127987</td>\n",
       "      <td>744.422318</td>\n",
       "    </tr>\n",
       "    <tr>\n",
       "      <th>std</th>\n",
       "      <td>1595.345619</td>\n",
       "      <td>20.475942</td>\n",
       "      <td>1322.208205</td>\n",
       "      <td>20.475942</td>\n",
       "      <td>2777.221724</td>\n",
       "      <td>15586.487514</td>\n",
       "      <td>2896.254531</td>\n",
       "      <td>312.086668</td>\n",
       "    </tr>\n",
       "    <tr>\n",
       "      <th>min</th>\n",
       "      <td>0.000001</td>\n",
       "      <td>0.847267</td>\n",
       "      <td>0.000002</td>\n",
       "      <td>0.847267</td>\n",
       "      <td>0.000000</td>\n",
       "      <td>338.324000</td>\n",
       "      <td>50.035500</td>\n",
       "      <td>523.371000</td>\n",
       "    </tr>\n",
       "    <tr>\n",
       "      <th>25%</th>\n",
       "      <td>965.218000</td>\n",
       "      <td>20.430100</td>\n",
       "      <td>982.750000</td>\n",
       "      <td>20.430100</td>\n",
       "      <td>2904.000000</td>\n",
       "      <td>577.636000</td>\n",
       "      <td>222.657000</td>\n",
       "      <td>613.929000</td>\n",
       "    </tr>\n",
       "    <tr>\n",
       "      <th>50%</th>\n",
       "      <td>2403.570000</td>\n",
       "      <td>38.192700</td>\n",
       "      <td>2206.350000</td>\n",
       "      <td>38.192700</td>\n",
       "      <td>5165.000000</td>\n",
       "      <td>772.204000</td>\n",
       "      <td>304.708000</td>\n",
       "      <td>656.426000</td>\n",
       "    </tr>\n",
       "    <tr>\n",
       "      <th>75%</th>\n",
       "      <td>3892.590000</td>\n",
       "      <td>50.197000</td>\n",
       "      <td>3461.780000</td>\n",
       "      <td>50.197000</td>\n",
       "      <td>7563.000000</td>\n",
       "      <td>1596.560000</td>\n",
       "      <td>433.924000</td>\n",
       "      <td>730.572000</td>\n",
       "    </tr>\n",
       "    <tr>\n",
       "      <th>max</th>\n",
       "      <td>4900.000000</td>\n",
       "      <td>80.431400</td>\n",
       "      <td>4200.000000</td>\n",
       "      <td>80.431400</td>\n",
       "      <td>9999.000000</td>\n",
       "      <td>177421.000000</td>\n",
       "      <td>58298.300000</td>\n",
       "      <td>7147.530000</td>\n",
       "    </tr>\n",
       "  </tbody>\n",
       "</table>\n",
       "</div>"
      ],
      "text/plain": [
       "                   x  x-uncertainty              y  y-uncertainty  \\\n",
       "count  214717.000000  214717.000000  214717.000000  214717.000000   \n",
       "mean     2425.196663      35.420145    2182.946881      35.420145   \n",
       "std      1595.345619      20.475942    1322.208205      20.475942   \n",
       "min         0.000001       0.847267       0.000002       0.847267   \n",
       "25%       965.218000      20.430100     982.750000      20.430100   \n",
       "50%      2403.570000      38.192700    2206.350000      38.192700   \n",
       "75%      3892.590000      50.197000    3461.780000      50.197000   \n",
       "max      4900.000000      80.431400    4200.000000      80.431400   \n",
       "\n",
       "               frame       ad-count     chi-square     background  \n",
       "count  214717.000000  214717.000000  214717.000000  214717.000000  \n",
       "mean     5172.075346    6288.638717    1029.127987     744.422318  \n",
       "std      2777.221724   15586.487514    2896.254531     312.086668  \n",
       "min         0.000000     338.324000      50.035500     523.371000  \n",
       "25%      2904.000000     577.636000     222.657000     613.929000  \n",
       "50%      5165.000000     772.204000     304.708000     656.426000  \n",
       "75%      7563.000000    1596.560000     433.924000     730.572000  \n",
       "max      9999.000000  177421.000000   58298.300000    7147.530000  "
      ]
     },
     "execution_count": 3,
     "metadata": {},
     "output_type": "execute_result"
    }
   ],
   "source": [
    "df.describe()"
   ]
  },
  {
   "cell_type": "code",
   "execution_count": 4,
   "metadata": {
    "collapsed": true
   },
   "outputs": [],
   "source": [
    "import importlib"
   ]
  },
  {
   "cell_type": "code",
   "execution_count": 80,
   "metadata": {
    "collapsed": false
   },
   "outputs": [],
   "source": [
    "maxSize = np.max([df['x'].max(),df['y'].max()])\n",
    "pixelSize = 100 # nm\n",
    "\n",
    "fig = plt.figure()\n",
    "ax  = fig.add_subplot(111)\n",
    "ax.hist2d(df['x'], df['y'], bins = maxSize / 100)\n",
    "ax.invert_yaxis()\n",
    "plt.show()"
   ]
  },
  {
   "cell_type": "code",
   "execution_count": 188,
   "metadata": {
    "collapsed": false
   },
   "outputs": [],
   "source": [
    "plt.close()"
   ]
  },
  {
   "cell_type": "code",
   "execution_count": 71,
   "metadata": {
    "collapsed": false
   },
   "outputs": [
    {
     "data": {
      "text/plain": [
       "<module 'DataSTORM.processors' from '/home/kmdouglass/src/DataSTORM/DataSTORM/processors.py'>"
      ]
     },
     "execution_count": 71,
     "metadata": {},
     "output_type": "execute_result"
    }
   ],
   "source": [
    "importlib.reload(ds)"
   ]
  },
  {
   "cell_type": "code",
   "execution_count": 72,
   "metadata": {
    "collapsed": false
   },
   "outputs": [],
   "source": [
    "corr = ds.FiducialDriftCorrect(mergeRadius      = 90,\n",
    "                               offTime          = 3,\n",
    "                               minSegmentLength = 30,\n",
    "                               searchRegions    = [{'xMin' : 1500,\n",
    "                                                    'xMax' : 1700,\n",
    "                                                    'yMin' : 2500,\n",
    "                                                    'yMax' : 2700}])"
   ]
  },
  {
   "cell_type": "code",
   "execution_count": 73,
   "metadata": {
    "collapsed": false
   },
   "outputs": [
    {
     "name": "stdout",
     "output_type": "stream",
     "text": [
      "Space bar pressed!\n",
      "Closed Figure!\n"
     ]
    },
    {
     "name": "stderr",
     "output_type": "stream",
     "text": [
      "/home/kmdouglass/anaconda3/envs/DataSTORM/lib/python3.5/site-packages/matplotlib/backend_bases.py:2435: MatplotlibDeprecationWarning: Using default event loop until function specific to this GUI is implemented\n",
      "  warnings.warn(str, mplDeprecation)\n"
     ]
    }
   ],
   "source": [
    "corr.iSearch(df)"
   ]
  },
  {
   "cell_type": "code",
   "execution_count": 74,
   "metadata": {
    "collapsed": false
   },
   "outputs": [],
   "source": [
    "plt.close()"
   ]
  },
  {
   "cell_type": "code",
   "execution_count": 75,
   "metadata": {
    "collapsed": false
   },
   "outputs": [
    {
     "name": "stdout",
     "output_type": "stream",
     "text": [
      "Frame 9996: 1 trajectories present\n",
      "1 fiducial(s) detected.\n"
     ]
    }
   ],
   "source": [
    "df2 = corr(df)"
   ]
  },
  {
   "cell_type": "code",
   "execution_count": 76,
   "metadata": {
    "collapsed": false
   },
   "outputs": [
    {
     "data": {
      "text/html": [
       "<div>\n",
       "<table border=\"1\" class=\"dataframe\">\n",
       "  <thead>\n",
       "    <tr style=\"text-align: right;\">\n",
       "      <th></th>\n",
       "      <th>ad-count</th>\n",
       "      <th>background</th>\n",
       "      <th>chi-square</th>\n",
       "      <th>frame</th>\n",
       "      <th>x</th>\n",
       "      <th>x-uncertainty</th>\n",
       "      <th>y</th>\n",
       "      <th>y-uncertainty</th>\n",
       "      <th>dx</th>\n",
       "      <th>dy</th>\n",
       "    </tr>\n",
       "  </thead>\n",
       "  <tbody>\n",
       "    <tr>\n",
       "      <th>count</th>\n",
       "      <td>205975.000000</td>\n",
       "      <td>205975.000000</td>\n",
       "      <td>205975.000000</td>\n",
       "      <td>205975.000000</td>\n",
       "      <td>205975.000000</td>\n",
       "      <td>205975.000000</td>\n",
       "      <td>205975.000000</td>\n",
       "      <td>205975.000000</td>\n",
       "      <td>205975.000000</td>\n",
       "      <td>205975.000000</td>\n",
       "    </tr>\n",
       "    <tr>\n",
       "      <th>mean</th>\n",
       "      <td>5961.789793</td>\n",
       "      <td>742.002304</td>\n",
       "      <td>1000.376989</td>\n",
       "      <td>5172.442277</td>\n",
       "      <td>2449.917511</td>\n",
       "      <td>36.751226</td>\n",
       "      <td>2191.310031</td>\n",
       "      <td>36.751226</td>\n",
       "      <td>11.136573</td>\n",
       "      <td>-23.985763</td>\n",
       "    </tr>\n",
       "    <tr>\n",
       "      <th>std</th>\n",
       "      <td>15735.554133</td>\n",
       "      <td>316.370985</td>\n",
       "      <td>2900.234056</td>\n",
       "      <td>2775.162190</td>\n",
       "      <td>1618.858941</td>\n",
       "      <td>19.834358</td>\n",
       "      <td>1348.258207</td>\n",
       "      <td>19.834358</td>\n",
       "      <td>6.764342</td>\n",
       "      <td>21.478217</td>\n",
       "    </tr>\n",
       "    <tr>\n",
       "      <th>min</th>\n",
       "      <td>338.324000</td>\n",
       "      <td>523.371000</td>\n",
       "      <td>50.035500</td>\n",
       "      <td>0.000000</td>\n",
       "      <td>-21.343824</td>\n",
       "      <td>0.847267</td>\n",
       "      <td>-4.655255</td>\n",
       "      <td>0.847267</td>\n",
       "      <td>-10.558332</td>\n",
       "      <td>-58.577148</td>\n",
       "    </tr>\n",
       "    <tr>\n",
       "      <th>25%</th>\n",
       "      <td>570.513000</td>\n",
       "      <td>611.951500</td>\n",
       "      <td>219.725000</td>\n",
       "      <td>2909.000000</td>\n",
       "      <td>889.910959</td>\n",
       "      <td>24.931950</td>\n",
       "      <td>963.737642</td>\n",
       "      <td>24.931950</td>\n",
       "      <td>10.640409</td>\n",
       "      <td>-44.893025</td>\n",
       "    </tr>\n",
       "    <tr>\n",
       "      <th>50%</th>\n",
       "      <td>752.848000</td>\n",
       "      <td>652.932000</td>\n",
       "      <td>297.752000</td>\n",
       "      <td>5167.000000</td>\n",
       "      <td>2519.141423</td>\n",
       "      <td>39.065900</td>\n",
       "      <td>2104.718976</td>\n",
       "      <td>39.065900</td>\n",
       "      <td>13.371441</td>\n",
       "      <td>-23.280464</td>\n",
       "    </tr>\n",
       "    <tr>\n",
       "      <th>75%</th>\n",
       "      <td>1255.420000</td>\n",
       "      <td>723.177500</td>\n",
       "      <td>399.925000</td>\n",
       "      <td>7557.000000</td>\n",
       "      <td>3945.439926</td>\n",
       "      <td>50.801700</td>\n",
       "      <td>3515.060045</td>\n",
       "      <td>50.801700</td>\n",
       "      <td>14.771622</td>\n",
       "      <td>-1.980576</td>\n",
       "    </tr>\n",
       "    <tr>\n",
       "      <th>max</th>\n",
       "      <td>177421.000000</td>\n",
       "      <td>7147.530000</td>\n",
       "      <td>58298.300000</td>\n",
       "      <td>9999.000000</td>\n",
       "      <td>4910.558288</td>\n",
       "      <td>80.431400</td>\n",
       "      <td>4258.577148</td>\n",
       "      <td>80.431400</td>\n",
       "      <td>21.348286</td>\n",
       "      <td>4.657005</td>\n",
       "    </tr>\n",
       "  </tbody>\n",
       "</table>\n",
       "</div>"
      ],
      "text/plain": [
       "            ad-count     background     chi-square          frame  \\\n",
       "count  205975.000000  205975.000000  205975.000000  205975.000000   \n",
       "mean     5961.789793     742.002304    1000.376989    5172.442277   \n",
       "std     15735.554133     316.370985    2900.234056    2775.162190   \n",
       "min       338.324000     523.371000      50.035500       0.000000   \n",
       "25%       570.513000     611.951500     219.725000    2909.000000   \n",
       "50%       752.848000     652.932000     297.752000    5167.000000   \n",
       "75%      1255.420000     723.177500     399.925000    7557.000000   \n",
       "max    177421.000000    7147.530000   58298.300000    9999.000000   \n",
       "\n",
       "                   x  x-uncertainty              y  y-uncertainty  \\\n",
       "count  205975.000000  205975.000000  205975.000000  205975.000000   \n",
       "mean     2449.917511      36.751226    2191.310031      36.751226   \n",
       "std      1618.858941      19.834358    1348.258207      19.834358   \n",
       "min       -21.343824       0.847267      -4.655255       0.847267   \n",
       "25%       889.910959      24.931950     963.737642      24.931950   \n",
       "50%      2519.141423      39.065900    2104.718976      39.065900   \n",
       "75%      3945.439926      50.801700    3515.060045      50.801700   \n",
       "max      4910.558288      80.431400    4258.577148      80.431400   \n",
       "\n",
       "                  dx             dy  \n",
       "count  205975.000000  205975.000000  \n",
       "mean       11.136573     -23.985763  \n",
       "std         6.764342      21.478217  \n",
       "min       -10.558332     -58.577148  \n",
       "25%        10.640409     -44.893025  \n",
       "50%        13.371441     -23.280464  \n",
       "75%        14.771622      -1.980576  \n",
       "max        21.348286       4.657005  "
      ]
     },
     "execution_count": 76,
     "metadata": {},
     "output_type": "execute_result"
    }
   ],
   "source": [
    "df2.describe()"
   ]
  },
  {
   "cell_type": "code",
   "execution_count": 81,
   "metadata": {
    "collapsed": true
   },
   "outputs": [],
   "source": [
    "maxSize = np.max([df2['x'].max(),df2['y'].max()])\n",
    "pixelSize = 100 # nm\n",
    "\n",
    "fig = plt.figure()\n",
    "ax  = fig.add_subplot(111)\n",
    "ax.hist2d(df2['x'], df2['y'], bins = maxSize / 100)\n",
    "ax.invert_yaxis()\n",
    "plt.show()"
   ]
  },
  {
   "cell_type": "code",
   "execution_count": 228,
   "metadata": {
    "collapsed": false
   },
   "outputs": [
    {
     "data": {
      "text/plain": [
       "[{'xMax': 1630.0403218824745,\n",
       "  'xMin': 1469.5060474140912,\n",
       "  'yMax': 2668.7500006947203,\n",
       "  'yMin': 2450.0000007939661}]"
      ]
     },
     "execution_count": 228,
     "metadata": {},
     "output_type": "execute_result"
    }
   ],
   "source": [
    "corr.searchRegions"
   ]
  },
  {
   "cell_type": "code",
   "execution_count": 186,
   "metadata": {
    "collapsed": false
   },
   "outputs": [
    {
     "data": {
      "text/plain": [
       "[{'xMax': None, 'xMin': None, 'yMax': None, 'yMin': None}]"
      ]
     },
     "execution_count": 186,
     "metadata": {},
     "output_type": "execute_result"
    }
   ],
   "source": [
    "corr.resetSearchRegions()\n",
    "corr.searchRegions"
   ]
  },
  {
   "cell_type": "code",
   "execution_count": 77,
   "metadata": {
    "collapsed": false
   },
   "outputs": [
    {
     "data": {
      "text/html": [
       "<div>\n",
       "<table border=\"1\" class=\"dataframe\">\n",
       "  <thead>\n",
       "    <tr style=\"text-align: right;\">\n",
       "      <th></th>\n",
       "      <th>ad-count</th>\n",
       "      <th>background</th>\n",
       "      <th>chi-square</th>\n",
       "      <th>frame</th>\n",
       "      <th>particle</th>\n",
       "      <th>x</th>\n",
       "      <th>x-uncertainty</th>\n",
       "      <th>y</th>\n",
       "      <th>y-uncertainty</th>\n",
       "    </tr>\n",
       "  </thead>\n",
       "  <tbody>\n",
       "    <tr>\n",
       "      <th>count</th>\n",
       "      <td>205975.000000</td>\n",
       "      <td>205975.000000</td>\n",
       "      <td>205975.000000</td>\n",
       "      <td>205975.000000</td>\n",
       "      <td>0</td>\n",
       "      <td>205975.000000</td>\n",
       "      <td>205975.000000</td>\n",
       "      <td>205975.000000</td>\n",
       "      <td>205975.000000</td>\n",
       "    </tr>\n",
       "    <tr>\n",
       "      <th>mean</th>\n",
       "      <td>5961.789793</td>\n",
       "      <td>742.002304</td>\n",
       "      <td>1000.376989</td>\n",
       "      <td>5172.442277</td>\n",
       "      <td>NaN</td>\n",
       "      <td>2461.054084</td>\n",
       "      <td>36.751226</td>\n",
       "      <td>2167.324268</td>\n",
       "      <td>36.751226</td>\n",
       "    </tr>\n",
       "    <tr>\n",
       "      <th>std</th>\n",
       "      <td>15735.554133</td>\n",
       "      <td>316.370985</td>\n",
       "      <td>2900.234056</td>\n",
       "      <td>2775.162190</td>\n",
       "      <td>NaN</td>\n",
       "      <td>1618.947414</td>\n",
       "      <td>19.834358</td>\n",
       "      <td>1347.698495</td>\n",
       "      <td>19.834358</td>\n",
       "    </tr>\n",
       "    <tr>\n",
       "      <th>min</th>\n",
       "      <td>338.324000</td>\n",
       "      <td>523.371000</td>\n",
       "      <td>50.035500</td>\n",
       "      <td>0.000000</td>\n",
       "      <td>NaN</td>\n",
       "      <td>0.000001</td>\n",
       "      <td>0.847267</td>\n",
       "      <td>0.000002</td>\n",
       "      <td>0.847267</td>\n",
       "    </tr>\n",
       "    <tr>\n",
       "      <th>25%</th>\n",
       "      <td>570.513000</td>\n",
       "      <td>611.951500</td>\n",
       "      <td>219.725000</td>\n",
       "      <td>2909.000000</td>\n",
       "      <td>NaN</td>\n",
       "      <td>900.397000</td>\n",
       "      <td>24.931950</td>\n",
       "      <td>940.650000</td>\n",
       "      <td>24.931950</td>\n",
       "    </tr>\n",
       "    <tr>\n",
       "      <th>50%</th>\n",
       "      <td>752.848000</td>\n",
       "      <td>652.932000</td>\n",
       "      <td>297.752000</td>\n",
       "      <td>5167.000000</td>\n",
       "      <td>NaN</td>\n",
       "      <td>2530.090000</td>\n",
       "      <td>39.065900</td>\n",
       "      <td>2080.190000</td>\n",
       "      <td>39.065900</td>\n",
       "    </tr>\n",
       "    <tr>\n",
       "      <th>75%</th>\n",
       "      <td>1255.420000</td>\n",
       "      <td>723.177500</td>\n",
       "      <td>399.925000</td>\n",
       "      <td>7557.000000</td>\n",
       "      <td>NaN</td>\n",
       "      <td>3957.640000</td>\n",
       "      <td>50.801700</td>\n",
       "      <td>3492.330000</td>\n",
       "      <td>50.801700</td>\n",
       "    </tr>\n",
       "    <tr>\n",
       "      <th>max</th>\n",
       "      <td>177421.000000</td>\n",
       "      <td>7147.530000</td>\n",
       "      <td>58298.300000</td>\n",
       "      <td>9999.000000</td>\n",
       "      <td>NaN</td>\n",
       "      <td>4900.000000</td>\n",
       "      <td>80.431400</td>\n",
       "      <td>4200.000000</td>\n",
       "      <td>80.431400</td>\n",
       "    </tr>\n",
       "  </tbody>\n",
       "</table>\n",
       "</div>"
      ],
      "text/plain": [
       "            ad-count     background     chi-square          frame  particle  \\\n",
       "count  205975.000000  205975.000000  205975.000000  205975.000000         0   \n",
       "mean     5961.789793     742.002304    1000.376989    5172.442277       NaN   \n",
       "std     15735.554133     316.370985    2900.234056    2775.162190       NaN   \n",
       "min       338.324000     523.371000      50.035500       0.000000       NaN   \n",
       "25%       570.513000     611.951500     219.725000    2909.000000       NaN   \n",
       "50%       752.848000     652.932000     297.752000    5167.000000       NaN   \n",
       "75%      1255.420000     723.177500     399.925000    7557.000000       NaN   \n",
       "max    177421.000000    7147.530000   58298.300000    9999.000000       NaN   \n",
       "\n",
       "                   x  x-uncertainty              y  y-uncertainty  \n",
       "count  205975.000000  205975.000000  205975.000000  205975.000000  \n",
       "mean     2461.054084      36.751226    2167.324268      36.751226  \n",
       "std      1618.947414      19.834358    1347.698495      19.834358  \n",
       "min         0.000001       0.847267       0.000002       0.847267  \n",
       "25%       900.397000      24.931950     940.650000      24.931950  \n",
       "50%      2530.090000      39.065900    2080.190000      39.065900  \n",
       "75%      3957.640000      50.801700    3492.330000      50.801700  \n",
       "max      4900.000000      80.431400    4200.000000      80.431400  "
      ]
     },
     "execution_count": 77,
     "metadata": {},
     "output_type": "execute_result"
    }
   ],
   "source": [
    "pd.concat([df, corr.fiducialTrajectories[0]]).drop_duplicates(subset = ['x', 'y'], keep = False).describe()"
   ]
  },
  {
   "cell_type": "code",
   "execution_count": 64,
   "metadata": {
    "collapsed": false
   },
   "outputs": [
    {
     "data": {
      "text/html": [
       "<div>\n",
       "<table border=\"1\" class=\"dataframe\">\n",
       "  <thead>\n",
       "    <tr style=\"text-align: right;\">\n",
       "      <th></th>\n",
       "      <th>ad-count</th>\n",
       "      <th>background</th>\n",
       "      <th>chi-square</th>\n",
       "      <th>frame</th>\n",
       "      <th>particle</th>\n",
       "      <th>x</th>\n",
       "      <th>x-uncertainty</th>\n",
       "      <th>y</th>\n",
       "      <th>y-uncertainty</th>\n",
       "      <th>dx</th>\n",
       "      <th>dy</th>\n",
       "    </tr>\n",
       "  </thead>\n",
       "  <tbody>\n",
       "    <tr>\n",
       "      <th>count</th>\n",
       "      <td>206018.000000</td>\n",
       "      <td>206018.000000</td>\n",
       "      <td>206018.00000</td>\n",
       "      <td>206018.000000</td>\n",
       "      <td>0</td>\n",
       "      <td>206018.000000</td>\n",
       "      <td>206018.000000</td>\n",
       "      <td>206018.000000</td>\n",
       "      <td>206018.000000</td>\n",
       "      <td>206018.000000</td>\n",
       "      <td>206018.000000</td>\n",
       "    </tr>\n",
       "    <tr>\n",
       "      <th>mean</th>\n",
       "      <td>5963.846659</td>\n",
       "      <td>742.039032</td>\n",
       "      <td>1000.65586</td>\n",
       "      <td>5172.364405</td>\n",
       "      <td>NaN</td>\n",
       "      <td>2450.246146</td>\n",
       "      <td>36.746808</td>\n",
       "      <td>2191.500105</td>\n",
       "      <td>36.746808</td>\n",
       "      <td>10.773170</td>\n",
       "      <td>-24.068002</td>\n",
       "    </tr>\n",
       "    <tr>\n",
       "      <th>std</th>\n",
       "      <td>15738.685082</td>\n",
       "      <td>316.365634</td>\n",
       "      <td>2900.35229</td>\n",
       "      <td>2775.325997</td>\n",
       "      <td>NaN</td>\n",
       "      <td>1618.832996</td>\n",
       "      <td>19.836548</td>\n",
       "      <td>1348.180410</td>\n",
       "      <td>19.836548</td>\n",
       "      <td>6.794132</td>\n",
       "      <td>21.476977</td>\n",
       "    </tr>\n",
       "    <tr>\n",
       "      <th>min</th>\n",
       "      <td>338.324000</td>\n",
       "      <td>523.371000</td>\n",
       "      <td>50.03550</td>\n",
       "      <td>0.000000</td>\n",
       "      <td>NaN</td>\n",
       "      <td>-21.016902</td>\n",
       "      <td>0.847267</td>\n",
       "      <td>-4.604117</td>\n",
       "      <td>0.847267</td>\n",
       "      <td>-11.277247</td>\n",
       "      <td>-58.710463</td>\n",
       "    </tr>\n",
       "    <tr>\n",
       "      <th>25%</th>\n",
       "      <td>570.535250</td>\n",
       "      <td>611.960250</td>\n",
       "      <td>219.73225</td>\n",
       "      <td>2909.000000</td>\n",
       "      <td>NaN</td>\n",
       "      <td>890.537065</td>\n",
       "      <td>24.921125</td>\n",
       "      <td>963.986169</td>\n",
       "      <td>24.921125</td>\n",
       "      <td>10.285282</td>\n",
       "      <td>-44.950636</td>\n",
       "    </tr>\n",
       "    <tr>\n",
       "      <th>50%</th>\n",
       "      <td>752.917500</td>\n",
       "      <td>652.947000</td>\n",
       "      <td>297.76150</td>\n",
       "      <td>5167.000000</td>\n",
       "      <td>NaN</td>\n",
       "      <td>2518.918281</td>\n",
       "      <td>39.063350</td>\n",
       "      <td>2105.410782</td>\n",
       "      <td>39.063350</td>\n",
       "      <td>13.024147</td>\n",
       "      <td>-23.392957</td>\n",
       "    </tr>\n",
       "    <tr>\n",
       "      <th>75%</th>\n",
       "      <td>1255.942500</td>\n",
       "      <td>723.246000</td>\n",
       "      <td>399.98675</td>\n",
       "      <td>7557.000000</td>\n",
       "      <td>NaN</td>\n",
       "      <td>3945.801184</td>\n",
       "      <td>50.799400</td>\n",
       "      <td>3515.008229</td>\n",
       "      <td>50.799400</td>\n",
       "      <td>14.341150</td>\n",
       "      <td>-2.082358</td>\n",
       "    </tr>\n",
       "    <tr>\n",
       "      <th>max</th>\n",
       "      <td>177421.000000</td>\n",
       "      <td>7147.530000</td>\n",
       "      <td>58298.30000</td>\n",
       "      <td>9999.000000</td>\n",
       "      <td>NaN</td>\n",
       "      <td>4911.277206</td>\n",
       "      <td>80.431400</td>\n",
       "      <td>4258.710463</td>\n",
       "      <td>80.431400</td>\n",
       "      <td>21.021277</td>\n",
       "      <td>4.605352</td>\n",
       "    </tr>\n",
       "  </tbody>\n",
       "</table>\n",
       "</div>"
      ],
      "text/plain": [
       "            ad-count     background    chi-square          frame  particle  \\\n",
       "count  206018.000000  206018.000000  206018.00000  206018.000000         0   \n",
       "mean     5963.846659     742.039032    1000.65586    5172.364405       NaN   \n",
       "std     15738.685082     316.365634    2900.35229    2775.325997       NaN   \n",
       "min       338.324000     523.371000      50.03550       0.000000       NaN   \n",
       "25%       570.535250     611.960250     219.73225    2909.000000       NaN   \n",
       "50%       752.917500     652.947000     297.76150    5167.000000       NaN   \n",
       "75%      1255.942500     723.246000     399.98675    7557.000000       NaN   \n",
       "max    177421.000000    7147.530000   58298.30000    9999.000000       NaN   \n",
       "\n",
       "                   x  x-uncertainty              y  y-uncertainty  \\\n",
       "count  206018.000000  206018.000000  206018.000000  206018.000000   \n",
       "mean     2450.246146      36.746808    2191.500105      36.746808   \n",
       "std      1618.832996      19.836548    1348.180410      19.836548   \n",
       "min       -21.016902       0.847267      -4.604117       0.847267   \n",
       "25%       890.537065      24.921125     963.986169      24.921125   \n",
       "50%      2518.918281      39.063350    2105.410782      39.063350   \n",
       "75%      3945.801184      50.799400    3515.008229      50.799400   \n",
       "max      4911.277206      80.431400    4258.710463      80.431400   \n",
       "\n",
       "                  dx             dy  \n",
       "count  206018.000000  206018.000000  \n",
       "mean       10.773170     -24.068002  \n",
       "std         6.794132      21.476977  \n",
       "min       -11.277247     -58.710463  \n",
       "25%        10.285282     -44.950636  \n",
       "50%        13.024147     -23.392957  \n",
       "75%        14.341150      -2.082358  \n",
       "max        21.021277       4.605352  "
      ]
     },
     "execution_count": 64,
     "metadata": {},
     "output_type": "execute_result"
    }
   ],
   "source": [
    "df2.drop_duplicates(subset=['x','y'], keep = False).describe()"
   ]
  },
  {
   "cell_type": "code",
   "execution_count": null,
   "metadata": {
    "collapsed": true
   },
   "outputs": [],
   "source": []
  }
 ],
 "metadata": {
  "kernelspec": {
   "display_name": "Python 3",
   "language": "python",
   "name": "python3"
  },
  "language_info": {
   "codemirror_mode": {
    "name": "ipython",
    "version": 3
   },
   "file_extension": ".py",
   "mimetype": "text/x-python",
   "name": "python",
   "nbconvert_exporter": "python",
   "pygments_lexer": "ipython3",
   "version": "3.5.0"
  }
 },
 "nbformat": 4,
 "nbformat_minor": 0
}
